{
 "cells": [
  {
   "cell_type": "code",
   "execution_count": 33,
   "metadata": {},
   "outputs": [],
   "source": [
    "import qml "
   ]
  },
  {
   "cell_type": "code",
   "execution_count": 34,
   "metadata": {},
   "outputs": [],
   "source": [
    "from glob import glob\n",
    "import numpy as np"
   ]
  },
  {
   "cell_type": "code",
   "execution_count": 35,
   "metadata": {},
   "outputs": [],
   "source": [
    "database_xyzs = sorted(glob(\"../qm7/*.xyz\"))"
   ]
  },
  {
   "cell_type": "code",
   "execution_count": 36,
   "metadata": {},
   "outputs": [],
   "source": [
    "database_mols = [qml.Compound(x) for x in database_xyzs]"
   ]
  },
  {
   "cell_type": "code",
   "execution_count": 37,
   "metadata": {},
   "outputs": [],
   "source": [
    "def get_ncharges_coords(mol):\n",
    "    ncharges = mol.nuclear_charges\n",
    "    heavy_ints = [i for i,x in enumerate(ncharges) if x!=1]\n",
    "    heavy_ncharges = [ncharges[i] for i in heavy_ints]\n",
    "    coords = mol.coordinates\n",
    "    heavy_coords = [coords[i] for i in heavy_ints]\n",
    "    return heavy_ncharges, heavy_coords"
   ]
  },
  {
   "cell_type": "code",
   "execution_count": 38,
   "metadata": {},
   "outputs": [],
   "source": [
    "ncharges = [x.nuclear_charges for x in database_mols]"
   ]
  },
  {
   "cell_type": "code",
   "execution_count": 39,
   "metadata": {},
   "outputs": [],
   "source": [
    "mbtypes=qml.representations.get_slatm_mbtypes([[6,7,8,16]])"
   ]
  },
  {
   "cell_type": "code",
   "execution_count": 40,
   "metadata": {},
   "outputs": [
    {
     "data": {
      "text/plain": [
       "[[8],\n",
       " [16],\n",
       " [6],\n",
       " [7],\n",
       " [8, 8],\n",
       " [16, 16],\n",
       " [6, 6],\n",
       " [7, 7],\n",
       " (8, 16),\n",
       " (8, 6),\n",
       " (8, 7),\n",
       " (16, 6),\n",
       " (16, 7),\n",
       " (6, 7),\n",
       " [8, 16, 6],\n",
       " [8, 6, 16],\n",
       " [16, 8, 6],\n",
       " [8, 16, 7],\n",
       " [8, 7, 16],\n",
       " [16, 8, 7],\n",
       " [8, 6, 7],\n",
       " [8, 7, 6],\n",
       " [6, 8, 7],\n",
       " [16, 6, 7],\n",
       " [16, 7, 6],\n",
       " [6, 16, 7]]"
      ]
     },
     "execution_count": 40,
     "metadata": {},
     "output_type": "execute_result"
    }
   ],
   "source": [
    "mbtypes"
   ]
  },
  {
   "cell_type": "code",
   "execution_count": 41,
   "metadata": {},
   "outputs": [],
   "source": [
    "def get_rep(mol, mbtypes):\n",
    "    ncharges, coords = get_ncharges_coords(mol)\n",
    "    rep = np.array(qml.representations.generate_slatm(coords, ncharges, \n",
    "                                            mbtypes, local=True))\n",
    "    return ncharges, rep"
   ]
  },
  {
   "cell_type": "code",
   "execution_count": 42,
   "metadata": {},
   "outputs": [],
   "source": [
    "# pad size is based on largest target "
   ]
  },
  {
   "cell_type": "code",
   "execution_count": 43,
   "metadata": {},
   "outputs": [],
   "source": [
    "database_ncharges = []\n",
    "database_reps = []\n",
    "for mol in database_mols:\n",
    "    ncharge, rep = get_rep(mol, mbtypes)\n",
    "    database_ncharges.append(ncharge)\n",
    "    database_reps.append(rep)"
   ]
  },
  {
   "cell_type": "code",
   "execution_count": 44,
   "metadata": {},
   "outputs": [
    {
     "name": "stderr",
     "output_type": "stream",
     "text": [
      "<ipython-input-44-ff11eb7bdbf5>:1: VisibleDeprecationWarning: Creating an ndarray from ragged nested sequences (which is a list-or-tuple of lists-or-tuples-or ndarrays with different lengths or shapes) is deprecated. If you meant to do this, you must specify 'dtype=object' when creating the ndarray\n",
      "  database_reps = np.array(database_reps)\n"
     ]
    }
   ],
   "source": [
    "database_reps = np.array(database_reps)"
   ]
  },
  {
   "cell_type": "code",
   "execution_count": 45,
   "metadata": {},
   "outputs": [],
   "source": [
    "database_labels = [t.split(\"/\")[-1].split(\".xyz\")[0] for t in database_xyzs]"
   ]
  },
  {
   "cell_type": "code",
   "execution_count": 46,
   "metadata": {},
   "outputs": [],
   "source": [
    "database_labels = np.array(database_labels)"
   ]
  },
  {
   "cell_type": "code",
   "execution_count": 47,
   "metadata": {},
   "outputs": [
    {
     "name": "stderr",
     "output_type": "stream",
     "text": [
      "<ipython-input-47-defeabfdee20>:1: VisibleDeprecationWarning: Creating an ndarray from ragged nested sequences (which is a list-or-tuple of lists-or-tuples-or ndarrays with different lengths or shapes) is deprecated. If you meant to do this, you must specify 'dtype=object' when creating the ndarray\n",
      "  database_ncharges = np.array(database_ncharges)\n"
     ]
    }
   ],
   "source": [
    "database_ncharges = np.array(database_ncharges)"
   ]
  },
  {
   "cell_type": "code",
   "execution_count": 48,
   "metadata": {},
   "outputs": [
    {
     "data": {
      "text/plain": [
       "(1, 3110)"
      ]
     },
     "execution_count": 48,
     "metadata": {},
     "output_type": "execute_result"
    }
   ],
   "source": [
    "database_reps[0].shape"
   ]
  },
  {
   "cell_type": "code",
   "execution_count": 49,
   "metadata": {},
   "outputs": [],
   "source": [
    "np.savez(\"../representations/database_SLATM.npz\", \n",
    "         database_labels=database_labels, \n",
    "         database_reps=database_reps,\n",
    "        database_ncharges=database_ncharges)"
   ]
  },
  {
   "cell_type": "code",
   "execution_count": null,
   "metadata": {},
   "outputs": [],
   "source": []
  },
  {
   "cell_type": "code",
   "execution_count": null,
   "metadata": {},
   "outputs": [],
   "source": []
  },
  {
   "cell_type": "code",
   "execution_count": null,
   "metadata": {},
   "outputs": [],
   "source": []
  }
 ],
 "metadata": {
  "kernelspec": {
   "display_name": "Python 3",
   "language": "python",
   "name": "python3"
  },
  "language_info": {
   "codemirror_mode": {
    "name": "ipython",
    "version": 3
   },
   "file_extension": ".py",
   "mimetype": "text/x-python",
   "name": "python",
   "nbconvert_exporter": "python",
   "pygments_lexer": "ipython3",
   "version": "3.7.9"
  }
 },
 "nbformat": 4,
 "nbformat_minor": 4
}
