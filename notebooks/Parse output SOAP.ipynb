{
 "cells": [
  {
   "cell_type": "code",
   "execution_count": 1,
   "metadata": {},
   "outputs": [],
   "source": [
    "import pandas as pd "
   ]
  },
  {
   "cell_type": "code",
   "execution_count": 2,
   "metadata": {},
   "outputs": [],
   "source": [
    "import numpy as np"
   ]
  },
  {
   "cell_type": "code",
   "execution_count": 3,
   "metadata": {},
   "outputs": [
    {
     "name": "stdout",
     "output_type": "stream",
     "text": [
      "1_moreout.out  3_moreout.out  output_aCM.csv   output_SLATM.csv\r\n",
      "2_moreout.out  4_moreout.out  output_FCHL.csv  output_SOAP.csv\r\n"
     ]
    }
   ],
   "source": [
    "!ls ../out"
   ]
  },
  {
   "cell_type": "code",
   "execution_count": 4,
   "metadata": {},
   "outputs": [],
   "source": [
    "soap_out = pd.read_csv(\"../out/output_SOAP.csv\", index_col=0)"
   ]
  },
  {
   "cell_type": "code",
   "execution_count": 5,
   "metadata": {},
   "outputs": [
    {
     "data": {
      "text/html": [
       "<div>\n",
       "<style scoped>\n",
       "    .dataframe tbody tr th:only-of-type {\n",
       "        vertical-align: middle;\n",
       "    }\n",
       "\n",
       "    .dataframe tbody tr th {\n",
       "        vertical-align: top;\n",
       "    }\n",
       "\n",
       "    .dataframe thead th {\n",
       "        text-align: right;\n",
       "    }\n",
       "</style>\n",
       "<table border=\"1\" class=\"dataframe\">\n",
       "  <thead>\n",
       "    <tr style=\"text-align: right;\">\n",
       "      <th></th>\n",
       "      <th>SolN</th>\n",
       "      <th>Fragments</th>\n",
       "      <th>Excess</th>\n",
       "      <th>ObjValNoPen</th>\n",
       "      <th>ObjValWithPen</th>\n",
       "      <th>Assignments</th>\n",
       "    </tr>\n",
       "  </thead>\n",
       "  <tbody>\n",
       "    <tr>\n",
       "      <th>0</th>\n",
       "      <td>1</td>\n",
       "      <td>['qm7_4752', 'qm7_51']</td>\n",
       "      <td>[[], [6, 6]]</td>\n",
       "      <td>426.0</td>\n",
       "      <td>20426.0</td>\n",
       "      <td>[[(7, 1), (6, 2), (2, 3), (3, 4), (4, 5), (5, ...</td>\n",
       "    </tr>\n",
       "    <tr>\n",
       "      <th>1</th>\n",
       "      <td>2</td>\n",
       "      <td>['qm7_51', 'qm7_4752']</td>\n",
       "      <td>[[6, 6], []]</td>\n",
       "      <td>426.0</td>\n",
       "      <td>20426.0</td>\n",
       "      <td>[[(2, 7), (3, 8)], [(7, 1), (6, 2), (2, 3), (3...</td>\n",
       "    </tr>\n",
       "    <tr>\n",
       "      <th>2</th>\n",
       "      <td>3</td>\n",
       "      <td>['qm7_4752', 'qm7_51']</td>\n",
       "      <td>[[], [6, 6]]</td>\n",
       "      <td>426.0</td>\n",
       "      <td>20426.0</td>\n",
       "      <td>[[(7, 1), (6, 2), (2, 3), (3, 4), (4, 5), (5, ...</td>\n",
       "    </tr>\n",
       "    <tr>\n",
       "      <th>3</th>\n",
       "      <td>4</td>\n",
       "      <td>['qm7_4752', 'qm7_47']</td>\n",
       "      <td>[[6], [6]]</td>\n",
       "      <td>441.0</td>\n",
       "      <td>20441.0</td>\n",
       "      <td>[[(7, 1), (6, 2), (2, 3), (3, 4), (4, 5), (5, ...</td>\n",
       "    </tr>\n",
       "    <tr>\n",
       "      <th>4</th>\n",
       "      <td>5</td>\n",
       "      <td>['qm7_47', 'qm7_4752']</td>\n",
       "      <td>[[6], [6]]</td>\n",
       "      <td>441.0</td>\n",
       "      <td>20441.0</td>\n",
       "      <td>[[(4, 7), (3, 8), (2, 9)], [(7, 1), (6, 2), (2...</td>\n",
       "    </tr>\n",
       "    <tr>\n",
       "      <th>...</th>\n",
       "      <td>...</td>\n",
       "      <td>...</td>\n",
       "      <td>...</td>\n",
       "      <td>...</td>\n",
       "      <td>...</td>\n",
       "      <td>...</td>\n",
       "    </tr>\n",
       "    <tr>\n",
       "      <th>995</th>\n",
       "      <td>996</td>\n",
       "      <td>['qm7_6632', 'qm7_6339', 'qm7_1999']</td>\n",
       "      <td>[[6, 16, 8, 8, 6, 6], [], [6, 6, 6, 7, 6, 7]]</td>\n",
       "      <td>1090.0</td>\n",
       "      <td>121090.0</td>\n",
       "      <td>[[(7, 6)], [(7, 1), (6, 2), (4, 3), (3, 5), (1...</td>\n",
       "    </tr>\n",
       "    <tr>\n",
       "      <th>996</th>\n",
       "      <td>997</td>\n",
       "      <td>['qm7_6631', 'qm7_1580', 'qm7_5809']</td>\n",
       "      <td>[[6, 16, 8, 6, 6], [6, 7, 6, 7, 6, 7], [6]]</td>\n",
       "      <td>1090.0</td>\n",
       "      <td>121090.0</td>\n",
       "      <td>[[(7, 6), (3, 7)], [(1, 2)], [(4, 1), (6, 3), ...</td>\n",
       "    </tr>\n",
       "    <tr>\n",
       "      <th>997</th>\n",
       "      <td>998</td>\n",
       "      <td>['qm7_1582', 'qm7_6631', 'qm7_1580']</td>\n",
       "      <td>[[7, 6, 7, 7], [6, 16, 6, 6], [6, 6, 7, 6]]</td>\n",
       "      <td>1092.0</td>\n",
       "      <td>121092.0</td>\n",
       "      <td>[[(1, 2), (2, 3), (6, 9)], [(4, 1), (7, 6), (3...</td>\n",
       "    </tr>\n",
       "    <tr>\n",
       "      <th>998</th>\n",
       "      <td>999</td>\n",
       "      <td>['qm7_6112', 'qm7_6631', 'qm7_1580']</td>\n",
       "      <td>[[6], [6, 16, 8, 6, 6], [6, 7, 6, 7, 6, 7]]</td>\n",
       "      <td>1093.0</td>\n",
       "      <td>121093.0</td>\n",
       "      <td>[[(1, 1), (5, 3), (7, 4), (2, 5), (6, 8), (3, ...</td>\n",
       "    </tr>\n",
       "    <tr>\n",
       "      <th>999</th>\n",
       "      <td>1000</td>\n",
       "      <td>['qm7_6632', 'qm7_6390', 'qm7_1999']</td>\n",
       "      <td>[[6, 16, 8, 8, 6, 6], [], [6, 6, 6, 7, 6, 7]]</td>\n",
       "      <td>1094.0</td>\n",
       "      <td>121094.0</td>\n",
       "      <td>[[(7, 6)], [(5, 1), (4, 2), (6, 3), (7, 5), (1...</td>\n",
       "    </tr>\n",
       "  </tbody>\n",
       "</table>\n",
       "<p>1000 rows × 6 columns</p>\n",
       "</div>"
      ],
      "text/plain": [
       "     SolN                             Fragments  \\\n",
       "0       1                ['qm7_4752', 'qm7_51']   \n",
       "1       2                ['qm7_51', 'qm7_4752']   \n",
       "2       3                ['qm7_4752', 'qm7_51']   \n",
       "3       4                ['qm7_4752', 'qm7_47']   \n",
       "4       5                ['qm7_47', 'qm7_4752']   \n",
       "..    ...                                   ...   \n",
       "995   996  ['qm7_6632', 'qm7_6339', 'qm7_1999']   \n",
       "996   997  ['qm7_6631', 'qm7_1580', 'qm7_5809']   \n",
       "997   998  ['qm7_1582', 'qm7_6631', 'qm7_1580']   \n",
       "998   999  ['qm7_6112', 'qm7_6631', 'qm7_1580']   \n",
       "999  1000  ['qm7_6632', 'qm7_6390', 'qm7_1999']   \n",
       "\n",
       "                                            Excess  ObjValNoPen  \\\n",
       "0                                     [[], [6, 6]]        426.0   \n",
       "1                                     [[6, 6], []]        426.0   \n",
       "2                                     [[], [6, 6]]        426.0   \n",
       "3                                       [[6], [6]]        441.0   \n",
       "4                                       [[6], [6]]        441.0   \n",
       "..                                             ...          ...   \n",
       "995  [[6, 16, 8, 8, 6, 6], [], [6, 6, 6, 7, 6, 7]]       1090.0   \n",
       "996    [[6, 16, 8, 6, 6], [6, 7, 6, 7, 6, 7], [6]]       1090.0   \n",
       "997    [[7, 6, 7, 7], [6, 16, 6, 6], [6, 6, 7, 6]]       1092.0   \n",
       "998    [[6], [6, 16, 8, 6, 6], [6, 7, 6, 7, 6, 7]]       1093.0   \n",
       "999  [[6, 16, 8, 8, 6, 6], [], [6, 6, 6, 7, 6, 7]]       1094.0   \n",
       "\n",
       "     ObjValWithPen                                        Assignments  \n",
       "0          20426.0  [[(7, 1), (6, 2), (2, 3), (3, 4), (4, 5), (5, ...  \n",
       "1          20426.0  [[(2, 7), (3, 8)], [(7, 1), (6, 2), (2, 3), (3...  \n",
       "2          20426.0  [[(7, 1), (6, 2), (2, 3), (3, 4), (4, 5), (5, ...  \n",
       "3          20441.0  [[(7, 1), (6, 2), (2, 3), (3, 4), (4, 5), (5, ...  \n",
       "4          20441.0  [[(4, 7), (3, 8), (2, 9)], [(7, 1), (6, 2), (2...  \n",
       "..             ...                                                ...  \n",
       "995       121090.0  [[(7, 6)], [(7, 1), (6, 2), (4, 3), (3, 5), (1...  \n",
       "996       121090.0  [[(7, 6), (3, 7)], [(1, 2)], [(4, 1), (6, 3), ...  \n",
       "997       121092.0  [[(1, 2), (2, 3), (6, 9)], [(4, 1), (7, 6), (3...  \n",
       "998       121093.0  [[(1, 1), (5, 3), (7, 4), (2, 5), (6, 8), (3, ...  \n",
       "999       121094.0  [[(7, 6)], [(5, 1), (4, 2), (6, 3), (7, 5), (1...  \n",
       "\n",
       "[1000 rows x 6 columns]"
      ]
     },
     "execution_count": 5,
     "metadata": {},
     "output_type": "execute_result"
    }
   ],
   "source": [
    "soap_out"
   ]
  },
  {
   "cell_type": "code",
   "execution_count": 6,
   "metadata": {},
   "outputs": [],
   "source": [
    "from ast import literal_eval "
   ]
  },
  {
   "cell_type": "code",
   "execution_count": 7,
   "metadata": {},
   "outputs": [],
   "source": [
    "soap_out[\"Fragments\"] = soap_out[\"Fragments\"].apply(literal_eval)"
   ]
  },
  {
   "cell_type": "code",
   "execution_count": 8,
   "metadata": {},
   "outputs": [],
   "source": [
    "soap_out[\"Sorted Fragments\"] = soap_out[\"Fragments\"].apply(lambda x:sorted(x))"
   ]
  },
  {
   "cell_type": "code",
   "execution_count": 9,
   "metadata": {},
   "outputs": [
    {
     "data": {
      "text/plain": [
       "446"
      ]
     },
     "execution_count": 9,
     "metadata": {},
     "output_type": "execute_result"
    }
   ],
   "source": [
    "len(np.unique(soap_out[\"Sorted Fragments\"]))"
   ]
  },
  {
   "cell_type": "code",
   "execution_count": 58,
   "metadata": {},
   "outputs": [],
   "source": [
    "# excess is missing Hs - to fix "
   ]
  },
  {
   "cell_type": "code",
   "execution_count": 10,
   "metadata": {},
   "outputs": [],
   "source": [
    "import qml"
   ]
  },
  {
   "cell_type": "code",
   "execution_count": 11,
   "metadata": {},
   "outputs": [],
   "source": [
    "qm9_mol = qml.Compound(\"../targets/qm9_0.xyz\")\n",
    "qm9_ncharges = qm9_mol.nuclear_charges"
   ]
  },
  {
   "cell_type": "code",
   "execution_count": 12,
   "metadata": {},
   "outputs": [
    {
     "data": {
      "text/plain": [
       "array([8, 6, 6, 7, 6, 8, 8, 7, 6, 1, 1])"
      ]
     },
     "execution_count": 12,
     "metadata": {},
     "output_type": "execute_result"
    }
   ],
   "source": [
    "qm9_ncharges"
   ]
  },
  {
   "cell_type": "code",
   "execution_count": 13,
   "metadata": {},
   "outputs": [],
   "source": [
    "def count_ncharges(list_ncharges, elements=[1,6,7,8,16]):\n",
    "    ncharge_count = np.zeros(len(elements))\n",
    "    for ncharge in list_ncharges:\n",
    "        for i, elem in enumerate(elements):\n",
    "            if ncharge == elem:\n",
    "                ncharge_count[i] += 1\n",
    "    return ncharge_count"
   ]
  },
  {
   "cell_type": "code",
   "execution_count": 14,
   "metadata": {},
   "outputs": [],
   "source": [
    "qm9_counts = count_ncharges(qm9_ncharges)"
   ]
  },
  {
   "cell_type": "code",
   "execution_count": 15,
   "metadata": {},
   "outputs": [
    {
     "data": {
      "text/plain": [
       "array([2., 4., 2., 3., 0.])"
      ]
     },
     "execution_count": 15,
     "metadata": {},
     "output_type": "execute_result"
    }
   ],
   "source": [
    "qm9_counts"
   ]
  },
  {
   "cell_type": "code",
   "execution_count": 16,
   "metadata": {},
   "outputs": [],
   "source": [
    "def get_excess_frags(frag_list):\n",
    "    mols = [qml.Compound(\"../qm7/xyz/\"+x+\".xyz\") for x in frag_list]\n",
    "    ncharges = np.concatenate([mol.nuclear_charges for mol in mols])\n",
    "    ncharge_count = count_ncharges(ncharges)\n",
    "    \n",
    "    diff_count = ncharge_count - qm9_counts\n",
    "    excess = [[ncharge]*int(count) for ncharge, count in zip([1,6,7,8,16], diff_count)]\n",
    "    return np.concatenate(excess)"
   ]
  },
  {
   "cell_type": "code",
   "execution_count": 17,
   "metadata": {},
   "outputs": [
    {
     "data": {
      "text/plain": [
       "array([1., 1., 1., 1., 1., 1., 1., 1., 6., 6., 6., 6.])"
      ]
     },
     "execution_count": 17,
     "metadata": {},
     "output_type": "execute_result"
    }
   ],
   "source": [
    "get_excess_frags(['qm7_1107', 'qm7_5455'])"
   ]
  },
  {
   "cell_type": "code",
   "execution_count": 18,
   "metadata": {},
   "outputs": [],
   "source": [
    "soap_out[\"Excess\"] = soap_out[\"Fragments\"].apply(get_excess_frags)"
   ]
  },
  {
   "cell_type": "code",
   "execution_count": 20,
   "metadata": {},
   "outputs": [
    {
     "data": {
      "text/html": [
       "<div>\n",
       "<style scoped>\n",
       "    .dataframe tbody tr th:only-of-type {\n",
       "        vertical-align: middle;\n",
       "    }\n",
       "\n",
       "    .dataframe tbody tr th {\n",
       "        vertical-align: top;\n",
       "    }\n",
       "\n",
       "    .dataframe thead th {\n",
       "        text-align: right;\n",
       "    }\n",
       "</style>\n",
       "<table border=\"1\" class=\"dataframe\">\n",
       "  <thead>\n",
       "    <tr style=\"text-align: right;\">\n",
       "      <th></th>\n",
       "      <th>SolN</th>\n",
       "      <th>Fragments</th>\n",
       "      <th>Excess</th>\n",
       "      <th>ObjValNoPen</th>\n",
       "      <th>ObjValWithPen</th>\n",
       "      <th>Assignments</th>\n",
       "      <th>Sorted Fragments</th>\n",
       "    </tr>\n",
       "  </thead>\n",
       "  <tbody>\n",
       "    <tr>\n",
       "      <th>0</th>\n",
       "      <td>1</td>\n",
       "      <td>[qm7_4752, qm7_51]</td>\n",
       "      <td>[1.0, 1.0, 1.0, 1.0, 1.0, 1.0, 1.0, 1.0, 6.0, ...</td>\n",
       "      <td>426.0</td>\n",
       "      <td>20426.0</td>\n",
       "      <td>[[(7, 1), (6, 2), (2, 3), (3, 4), (4, 5), (5, ...</td>\n",
       "      <td>[qm7_4752, qm7_51]</td>\n",
       "    </tr>\n",
       "    <tr>\n",
       "      <th>1</th>\n",
       "      <td>2</td>\n",
       "      <td>[qm7_51, qm7_4752]</td>\n",
       "      <td>[1.0, 1.0, 1.0, 1.0, 1.0, 1.0, 1.0, 1.0, 6.0, ...</td>\n",
       "      <td>426.0</td>\n",
       "      <td>20426.0</td>\n",
       "      <td>[[(2, 7), (3, 8)], [(7, 1), (6, 2), (2, 3), (3...</td>\n",
       "      <td>[qm7_4752, qm7_51]</td>\n",
       "    </tr>\n",
       "    <tr>\n",
       "      <th>2</th>\n",
       "      <td>3</td>\n",
       "      <td>[qm7_4752, qm7_51]</td>\n",
       "      <td>[1.0, 1.0, 1.0, 1.0, 1.0, 1.0, 1.0, 1.0, 6.0, ...</td>\n",
       "      <td>426.0</td>\n",
       "      <td>20426.0</td>\n",
       "      <td>[[(7, 1), (6, 2), (2, 3), (3, 4), (4, 5), (5, ...</td>\n",
       "      <td>[qm7_4752, qm7_51]</td>\n",
       "    </tr>\n",
       "    <tr>\n",
       "      <th>3</th>\n",
       "      <td>4</td>\n",
       "      <td>[qm7_4752, qm7_47]</td>\n",
       "      <td>[1.0, 1.0, 1.0, 1.0, 1.0, 1.0, 1.0, 1.0, 6.0, ...</td>\n",
       "      <td>441.0</td>\n",
       "      <td>20441.0</td>\n",
       "      <td>[[(7, 1), (6, 2), (2, 3), (3, 4), (4, 5), (5, ...</td>\n",
       "      <td>[qm7_47, qm7_4752]</td>\n",
       "    </tr>\n",
       "    <tr>\n",
       "      <th>4</th>\n",
       "      <td>5</td>\n",
       "      <td>[qm7_47, qm7_4752]</td>\n",
       "      <td>[1.0, 1.0, 1.0, 1.0, 1.0, 1.0, 1.0, 1.0, 6.0, ...</td>\n",
       "      <td>441.0</td>\n",
       "      <td>20441.0</td>\n",
       "      <td>[[(4, 7), (3, 8), (2, 9)], [(7, 1), (6, 2), (2...</td>\n",
       "      <td>[qm7_47, qm7_4752]</td>\n",
       "    </tr>\n",
       "    <tr>\n",
       "      <th>...</th>\n",
       "      <td>...</td>\n",
       "      <td>...</td>\n",
       "      <td>...</td>\n",
       "      <td>...</td>\n",
       "      <td>...</td>\n",
       "      <td>...</td>\n",
       "      <td>...</td>\n",
       "    </tr>\n",
       "    <tr>\n",
       "      <th>995</th>\n",
       "      <td>996</td>\n",
       "      <td>[qm7_6632, qm7_6339, qm7_1999]</td>\n",
       "      <td>[1, 1, 1, 1, 1, 1, 1, 1, 1, 1, 1, 1, 1, 1, 1, ...</td>\n",
       "      <td>1090.0</td>\n",
       "      <td>121090.0</td>\n",
       "      <td>[[(7, 6)], [(7, 1), (6, 2), (4, 3), (3, 5), (1...</td>\n",
       "      <td>[qm7_1999, qm7_6339, qm7_6632]</td>\n",
       "    </tr>\n",
       "    <tr>\n",
       "      <th>996</th>\n",
       "      <td>997</td>\n",
       "      <td>[qm7_6631, qm7_1580, qm7_5809]</td>\n",
       "      <td>[1, 1, 1, 1, 1, 1, 1, 1, 1, 1, 1, 1, 1, 1, 1, ...</td>\n",
       "      <td>1090.0</td>\n",
       "      <td>121090.0</td>\n",
       "      <td>[[(7, 6), (3, 7)], [(1, 2)], [(4, 1), (6, 3), ...</td>\n",
       "      <td>[qm7_1580, qm7_5809, qm7_6631]</td>\n",
       "    </tr>\n",
       "    <tr>\n",
       "      <th>997</th>\n",
       "      <td>998</td>\n",
       "      <td>[qm7_1582, qm7_6631, qm7_1580]</td>\n",
       "      <td>[1.0, 1.0, 1.0, 1.0, 1.0, 1.0, 1.0, 1.0, 1.0, ...</td>\n",
       "      <td>1092.0</td>\n",
       "      <td>121092.0</td>\n",
       "      <td>[[(1, 2), (2, 3), (6, 9)], [(4, 1), (7, 6), (3...</td>\n",
       "      <td>[qm7_1580, qm7_1582, qm7_6631]</td>\n",
       "    </tr>\n",
       "    <tr>\n",
       "      <th>998</th>\n",
       "      <td>999</td>\n",
       "      <td>[qm7_6112, qm7_6631, qm7_1580]</td>\n",
       "      <td>[1, 1, 1, 1, 1, 1, 1, 1, 1, 1, 1, 1, 1, 1, 1, ...</td>\n",
       "      <td>1093.0</td>\n",
       "      <td>121093.0</td>\n",
       "      <td>[[(1, 1), (5, 3), (7, 4), (2, 5), (6, 8), (3, ...</td>\n",
       "      <td>[qm7_1580, qm7_6112, qm7_6631]</td>\n",
       "    </tr>\n",
       "    <tr>\n",
       "      <th>999</th>\n",
       "      <td>1000</td>\n",
       "      <td>[qm7_6632, qm7_6390, qm7_1999]</td>\n",
       "      <td>[1, 1, 1, 1, 1, 1, 1, 1, 1, 1, 1, 1, 1, 1, 6, ...</td>\n",
       "      <td>1094.0</td>\n",
       "      <td>121094.0</td>\n",
       "      <td>[[(7, 6)], [(5, 1), (4, 2), (6, 3), (7, 5), (1...</td>\n",
       "      <td>[qm7_1999, qm7_6390, qm7_6632]</td>\n",
       "    </tr>\n",
       "  </tbody>\n",
       "</table>\n",
       "<p>1000 rows × 7 columns</p>\n",
       "</div>"
      ],
      "text/plain": [
       "     SolN                       Fragments  \\\n",
       "0       1              [qm7_4752, qm7_51]   \n",
       "1       2              [qm7_51, qm7_4752]   \n",
       "2       3              [qm7_4752, qm7_51]   \n",
       "3       4              [qm7_4752, qm7_47]   \n",
       "4       5              [qm7_47, qm7_4752]   \n",
       "..    ...                             ...   \n",
       "995   996  [qm7_6632, qm7_6339, qm7_1999]   \n",
       "996   997  [qm7_6631, qm7_1580, qm7_5809]   \n",
       "997   998  [qm7_1582, qm7_6631, qm7_1580]   \n",
       "998   999  [qm7_6112, qm7_6631, qm7_1580]   \n",
       "999  1000  [qm7_6632, qm7_6390, qm7_1999]   \n",
       "\n",
       "                                                Excess  ObjValNoPen  \\\n",
       "0    [1.0, 1.0, 1.0, 1.0, 1.0, 1.0, 1.0, 1.0, 6.0, ...        426.0   \n",
       "1    [1.0, 1.0, 1.0, 1.0, 1.0, 1.0, 1.0, 1.0, 6.0, ...        426.0   \n",
       "2    [1.0, 1.0, 1.0, 1.0, 1.0, 1.0, 1.0, 1.0, 6.0, ...        426.0   \n",
       "3    [1.0, 1.0, 1.0, 1.0, 1.0, 1.0, 1.0, 1.0, 6.0, ...        441.0   \n",
       "4    [1.0, 1.0, 1.0, 1.0, 1.0, 1.0, 1.0, 1.0, 6.0, ...        441.0   \n",
       "..                                                 ...          ...   \n",
       "995  [1, 1, 1, 1, 1, 1, 1, 1, 1, 1, 1, 1, 1, 1, 1, ...       1090.0   \n",
       "996  [1, 1, 1, 1, 1, 1, 1, 1, 1, 1, 1, 1, 1, 1, 1, ...       1090.0   \n",
       "997  [1.0, 1.0, 1.0, 1.0, 1.0, 1.0, 1.0, 1.0, 1.0, ...       1092.0   \n",
       "998  [1, 1, 1, 1, 1, 1, 1, 1, 1, 1, 1, 1, 1, 1, 1, ...       1093.0   \n",
       "999  [1, 1, 1, 1, 1, 1, 1, 1, 1, 1, 1, 1, 1, 1, 6, ...       1094.0   \n",
       "\n",
       "     ObjValWithPen                                        Assignments  \\\n",
       "0          20426.0  [[(7, 1), (6, 2), (2, 3), (3, 4), (4, 5), (5, ...   \n",
       "1          20426.0  [[(2, 7), (3, 8)], [(7, 1), (6, 2), (2, 3), (3...   \n",
       "2          20426.0  [[(7, 1), (6, 2), (2, 3), (3, 4), (4, 5), (5, ...   \n",
       "3          20441.0  [[(7, 1), (6, 2), (2, 3), (3, 4), (4, 5), (5, ...   \n",
       "4          20441.0  [[(4, 7), (3, 8), (2, 9)], [(7, 1), (6, 2), (2...   \n",
       "..             ...                                                ...   \n",
       "995       121090.0  [[(7, 6)], [(7, 1), (6, 2), (4, 3), (3, 5), (1...   \n",
       "996       121090.0  [[(7, 6), (3, 7)], [(1, 2)], [(4, 1), (6, 3), ...   \n",
       "997       121092.0  [[(1, 2), (2, 3), (6, 9)], [(4, 1), (7, 6), (3...   \n",
       "998       121093.0  [[(1, 1), (5, 3), (7, 4), (2, 5), (6, 8), (3, ...   \n",
       "999       121094.0  [[(7, 6)], [(5, 1), (4, 2), (6, 3), (7, 5), (1...   \n",
       "\n",
       "                   Sorted Fragments  \n",
       "0                [qm7_4752, qm7_51]  \n",
       "1                [qm7_4752, qm7_51]  \n",
       "2                [qm7_4752, qm7_51]  \n",
       "3                [qm7_47, qm7_4752]  \n",
       "4                [qm7_47, qm7_4752]  \n",
       "..                              ...  \n",
       "995  [qm7_1999, qm7_6339, qm7_6632]  \n",
       "996  [qm7_1580, qm7_5809, qm7_6631]  \n",
       "997  [qm7_1580, qm7_1582, qm7_6631]  \n",
       "998  [qm7_1580, qm7_6112, qm7_6631]  \n",
       "999  [qm7_1999, qm7_6390, qm7_6632]  \n",
       "\n",
       "[1000 rows x 7 columns]"
      ]
     },
     "execution_count": 20,
     "metadata": {},
     "output_type": "execute_result"
    }
   ],
   "source": [
    "soap_out"
   ]
  },
  {
   "cell_type": "code",
   "execution_count": 21,
   "metadata": {},
   "outputs": [],
   "source": [
    "# get energies\n",
    "# qm7 energies are in qm7 dir \n",
    "# need qm9 energies and excess contribution"
   ]
  },
  {
   "cell_type": "code",
   "execution_count": 22,
   "metadata": {},
   "outputs": [],
   "source": [
    "from sklearn.linear_model import LinearRegression"
   ]
  },
  {
   "cell_type": "code",
   "execution_count": 23,
   "metadata": {},
   "outputs": [],
   "source": [
    "# need ncharges list and list of energies"
   ]
  },
  {
   "cell_type": "code",
   "execution_count": 24,
   "metadata": {},
   "outputs": [],
   "source": [
    "import qml"
   ]
  },
  {
   "cell_type": "code",
   "execution_count": 25,
   "metadata": {},
   "outputs": [],
   "source": [
    "qm7 = pd.read_csv(\"../qm7/energies.csv\", index_col=0)\n",
    "files = qm7[\"file\"].to_list()"
   ]
  },
  {
   "cell_type": "code",
   "execution_count": 26,
   "metadata": {},
   "outputs": [],
   "source": [
    "mols = [qml.Compound(\"../qm7/xyz/\"+x+\".xyz\") for x in files]"
   ]
  },
  {
   "cell_type": "code",
   "execution_count": 27,
   "metadata": {},
   "outputs": [],
   "source": [
    "ncharges = [mol.nuclear_charges for mol in mols]"
   ]
  },
  {
   "cell_type": "code",
   "execution_count": 28,
   "metadata": {},
   "outputs": [],
   "source": [
    "# ncharges convert to count\n",
    "elements = [1, 6, 7, 8, 16]\n",
    "ncharge_counts = []\n",
    "for ncharge_list in ncharges: \n",
    "    ncharge_count = count_ncharges(ncharge_list)\n",
    "    ncharge_counts.append(ncharge_count)"
   ]
  },
  {
   "cell_type": "code",
   "execution_count": 29,
   "metadata": {},
   "outputs": [],
   "source": [
    "energies = qm7[\"energy / Ha\"].to_list()"
   ]
  },
  {
   "cell_type": "code",
   "execution_count": 30,
   "metadata": {},
   "outputs": [],
   "source": [
    "reg = LinearRegression().fit(ncharge_counts, energies)"
   ]
  },
  {
   "cell_type": "code",
   "execution_count": 31,
   "metadata": {},
   "outputs": [
    {
     "data": {
      "text/plain": [
       "0.9999998316921461"
      ]
     },
     "execution_count": 31,
     "metadata": {},
     "output_type": "execute_result"
    }
   ],
   "source": [
    "reg.score(ncharge_counts, energies)"
   ]
  },
  {
   "cell_type": "code",
   "execution_count": 32,
   "metadata": {},
   "outputs": [],
   "source": [
    "coeff_energies = reg.coef_"
   ]
  },
  {
   "cell_type": "code",
   "execution_count": 33,
   "metadata": {},
   "outputs": [
    {
     "data": {
      "text/plain": [
       "array([  -0.61002842,  -38.01906467,  -54.64773278,  -75.09076869,\n",
       "       -397.94238855])"
      ]
     },
     "execution_count": 33,
     "metadata": {},
     "output_type": "execute_result"
    }
   ],
   "source": [
    "coeff_energies"
   ]
  },
  {
   "cell_type": "code",
   "execution_count": 34,
   "metadata": {},
   "outputs": [],
   "source": [
    "coeff_energies = dict(zip(elements, coeff_energies))"
   ]
  },
  {
   "cell_type": "code",
   "execution_count": 35,
   "metadata": {},
   "outputs": [],
   "source": [
    "def match_file_to_energy(filename):\n",
    "    energies = pd.read_csv(\"../qm7/energies.csv\")\n",
    "    energy = energies.loc[energies[\"file\"] == filename][\"energy / Ha\"]\n",
    "    return float(energy)"
   ]
  },
  {
   "cell_type": "code",
   "execution_count": 36,
   "metadata": {},
   "outputs": [],
   "source": [
    "def get_excess_energy(excess_ncharges):\n",
    "    energy = np.sum([coeff_energies[x] for x in excess_ncharges])\n",
    "    return energy"
   ]
  },
  {
   "cell_type": "code",
   "execution_count": 37,
   "metadata": {},
   "outputs": [],
   "source": [
    "def get_reaction_energy(fragment_list, excess_ncharges):\n",
    "    qm9_energy = -487.817450280942 # Ha\n",
    "    \n",
    "    excess_energy = get_excess_energy(excess_ncharges)\n",
    "    \n",
    "    frag_energies = np.sum([match_file_to_energy(x) for x in fragment_list])\n",
    "    \n",
    "    rxn_energy = frag_energies - qm9_energy - excess_energy\n",
    "    return rxn_energy"
   ]
  },
  {
   "cell_type": "code",
   "execution_count": 39,
   "metadata": {},
   "outputs": [],
   "source": [
    "soap_out[\"energies / Ha\"] = soap_out.apply(lambda x: get_reaction_energy(x[\"Fragments\"], x[\"Excess\"]), axis=1)"
   ]
  },
  {
   "cell_type": "code",
   "execution_count": 40,
   "metadata": {},
   "outputs": [],
   "source": [
    "soap_out[\"energies / kcal/mol\"] = soap_out[\"energies / Ha\"] * 627.5"
   ]
  },
  {
   "cell_type": "code",
   "execution_count": 41,
   "metadata": {},
   "outputs": [
    {
     "data": {
      "text/html": [
       "<div>\n",
       "<style scoped>\n",
       "    .dataframe tbody tr th:only-of-type {\n",
       "        vertical-align: middle;\n",
       "    }\n",
       "\n",
       "    .dataframe tbody tr th {\n",
       "        vertical-align: top;\n",
       "    }\n",
       "\n",
       "    .dataframe thead th {\n",
       "        text-align: right;\n",
       "    }\n",
       "</style>\n",
       "<table border=\"1\" class=\"dataframe\">\n",
       "  <thead>\n",
       "    <tr style=\"text-align: right;\">\n",
       "      <th></th>\n",
       "      <th>SolN</th>\n",
       "      <th>Fragments</th>\n",
       "      <th>Excess</th>\n",
       "      <th>ObjValNoPen</th>\n",
       "      <th>ObjValWithPen</th>\n",
       "      <th>Assignments</th>\n",
       "      <th>Sorted Fragments</th>\n",
       "      <th>energies / Ha</th>\n",
       "      <th>energies / kcal/mol</th>\n",
       "    </tr>\n",
       "  </thead>\n",
       "  <tbody>\n",
       "    <tr>\n",
       "      <th>0</th>\n",
       "      <td>1</td>\n",
       "      <td>[qm7_4752, qm7_51]</td>\n",
       "      <td>[1.0, 1.0, 1.0, 1.0, 1.0, 1.0, 1.0, 1.0, 6.0, ...</td>\n",
       "      <td>426.0</td>\n",
       "      <td>20426.0</td>\n",
       "      <td>[[(7, 1), (6, 2), (2, 3), (3, 4), (4, 5), (5, ...</td>\n",
       "      <td>[qm7_4752, qm7_51]</td>\n",
       "      <td>0.066453</td>\n",
       "      <td>41.699210</td>\n",
       "    </tr>\n",
       "    <tr>\n",
       "      <th>1</th>\n",
       "      <td>2</td>\n",
       "      <td>[qm7_51, qm7_4752]</td>\n",
       "      <td>[1.0, 1.0, 1.0, 1.0, 1.0, 1.0, 1.0, 1.0, 6.0, ...</td>\n",
       "      <td>426.0</td>\n",
       "      <td>20426.0</td>\n",
       "      <td>[[(2, 7), (3, 8)], [(7, 1), (6, 2), (2, 3), (3...</td>\n",
       "      <td>[qm7_4752, qm7_51]</td>\n",
       "      <td>0.066453</td>\n",
       "      <td>41.699210</td>\n",
       "    </tr>\n",
       "    <tr>\n",
       "      <th>2</th>\n",
       "      <td>3</td>\n",
       "      <td>[qm7_4752, qm7_51]</td>\n",
       "      <td>[1.0, 1.0, 1.0, 1.0, 1.0, 1.0, 1.0, 1.0, 6.0, ...</td>\n",
       "      <td>426.0</td>\n",
       "      <td>20426.0</td>\n",
       "      <td>[[(7, 1), (6, 2), (2, 3), (3, 4), (4, 5), (5, ...</td>\n",
       "      <td>[qm7_4752, qm7_51]</td>\n",
       "      <td>0.066453</td>\n",
       "      <td>41.699210</td>\n",
       "    </tr>\n",
       "    <tr>\n",
       "      <th>3</th>\n",
       "      <td>4</td>\n",
       "      <td>[qm7_4752, qm7_47]</td>\n",
       "      <td>[1.0, 1.0, 1.0, 1.0, 1.0, 1.0, 1.0, 1.0, 6.0, ...</td>\n",
       "      <td>441.0</td>\n",
       "      <td>20441.0</td>\n",
       "      <td>[[(7, 1), (6, 2), (2, 3), (3, 4), (4, 5), (5, ...</td>\n",
       "      <td>[qm7_47, qm7_4752]</td>\n",
       "      <td>0.045579</td>\n",
       "      <td>28.600976</td>\n",
       "    </tr>\n",
       "    <tr>\n",
       "      <th>4</th>\n",
       "      <td>5</td>\n",
       "      <td>[qm7_47, qm7_4752]</td>\n",
       "      <td>[1.0, 1.0, 1.0, 1.0, 1.0, 1.0, 1.0, 1.0, 6.0, ...</td>\n",
       "      <td>441.0</td>\n",
       "      <td>20441.0</td>\n",
       "      <td>[[(4, 7), (3, 8), (2, 9)], [(7, 1), (6, 2), (2...</td>\n",
       "      <td>[qm7_47, qm7_4752]</td>\n",
       "      <td>0.045579</td>\n",
       "      <td>28.600976</td>\n",
       "    </tr>\n",
       "    <tr>\n",
       "      <th>...</th>\n",
       "      <td>...</td>\n",
       "      <td>...</td>\n",
       "      <td>...</td>\n",
       "      <td>...</td>\n",
       "      <td>...</td>\n",
       "      <td>...</td>\n",
       "      <td>...</td>\n",
       "      <td>...</td>\n",
       "      <td>...</td>\n",
       "    </tr>\n",
       "    <tr>\n",
       "      <th>995</th>\n",
       "      <td>996</td>\n",
       "      <td>[qm7_6632, qm7_6339, qm7_1999]</td>\n",
       "      <td>[1, 1, 1, 1, 1, 1, 1, 1, 1, 1, 1, 1, 1, 1, 1, ...</td>\n",
       "      <td>1090.0</td>\n",
       "      <td>121090.0</td>\n",
       "      <td>[[(7, 6)], [(7, 1), (6, 2), (4, 3), (3, 5), (1...</td>\n",
       "      <td>[qm7_1999, qm7_6339, qm7_6632]</td>\n",
       "      <td>0.173886</td>\n",
       "      <td>109.113180</td>\n",
       "    </tr>\n",
       "    <tr>\n",
       "      <th>996</th>\n",
       "      <td>997</td>\n",
       "      <td>[qm7_6631, qm7_1580, qm7_5809]</td>\n",
       "      <td>[1, 1, 1, 1, 1, 1, 1, 1, 1, 1, 1, 1, 1, 1, 1, ...</td>\n",
       "      <td>1090.0</td>\n",
       "      <td>121090.0</td>\n",
       "      <td>[[(7, 6), (3, 7)], [(1, 2)], [(4, 1), (6, 3), ...</td>\n",
       "      <td>[qm7_1580, qm7_5809, qm7_6631]</td>\n",
       "      <td>0.205888</td>\n",
       "      <td>129.195017</td>\n",
       "    </tr>\n",
       "    <tr>\n",
       "      <th>997</th>\n",
       "      <td>998</td>\n",
       "      <td>[qm7_1582, qm7_6631, qm7_1580]</td>\n",
       "      <td>[1.0, 1.0, 1.0, 1.0, 1.0, 1.0, 1.0, 1.0, 1.0, ...</td>\n",
       "      <td>1092.0</td>\n",
       "      <td>121092.0</td>\n",
       "      <td>[[(1, 2), (2, 3), (6, 9)], [(4, 1), (7, 6), (3...</td>\n",
       "      <td>[qm7_1580, qm7_1582, qm7_6631]</td>\n",
       "      <td>0.145847</td>\n",
       "      <td>91.519268</td>\n",
       "    </tr>\n",
       "    <tr>\n",
       "      <th>998</th>\n",
       "      <td>999</td>\n",
       "      <td>[qm7_6112, qm7_6631, qm7_1580]</td>\n",
       "      <td>[1, 1, 1, 1, 1, 1, 1, 1, 1, 1, 1, 1, 1, 1, 1, ...</td>\n",
       "      <td>1093.0</td>\n",
       "      <td>121093.0</td>\n",
       "      <td>[[(1, 1), (5, 3), (7, 4), (2, 5), (6, 8), (3, ...</td>\n",
       "      <td>[qm7_1580, qm7_6112, qm7_6631]</td>\n",
       "      <td>0.126012</td>\n",
       "      <td>79.072430</td>\n",
       "    </tr>\n",
       "    <tr>\n",
       "      <th>999</th>\n",
       "      <td>1000</td>\n",
       "      <td>[qm7_6632, qm7_6390, qm7_1999]</td>\n",
       "      <td>[1, 1, 1, 1, 1, 1, 1, 1, 1, 1, 1, 1, 1, 1, 6, ...</td>\n",
       "      <td>1094.0</td>\n",
       "      <td>121094.0</td>\n",
       "      <td>[[(7, 6)], [(5, 1), (4, 2), (6, 3), (7, 5), (1...</td>\n",
       "      <td>[qm7_1999, qm7_6390, qm7_6632]</td>\n",
       "      <td>0.225674</td>\n",
       "      <td>141.610633</td>\n",
       "    </tr>\n",
       "  </tbody>\n",
       "</table>\n",
       "<p>1000 rows × 9 columns</p>\n",
       "</div>"
      ],
      "text/plain": [
       "     SolN                       Fragments  \\\n",
       "0       1              [qm7_4752, qm7_51]   \n",
       "1       2              [qm7_51, qm7_4752]   \n",
       "2       3              [qm7_4752, qm7_51]   \n",
       "3       4              [qm7_4752, qm7_47]   \n",
       "4       5              [qm7_47, qm7_4752]   \n",
       "..    ...                             ...   \n",
       "995   996  [qm7_6632, qm7_6339, qm7_1999]   \n",
       "996   997  [qm7_6631, qm7_1580, qm7_5809]   \n",
       "997   998  [qm7_1582, qm7_6631, qm7_1580]   \n",
       "998   999  [qm7_6112, qm7_6631, qm7_1580]   \n",
       "999  1000  [qm7_6632, qm7_6390, qm7_1999]   \n",
       "\n",
       "                                                Excess  ObjValNoPen  \\\n",
       "0    [1.0, 1.0, 1.0, 1.0, 1.0, 1.0, 1.0, 1.0, 6.0, ...        426.0   \n",
       "1    [1.0, 1.0, 1.0, 1.0, 1.0, 1.0, 1.0, 1.0, 6.0, ...        426.0   \n",
       "2    [1.0, 1.0, 1.0, 1.0, 1.0, 1.0, 1.0, 1.0, 6.0, ...        426.0   \n",
       "3    [1.0, 1.0, 1.0, 1.0, 1.0, 1.0, 1.0, 1.0, 6.0, ...        441.0   \n",
       "4    [1.0, 1.0, 1.0, 1.0, 1.0, 1.0, 1.0, 1.0, 6.0, ...        441.0   \n",
       "..                                                 ...          ...   \n",
       "995  [1, 1, 1, 1, 1, 1, 1, 1, 1, 1, 1, 1, 1, 1, 1, ...       1090.0   \n",
       "996  [1, 1, 1, 1, 1, 1, 1, 1, 1, 1, 1, 1, 1, 1, 1, ...       1090.0   \n",
       "997  [1.0, 1.0, 1.0, 1.0, 1.0, 1.0, 1.0, 1.0, 1.0, ...       1092.0   \n",
       "998  [1, 1, 1, 1, 1, 1, 1, 1, 1, 1, 1, 1, 1, 1, 1, ...       1093.0   \n",
       "999  [1, 1, 1, 1, 1, 1, 1, 1, 1, 1, 1, 1, 1, 1, 6, ...       1094.0   \n",
       "\n",
       "     ObjValWithPen                                        Assignments  \\\n",
       "0          20426.0  [[(7, 1), (6, 2), (2, 3), (3, 4), (4, 5), (5, ...   \n",
       "1          20426.0  [[(2, 7), (3, 8)], [(7, 1), (6, 2), (2, 3), (3...   \n",
       "2          20426.0  [[(7, 1), (6, 2), (2, 3), (3, 4), (4, 5), (5, ...   \n",
       "3          20441.0  [[(7, 1), (6, 2), (2, 3), (3, 4), (4, 5), (5, ...   \n",
       "4          20441.0  [[(4, 7), (3, 8), (2, 9)], [(7, 1), (6, 2), (2...   \n",
       "..             ...                                                ...   \n",
       "995       121090.0  [[(7, 6)], [(7, 1), (6, 2), (4, 3), (3, 5), (1...   \n",
       "996       121090.0  [[(7, 6), (3, 7)], [(1, 2)], [(4, 1), (6, 3), ...   \n",
       "997       121092.0  [[(1, 2), (2, 3), (6, 9)], [(4, 1), (7, 6), (3...   \n",
       "998       121093.0  [[(1, 1), (5, 3), (7, 4), (2, 5), (6, 8), (3, ...   \n",
       "999       121094.0  [[(7, 6)], [(5, 1), (4, 2), (6, 3), (7, 5), (1...   \n",
       "\n",
       "                   Sorted Fragments  energies / Ha  energies / kcal/mol  \n",
       "0                [qm7_4752, qm7_51]       0.066453            41.699210  \n",
       "1                [qm7_4752, qm7_51]       0.066453            41.699210  \n",
       "2                [qm7_4752, qm7_51]       0.066453            41.699210  \n",
       "3                [qm7_47, qm7_4752]       0.045579            28.600976  \n",
       "4                [qm7_47, qm7_4752]       0.045579            28.600976  \n",
       "..                              ...            ...                  ...  \n",
       "995  [qm7_1999, qm7_6339, qm7_6632]       0.173886           109.113180  \n",
       "996  [qm7_1580, qm7_5809, qm7_6631]       0.205888           129.195017  \n",
       "997  [qm7_1580, qm7_1582, qm7_6631]       0.145847            91.519268  \n",
       "998  [qm7_1580, qm7_6112, qm7_6631]       0.126012            79.072430  \n",
       "999  [qm7_1999, qm7_6390, qm7_6632]       0.225674           141.610633  \n",
       "\n",
       "[1000 rows x 9 columns]"
      ]
     },
     "execution_count": 41,
     "metadata": {},
     "output_type": "execute_result"
    }
   ],
   "source": [
    "soap_out"
   ]
  },
  {
   "cell_type": "code",
   "execution_count": 52,
   "metadata": {},
   "outputs": [],
   "source": [
    "import matplotlib.pyplot as plt\n",
    "import matplotlib\n",
    "matplotlib.rcParams.update({'font.size': 12})"
   ]
  },
  {
   "cell_type": "code",
   "execution_count": 56,
   "metadata": {},
   "outputs": [
    {
     "data": {
      "image/png": "[encoded data removed]",
      "text/plain": [
       "<Figure size 432x288 with 2 Axes>"
      ]
     },
     "metadata": {
      "needs_background": "light"
     },
     "output_type": "display_data"
    }
   ],
   "source": [
    "fig, ax = plt.subplots(nrows=1, ncols=2)\n",
    "ax[0].scatter(soap_out[\"ObjValNoPen\"], soap_out[\"energies / kcal/mol\"], s=10, color='orange')\n",
    "ax[0].set_xlabel(\"Objective value\")\n",
    "ax[0].set_ylabel(\"Reaction energy / kcal/mol\")\n",
    "\n",
    "x = np.exp(-soap_out[\"ObjValNoPen\"]/(2*100**2))\n",
    "ax[1].scatter(x, soap_out[\"energies / kcal/mol\"], s=10, color='orange')\n",
    "ax[1].set_xlabel(\"RBF(objective value)\")\n",
    "\n",
    "plt.tight_layout()\n",
    "plt.savefig(\"../figures/correlation-soap.png\", dpi=300)\n",
    "plt.show()"
   ]
  },
  {
   "cell_type": "code",
   "execution_count": null,
   "metadata": {},
   "outputs": [],
   "source": []
  }
 ],
 "metadata": {
  "kernelspec": {
   "display_name": "Python 3",
   "language": "python",
   "name": "python3"
  },
  "language_info": {
   "codemirror_mode": {
    "name": "ipython",
    "version": 3
   },
   "file_extension": ".py",
   "mimetype": "text/x-python",
   "name": "python",
   "nbconvert_exporter": "python",
   "pygments_lexer": "ipython3",
   "version": "3.8.3"
  }
 },
 "nbformat": 4,
 "nbformat_minor": 4
}
