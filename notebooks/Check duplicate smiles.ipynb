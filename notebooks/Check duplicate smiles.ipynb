{
 "cells": [
  {
   "cell_type": "code",
   "execution_count": 1,
   "id": "intelligent-reason",
   "metadata": {},
   "outputs": [],
   "source": [
    "import rdkit.Chem as Chem"
   ]
  },
  {
   "cell_type": "code",
   "execution_count": 2,
   "id": "necessary-marriage",
   "metadata": {},
   "outputs": [],
   "source": [
    "cans= ['C', 'N', 'S', 'O', 'CC', 'CS', 'CN', 'C=O', 'C=C', 'C(=O)O', 'C=CC=C', 'c1ccccc1', 'CC=C', 'CC(=C)C=C', 'Cc1ccccc1', 'CC=CC=C', 'CC=O', 'C=CCC=O', 'C=CC(=C)CC=O', 'c1ccc(cc1)CC=O', 'C=CC=CCC=O', 'C(=O)N', 'CC(=O)N', 'C=CCC(=O)N', 'C=CC(=C)CC(=O)N', 'c1ccc(cc1)CC(=O)N', 'C=CC=CCC(=O)N', 'CNC=O', 'CC(=O)NC', 'CNC(=O)CC=C', 'CNC(=O)CC(=C)C=C', 'CNC(=O)CC=CC=C', 'C(C=O)N', 'C(C=O)NC=O', 'CC(=O)NCC=O', 'C=CCC(=O)NCC=O', 'CCN', 'CC(C=O)N', 'CC(C=O)NC=O', 'CC(C=O)NC(=O)C', 'CC(C=O)NC(=O)CC=C', 'CCNC=O', 'CCNC(=O)C', 'CCNC(=O)CC=C', 'CCNC(=O)CC(=C)C=C', 'CCNC(=O)CC=CC=C', 'CCC=O', 'CCS', 'C(CS)N', 'C(C(C=O)N)S', 'C(C(C=O)NC=O)S', 'CC(=O)NC(CS)C=O', 'C(CS)NC=O', 'CC(=O)NCCS', 'C=CCC(=O)NCCS', 'C(CS)C=O', 'C(C(=O)N)N', 'C(C(=O)N)NC=O', 'CC(=O)NCC(=O)N', 'C=CCC(=O)NCC(=O)N', 'C(N)S', 'CC(N)S', 'C1C(NC1=O)S', 'C1(C(NC1=O)S)N', 'C(=O)NC1C(NC1=O)S', 'CC(=O)NC1C(NC1=O)S', 'C(C(N)S)N', 'C(C(N)S)NC=O', 'CC(=O)NCC(N)S', 'C=CCC(=O)NCC(N)S', 'C1CNC1=O', 'C1C(C(=O)N1)N', 'C1C(C(=O)N1)NC=O', 'CC(=O)NC1CNC1=O', 'C(CN)N', 'C(CNC=O)N', 'CC(=O)NCCN', 'C=CCC(=O)NCCN', 'C(NC=O)S', 'CC(=O)O', 'CNC', 'CN(CC=O)C=O', 'CN(CC(=O)O)C=O', 'C(C=O)N(CS)C=O', 'C(C(=O)O)N(CS)C=O', 'C1CN(C1=O)CC=O', 'C1CN(C1=O)CC(=O)O', 'C1C(N(C1=O)CC=O)S', 'C1C(N(C1=O)CC(=O)O)S', 'C(C=O)N1C(C(C1=O)N)S', 'C1C(C(=O)N1CC(=O)O)N', 'C1C(C(=O)N1CC=O)N', 'CN(C)C=O', 'CN(CS)C=O', 'CN1CCC1=O', 'CN1C(CC1=O)S', 'CN1C(C(C1=O)N)S', 'CN1C(C(C1=O)NC=O)S', 'CN1CC(C1=O)N', 'CN1CC(C1=O)NC=O', 'CC(=O)NC1CN(C1=O)C', 'C(C(=O)O)NC=O', 'CC(=O)NCC(=O)O', 'C(C(=O)NCC(=O)O)N', 'C(C=O)NC(=O)CN', 'C(C=O)NC(=O)CNC=O', 'CNC(=O)CN', 'CNC(=O)CNC=O', 'CC(=O)NCC(=O)NC', 'CNCC=O', 'CNCC(=O)O', 'C(C=O)NCS', 'C(C(=O)O)NCS', 'CCNCC=O', 'CCNCC(=O)O', 'CC(NCC=O)S', 'CC(NCC(=O)O)S', 'C(C(NCC(=O)O)S)N', 'C(C=O)NC(CN)S', 'C(C=O)NC(CNC=O)S', 'C(CNCC(=O)O)N', 'C(CNC=O)NCC(=O)O', 'C(CNCC=O)N', 'C(CNC=O)NCC=O', 'CC(=O)NCCNCC=O', 'CNCS', 'CCNC', 'CC(NC)S', 'CNC(CN)S', 'CNC(CNC=O)S', 'CC(=O)NCC(NC)S', 'CNCCN', 'CNCCNC=O', 'CC(=O)NCCNC', 'CNCCNC(=O)CC=C', 'C(C(=O)O)N', 'CSC', 'CCSC', 'CCSCN', 'CCSCC', 'CCSC(C)N', 'CCSC(CN)N', 'CCSC1C(C(=O)N1)N', 'CCSC(CNC=O)N', 'CCSC(CNC(=O)C)N', 'CCSC1CC(=O)N1', 'CCSCCN', 'CCSCC(C=O)N', 'CCSCC(C=O)NC=O', 'CCSCCNC=O', 'CCSCCNC(=O)C', 'CCSCCC=O', 'CCSCNC=O', 'CSCN', 'CC(N)SC', 'CSC(CN)N', 'CSC1C(C(=O)N1)N', 'CSC1C(C(=O)N1)NC=O', 'CSC(CNC=O)N', 'CC(=O)NCC(N)SC', 'CSC1CC(=O)N1', 'CSCCN', 'CSCC(C=O)N', 'CSCC(C=O)NC=O', 'CC(=O)NC(CSC)C=O', 'CSCCNC=O', 'CC(=O)NCCSC', 'CSCCNC(=O)CC=C', 'CSCCC=O', 'CSCNC=O', 'CCC', 'CC(C)S', 'CCCN', 'CC(CN)S', 'CC(C(C=O)N)S', 'CC(C(C(=O)O)N)S', 'CC1C(NCS1)C=O', 'CC1C(NCS1)C(=O)O', 'CC1C(NC(S1)C)C(=O)O', 'CC1C(N(CS1)C=O)C=O', 'CC1C(NC(S1)C)C=O', 'CC1C(NC(S1)CN)C=O', 'CC(C(C(=O)O)NC=O)S', 'CC(C(C=O)NC=O)S', 'CC(C(C=O)NC(=O)C)S', 'CCC(C=O)N', 'CCC(C=O)NC', 'CCC(C(=O)O)N', 'CCC(C(=O)O)NC', 'CCC(C(=O)O)N(C)C=O', 'CCC(C(=O)O)NC=O', 'CCC(C(=O)O)NC(=O)C', 'CCC(C(=O)O)NCC', 'CCC(C(=O)O)NCCN', 'CCC(C=O)N(C)C=O', 'CCC(C=O)N1CCC1=O', 'CCC(C=O)NC=O', 'CCC(C=O)NC(=O)C', 'CCC(C=O)NC(=O)CN', 'CCC(C=O)NCC', 'CCC(C=O)NCCN', 'C(C(C(=O)O)N)S', 'C1C(NCS1)C=O', 'C1C(NCS1)C(=O)O', 'C1C(N(CS1)C=O)C(=O)O', 'CC1NC(CS1)C(=O)O', 'C1C(NC(S1)CN)C(=O)O', 'C1C(N(CS1)C=O)C=O', 'C1C2N(C1=O)C(CS2)C=O', 'CC1NC(CS1)C=O', 'C1C(NC(S1)CN)C=O', 'C(C(C(=O)O)NC=O)S', 'CC(=O)NC(CS)C(=O)O', 'C(C(C=O)NC(=O)CN)S', 'CC(C=O)NC', 'CC(C(=O)O)N', 'CC(C(=O)O)NC', 'CC(C(=O)O)N(C)C=O', 'CC(C(=O)O)N1CCC1=O', 'CC(C(=O)O)NC=O', 'CC(C(=O)O)NC(=O)C', 'CC(C(=O)O)NC(=O)CN', 'CCNC(C)C(=O)O', 'CC(C(=O)O)NCCN', 'CC(C=O)N(C)C=O', 'CC(C=O)N1CCC1=O', 'CC(C=O)N1CC(C1=O)N', 'CC(C=O)NC(=O)CN', 'CCNC(C)C=O', 'CC(C=O)NCCN', 'CC(C=O)NCCNC=O', 'CC(CC=O)S', 'CC(CC(=O)O)S', 'CC(CC=O)SC', 'CC(CC(=O)O)SC', 'CCSC(C)CC(=O)O', 'CC(CC(=O)O)SCCN', 'CCSC(C)CC=O', 'CC(CC=O)SCCN', 'CC(CC=O)SCCC=O', 'CCCC=O', 'CCCC(=O)O', 'C(CS)C(=O)O', 'CSCCC(=O)O', 'CCSCCC(=O)O', 'C(CSCCN)C(=O)O', 'C(CSCCC(=O)O)C=O', 'C(CSCCN)C=O', 'C(CSCC(C=O)N)C=O', 'C(CSCCNC=O)C=O', 'C(CSCCC=O)C=O', 'CCC(=O)O', 'CC1CNCS1', 'CC1CN(CS1)C=O', 'CC1CN2C(S1)CC2=O', 'CC1CN2C(S1)C(C2=O)N', 'CC1CNC(S1)C', 'CC1CNC(S1)CN', 'CC1CNC(S1)CNC=O', 'CC(CNC=O)S', 'CC(CNC(=O)C)S', 'CC(CNC(=O)CN)S', 'CCCNC', 'CCCN(C)C=O', 'CCCN1CCC1=O', 'CCCN1CC(C1=O)N', 'CCCNC=O', 'CCCNC(=O)C', 'CCCNC(=O)CN', 'CCCNC(=O)CNC=O', 'CCCNCC', 'CCCNCCN', 'CCCNCCNC=O', 'CCCNCCNC(=O)C', 'C1CSCN1', 'C1CSCN1C=O', 'C1CSC2N1C(=O)C2', 'C1CSC2N1C(=O)C2N', 'CC1NCCS1', 'C1CSC(N1)CN', 'C1CSC(N1)CNC=O', 'CC(=O)NCC1NCCS1', 'C(CS)NC(=O)CN', 'C(CS)NC(=O)CNC=O', 'CCN(C)C=O', 'CCN1CCC1=O', 'CCN1CC(C1=O)N', 'CCN1CC(C1=O)NC=O', 'CCNC(=O)CN', 'CCNC(=O)CNC=O', 'CCNC(=O)CNC(=O)C', 'CCNCC', 'CCNCCN', 'CCNCCNC=O', 'CCNCCNC(=O)C', 'CC(C)SC', 'CCSC(C)C', 'CC(C)SCCN', 'CC(C)SCC(C=O)N', 'CC(C)SCCNC=O', 'CC(C)SCCNC(=O)C', 'CC(C)SCCC=O', 'CC(C)C', 'CC(C)(C)S', 'CC(C)(CN)S', 'CC(C)(C)SC', 'CC1(C(NCS1)C=O)C', 'CC1(C(NCS1)C(=O)O)C', 'CC1NC(C(S1)(C)C)C=O', 'CC(C)(CC=O)SC', 'CC(C)(CC(=O)O)SC', 'CCSC(C)(C)CC=O', 'CCSC(C)(C)CC(=O)O', 'CC(C)(CC=O)SCCN', 'CC1(CNCS1)C', 'CC1NCC(S1)(C)C', 'CC1(CN2C(S1)CC2=O)C', 'CC1(CNC(S1)CN)C', 'CC1(CN(CS1)C=O)C', 'CCSC(C)(C)C', 'CC(C)(C)SCCN', 'CC(C)(C)SCC(C=O)N', 'CC(C)(C)SCCNC=O', 'CC(C)(C)SCCC=O', 'CC(C)(C(C=O)N)S', 'CC(C)(C(C(=O)O)N)S', 'CC(C)(C(C=O)NC=O)S', 'CC(C)(CC=O)S', 'CC(C)(CC(=O)O)S', 'CC(C)(CNC=O)S', 'CC(=O)NCC(C)(C)S', 'CC(C)(CNC(=O)CN)S', 'CC(C)SCN', 'CC(C)SC(C)N', 'CC(C)SC(CN)N', 'CC(C)SC1C(C(=O)N1)N', 'CC(C)SC(CNC=O)N', 'CC(C)SC1CC(=O)N1', 'CC(C)SCNC=O', 'CC(C)CN', 'CC(C)C(C=O)N', 'CC(C)C(C=O)NC', 'CC(C)C(C(=O)O)N', 'CC(C)C(C(=O)O)NC', 'CC(C)C(C(=O)O)NC=O', 'CCNC(C(C)C)C(=O)O', 'CC(C)C(C=O)N(C)C=O', 'CC(C)C(C=O)NC=O', 'CC(C)C(C=O)NC(=O)C', 'CCNC(C=O)C(C)C', 'CC(C)C(C=O)NCCN', 'CC(C)CC=O', 'CC(C)CC(=O)O', 'CC(C)CNC', 'CC(C)CN(C)C=O', 'CC(C)CN1CCC1=O', 'CC(C)CN1CC(C1=O)N', 'CC(C)CNC=O', 'CC(C)CNC(=O)C', 'CC(C)CNC(=O)CN', 'CCNCC(C)C', 'CC(C)CNCCN', 'CC(C)CNCCNC=O']"
   ]
  },
  {
   "cell_type": "code",
   "execution_count": 3,
   "id": "forward-change",
   "metadata": {},
   "outputs": [],
   "source": [
    "mols = [Chem.MolFromSmiles(x) for x in cans]\n",
    "cans = [Chem.MolToSmiles(x) for x in mols]"
   ]
  },
  {
   "cell_type": "code",
   "execution_count": 4,
   "id": "collective-litigation",
   "metadata": {},
   "outputs": [],
   "source": [
    "with open(\"../extra-amons-penicillin/subgraphs.can\", \"r\") as f:\n",
    "    extra_cans = f.readlines()\n",
    "extra_cans = [x.strip() for x in extra_cans]"
   ]
  },
  {
   "cell_type": "code",
   "execution_count": 5,
   "id": "analyzed-waterproof",
   "metadata": {},
   "outputs": [
    {
     "data": {
      "text/plain": [
       "['C2CN1CCC1S2',\n",
       " 'O=C1CC2SCCN12',\n",
       " 'NC1CN2CCSC12',\n",
       " 'CC2CN1CCC1S2',\n",
       " 'CC1CSC2CCN12',\n",
       " 'NC1C(=O)N2CCSC12',\n",
       " 'CC2CN1C(=O)CC1S2',\n",
       " 'CC1CSC2CC(=O)N12',\n",
       " 'CC2CN1CC(N)C1S2',\n",
       " 'CC1CSC2C(N)CN12',\n",
       " 'CC2(C)CN1CCC1S2',\n",
       " 'CC2SC1CCN1C2C',\n",
       " 'CC2CN1C(=O)C(N)C1S2',\n",
       " 'CC1CSC2C(N)C(=O)N12',\n",
       " 'CC2N1CCC1SC2(C)C',\n",
       " 'CC2(C)CN1C(=O)CC1S2',\n",
       " 'CC2(C)CN1CC(N)C1S2',\n",
       " 'O=C(O)C2CSC1CCN12',\n",
       " 'O=C1CC2SCC(CO)N12',\n",
       " 'NC1CN2C(CO)CSC12',\n",
       " 'CC2SC1CCN1C2CO',\n",
       " 'O=CC1CSC2CC(=O)N12',\n",
       " 'NC1CN2C(C=O)CSC12',\n",
       " 'CC2SC1CCN1C2C=O',\n",
       " 'CCNC1CN2CCSC12',\n",
       " 'O=CNC1CN2CCSC12',\n",
       " 'CNC1C(=O)N2CCSC12',\n",
       " 'CNC1CN2CC(C)SC12',\n",
       " 'CNC1CN2C(C)CSC12',\n",
       " 'CNC1CN2CCSC12',\n",
       " 'OCC1CSC2CCN12',\n",
       " 'O=CC1CSC2CCN12']"
      ]
     },
     "execution_count": 5,
     "metadata": {},
     "output_type": "execute_result"
    }
   ],
   "source": [
    "extra_cans"
   ]
  },
  {
   "cell_type": "code",
   "execution_count": 6,
   "id": "stock-arlington",
   "metadata": {},
   "outputs": [],
   "source": [
    "extra_mols = [Chem.MolFromSmiles(x) for x in extra_cans]\n",
    "extra_cans = [Chem.MolToSmiles(x) for x in extra_mols]"
   ]
  },
  {
   "cell_type": "code",
   "execution_count": 7,
   "id": "criminal-unemployment",
   "metadata": {},
   "outputs": [
    {
     "name": "stdout",
     "output_type": "stream",
     "text": [
      "1\n",
      "5\n",
      "6\n",
      "12\n",
      "15\n",
      "21\n"
     ]
    }
   ],
   "source": [
    "for i, extra_can in enumerate(extra_cans):\n",
    "    boolean = extra_can in cans\n",
    "    if boolean: \n",
    "        print(i)"
   ]
  },
  {
   "cell_type": "code",
   "execution_count": 9,
   "id": "differential-tobago",
   "metadata": {},
   "outputs": [
    {
     "name": "stdout",
     "output_type": "stream",
     "text": [
      "209\n",
      "255\n",
      "256\n",
      "277\n",
      "278\n",
      "317\n"
     ]
    }
   ],
   "source": [
    "for i, can in enumerate(cans):\n",
    "    boolean = can in extra_cans\n",
    "    if boolean:\n",
    "        print(i+1)"
   ]
  },
  {
   "cell_type": "code",
   "execution_count": null,
   "id": "interesting-enterprise",
   "metadata": {},
   "outputs": [],
   "source": []
  }
 ],
 "metadata": {
  "kernelspec": {
   "display_name": "Python 3",
   "language": "python",
   "name": "python3"
  },
  "language_info": {
   "codemirror_mode": {
    "name": "ipython",
    "version": 3
   },
   "file_extension": ".py",
   "mimetype": "text/x-python",
   "name": "python",
   "nbconvert_exporter": "python",
   "pygments_lexer": "ipython3",
   "version": "3.7.9"
  }
 },
 "nbformat": 4,
 "nbformat_minor": 5
}
