{
 "cells": [
  {
   "cell_type": "code",
   "execution_count": 1,
   "metadata": {},
   "outputs": [],
   "source": [
    "import pandas as pd "
   ]
  },
  {
   "cell_type": "code",
   "execution_count": 2,
   "metadata": {},
   "outputs": [],
   "source": [
    "import numpy as np"
   ]
  },
  {
   "cell_type": "code",
   "execution_count": 3,
   "metadata": {},
   "outputs": [
    {
     "name": "stdout",
     "output_type": "stream",
     "text": [
      "0_amons_global.out  3_moreout.out\t    output_CM_global.csv\r\n",
      "1_amons_global.out  4_amons_global.out\t    output_FCHL.csv\r\n",
      "1_amons.out\t    4_amons.out\t\t    output_FCHL_global.csv\r\n",
      "1_moreout.out\t    4_moreout.out\t    output_SLATM.csv\r\n",
      "2_amons_global.out  output_aCM.csv\t    output_SLATM_global.csv\r\n",
      "2_amons.out\t    output_amons_aCM.csv    output_SOAP.csv\r\n",
      "2_moreout.out\t    output_amons_FCHL.csv   output_SPAHM_global.csv\r\n",
      "3_amons_global.out  output_amons_SLATM.csv\r\n",
      "3_amons.out\t    output_amons_SOAP.csv\r\n"
     ]
    }
   ],
   "source": [
    "!ls ../out"
   ]
  },
  {
   "cell_type": "code",
   "execution_count": 4,
   "metadata": {},
   "outputs": [],
   "source": [
    "slatm_out = pd.read_csv(\"../out/output_CM_global.csv\", index_col=0)"
   ]
  },
  {
   "cell_type": "code",
   "execution_count": 5,
   "metadata": {},
   "outputs": [
    {
     "data": {
      "text/html": [
       "<div>\n",
       "<style scoped>\n",
       "    .dataframe tbody tr th:only-of-type {\n",
       "        vertical-align: middle;\n",
       "    }\n",
       "\n",
       "    .dataframe tbody tr th {\n",
       "        vertical-align: top;\n",
       "    }\n",
       "\n",
       "    .dataframe thead th {\n",
       "        text-align: right;\n",
       "    }\n",
       "</style>\n",
       "<table border=\"1\" class=\"dataframe\">\n",
       "  <thead>\n",
       "    <tr style=\"text-align: right;\">\n",
       "      <th></th>\n",
       "      <th>SolN</th>\n",
       "      <th>Fragments</th>\n",
       "      <th>ObjValNoPen</th>\n",
       "      <th>ObjValWithPen</th>\n",
       "    </tr>\n",
       "  </thead>\n",
       "  <tbody>\n",
       "    <tr>\n",
       "      <th>0</th>\n",
       "      <td>1</td>\n",
       "      <td>['frag_02_c00001', 'frag_15_c00001']</td>\n",
       "      <td>14941.037533</td>\n",
       "      <td>14941.037533</td>\n",
       "    </tr>\n",
       "    <tr>\n",
       "      <th>1</th>\n",
       "      <td>2</td>\n",
       "      <td>['frag_02_c00001', 'frag_15_c00001']</td>\n",
       "      <td>14941.037533</td>\n",
       "      <td>14941.037533</td>\n",
       "    </tr>\n",
       "    <tr>\n",
       "      <th>2</th>\n",
       "      <td>3</td>\n",
       "      <td>['frag_02_c00001', 'frag_15_c00001']</td>\n",
       "      <td>14941.037533</td>\n",
       "      <td>14941.037533</td>\n",
       "    </tr>\n",
       "    <tr>\n",
       "      <th>3</th>\n",
       "      <td>4</td>\n",
       "      <td>['frag_02_c00001', 'frag_15_c00001']</td>\n",
       "      <td>14941.037533</td>\n",
       "      <td>14941.037533</td>\n",
       "    </tr>\n",
       "    <tr>\n",
       "      <th>4</th>\n",
       "      <td>5</td>\n",
       "      <td>['frag_02_c00001', 'frag_16_c00001']</td>\n",
       "      <td>16189.235114</td>\n",
       "      <td>16189.235114</td>\n",
       "    </tr>\n",
       "    <tr>\n",
       "      <th>...</th>\n",
       "      <td>...</td>\n",
       "      <td>...</td>\n",
       "      <td>...</td>\n",
       "      <td>...</td>\n",
       "    </tr>\n",
       "    <tr>\n",
       "      <th>995</th>\n",
       "      <td>996</td>\n",
       "      <td>['frag_01_c00001', 'frag_09_c00001', 'frag_11_...</td>\n",
       "      <td>70540.887222</td>\n",
       "      <td>60540.887222</td>\n",
       "    </tr>\n",
       "    <tr>\n",
       "      <th>996</th>\n",
       "      <td>997</td>\n",
       "      <td>['frag_02_c00001', 'frag_05_c00001', 'frag_13_...</td>\n",
       "      <td>80575.033421</td>\n",
       "      <td>60575.033421</td>\n",
       "    </tr>\n",
       "    <tr>\n",
       "      <th>997</th>\n",
       "      <td>998</td>\n",
       "      <td>['frag_02_c00001', 'frag_05_c00001', 'frag_13_...</td>\n",
       "      <td>80575.033421</td>\n",
       "      <td>60575.033421</td>\n",
       "    </tr>\n",
       "    <tr>\n",
       "      <th>998</th>\n",
       "      <td>999</td>\n",
       "      <td>['frag_02_c00001', 'frag_05_c00001', 'frag_13_...</td>\n",
       "      <td>80575.033421</td>\n",
       "      <td>60575.033421</td>\n",
       "    </tr>\n",
       "    <tr>\n",
       "      <th>999</th>\n",
       "      <td>1000</td>\n",
       "      <td>['frag_02_c00001', 'frag_05_c00001', 'frag_13_...</td>\n",
       "      <td>80575.033421</td>\n",
       "      <td>60575.033421</td>\n",
       "    </tr>\n",
       "  </tbody>\n",
       "</table>\n",
       "<p>1000 rows × 4 columns</p>\n",
       "</div>"
      ],
      "text/plain": [
       "     SolN                                          Fragments   ObjValNoPen  \\\n",
       "0       1               ['frag_02_c00001', 'frag_15_c00001']  14941.037533   \n",
       "1       2               ['frag_02_c00001', 'frag_15_c00001']  14941.037533   \n",
       "2       3               ['frag_02_c00001', 'frag_15_c00001']  14941.037533   \n",
       "3       4               ['frag_02_c00001', 'frag_15_c00001']  14941.037533   \n",
       "4       5               ['frag_02_c00001', 'frag_16_c00001']  16189.235114   \n",
       "..    ...                                                ...           ...   \n",
       "995   996  ['frag_01_c00001', 'frag_09_c00001', 'frag_11_...  70540.887222   \n",
       "996   997  ['frag_02_c00001', 'frag_05_c00001', 'frag_13_...  80575.033421   \n",
       "997   998  ['frag_02_c00001', 'frag_05_c00001', 'frag_13_...  80575.033421   \n",
       "998   999  ['frag_02_c00001', 'frag_05_c00001', 'frag_13_...  80575.033421   \n",
       "999  1000  ['frag_02_c00001', 'frag_05_c00001', 'frag_13_...  80575.033421   \n",
       "\n",
       "     ObjValWithPen  \n",
       "0     14941.037533  \n",
       "1     14941.037533  \n",
       "2     14941.037533  \n",
       "3     14941.037533  \n",
       "4     16189.235114  \n",
       "..             ...  \n",
       "995   60540.887222  \n",
       "996   60575.033421  \n",
       "997   60575.033421  \n",
       "998   60575.033421  \n",
       "999   60575.033421  \n",
       "\n",
       "[1000 rows x 4 columns]"
      ]
     },
     "execution_count": 5,
     "metadata": {},
     "output_type": "execute_result"
    }
   ],
   "source": [
    "slatm_out"
   ]
  },
  {
   "cell_type": "code",
   "execution_count": 6,
   "metadata": {},
   "outputs": [],
   "source": [
    "from ast import literal_eval "
   ]
  },
  {
   "cell_type": "code",
   "execution_count": 7,
   "metadata": {},
   "outputs": [],
   "source": [
    "slatm_out[\"Fragments\"] = slatm_out[\"Fragments\"].apply(literal_eval)"
   ]
  },
  {
   "cell_type": "code",
   "execution_count": 8,
   "metadata": {},
   "outputs": [],
   "source": [
    "slatm_out[\"Sorted Fragments\"] = slatm_out[\"Fragments\"].apply(lambda x:sorted(x))"
   ]
  },
  {
   "cell_type": "code",
   "execution_count": 9,
   "metadata": {},
   "outputs": [
    {
     "data": {
      "text/plain": [
       "168"
      ]
     },
     "execution_count": 9,
     "metadata": {},
     "output_type": "execute_result"
    }
   ],
   "source": [
    "len(np.unique(slatm_out[\"Sorted Fragments\"]))"
   ]
  },
  {
   "cell_type": "code",
   "execution_count": 10,
   "metadata": {},
   "outputs": [],
   "source": [
    "# excess is missing Hs - to fix "
   ]
  },
  {
   "cell_type": "code",
   "execution_count": 11,
   "metadata": {},
   "outputs": [],
   "source": [
    "import qml"
   ]
  },
  {
   "cell_type": "code",
   "execution_count": 12,
   "metadata": {},
   "outputs": [],
   "source": [
    "qm9_mol = qml.Compound(\"../targets/qm9_0.xyz\")\n",
    "qm9_ncharges = qm9_mol.nuclear_charges"
   ]
  },
  {
   "cell_type": "code",
   "execution_count": 13,
   "metadata": {},
   "outputs": [
    {
     "data": {
      "text/plain": [
       "array([8, 6, 6, 7, 6, 8, 8, 7, 6, 1, 1])"
      ]
     },
     "execution_count": 13,
     "metadata": {},
     "output_type": "execute_result"
    }
   ],
   "source": [
    "qm9_ncharges"
   ]
  },
  {
   "cell_type": "code",
   "execution_count": 115,
   "metadata": {},
   "outputs": [],
   "source": [
    "def count_ncharges(list_ncharges, elements=[1,6,7,8,16]):\n",
    "    ncharge_count = np.zeros(len(elements))\n",
    "    for ncharge in list_ncharges:\n",
    "        for i, elem in enumerate(elements):\n",
    "            if ncharge == elem:\n",
    "                ncharge_count[i] += 1\n",
    "    return ncharge_count"
   ]
  },
  {
   "cell_type": "code",
   "execution_count": 116,
   "metadata": {},
   "outputs": [],
   "source": [
    "qm9_counts = count_ncharges(qm9_ncharges)"
   ]
  },
  {
   "cell_type": "code",
   "execution_count": 117,
   "metadata": {},
   "outputs": [
    {
     "data": {
      "text/plain": [
       "array([2., 4., 2., 3., 0.])"
      ]
     },
     "execution_count": 117,
     "metadata": {},
     "output_type": "execute_result"
    }
   ],
   "source": [
    "qm9_counts"
   ]
  },
  {
   "cell_type": "code",
   "execution_count": 157,
   "metadata": {},
   "outputs": [],
   "source": [
    "def get_excess_frags(frag_list):\n",
    "    mols = [qml.Compound(\"../amons-qm9/\"+x+\".xyz\") for x in frag_list]\n",
    "    ncharges = np.concatenate([mol.nuclear_charges for mol in mols])\n",
    "    ncharge_count = count_ncharges(ncharges)\n",
    "    \n",
    "    diff_count = ncharge_count - qm9_counts\n",
    "    diff_count = np.array(diff_count).astype(int)\n",
    "    excess = []\n",
    "    for i, count in enumerate(diff_count): \n",
    "        ncharge = [1,6,7,8,16][i]\n",
    "        if count > 0 :\n",
    "            for i in range(count):\n",
    "                excess.append(ncharge)\n",
    "        elif count < 0:\n",
    "            for i in range(abs(count)):\n",
    "                excess.append(-ncharge)\n",
    "    return excess"
   ]
  },
  {
   "cell_type": "code",
   "execution_count": 158,
   "metadata": {},
   "outputs": [],
   "source": [
    "slatm_out[\"Excess\"] = slatm_out[\"Fragments\"].apply(get_excess_frags)"
   ]
  },
  {
   "cell_type": "code",
   "execution_count": 159,
   "metadata": {},
   "outputs": [
    {
     "data": {
      "text/html": [
       "<div>\n",
       "<style scoped>\n",
       "    .dataframe tbody tr th:only-of-type {\n",
       "        vertical-align: middle;\n",
       "    }\n",
       "\n",
       "    .dataframe tbody tr th {\n",
       "        vertical-align: top;\n",
       "    }\n",
       "\n",
       "    .dataframe thead th {\n",
       "        text-align: right;\n",
       "    }\n",
       "</style>\n",
       "<table border=\"1\" class=\"dataframe\">\n",
       "  <thead>\n",
       "    <tr style=\"text-align: right;\">\n",
       "      <th></th>\n",
       "      <th>SolN</th>\n",
       "      <th>Fragments</th>\n",
       "      <th>ObjValNoPen</th>\n",
       "      <th>ObjValWithPen</th>\n",
       "      <th>Sorted Fragments</th>\n",
       "      <th>Excess</th>\n",
       "    </tr>\n",
       "  </thead>\n",
       "  <tbody>\n",
       "    <tr>\n",
       "      <th>0</th>\n",
       "      <td>1</td>\n",
       "      <td>[frag_02_c00001, frag_15_c00001]</td>\n",
       "      <td>14941.037533</td>\n",
       "      <td>14941.037533</td>\n",
       "      <td>[frag_02_c00001, frag_15_c00001]</td>\n",
       "      <td>[1, 1, 1, 1, 1, 6, -7]</td>\n",
       "    </tr>\n",
       "    <tr>\n",
       "      <th>1</th>\n",
       "      <td>2</td>\n",
       "      <td>[frag_02_c00001, frag_15_c00001]</td>\n",
       "      <td>14941.037533</td>\n",
       "      <td>14941.037533</td>\n",
       "      <td>[frag_02_c00001, frag_15_c00001]</td>\n",
       "      <td>[1, 1, 1, 1, 1, 6, -7]</td>\n",
       "    </tr>\n",
       "    <tr>\n",
       "      <th>2</th>\n",
       "      <td>3</td>\n",
       "      <td>[frag_02_c00001, frag_15_c00001]</td>\n",
       "      <td>14941.037533</td>\n",
       "      <td>14941.037533</td>\n",
       "      <td>[frag_02_c00001, frag_15_c00001]</td>\n",
       "      <td>[1, 1, 1, 1, 1, 6, -7]</td>\n",
       "    </tr>\n",
       "    <tr>\n",
       "      <th>3</th>\n",
       "      <td>4</td>\n",
       "      <td>[frag_02_c00001, frag_15_c00001]</td>\n",
       "      <td>14941.037533</td>\n",
       "      <td>14941.037533</td>\n",
       "      <td>[frag_02_c00001, frag_15_c00001]</td>\n",
       "      <td>[1, 1, 1, 1, 1, 6, -7]</td>\n",
       "    </tr>\n",
       "    <tr>\n",
       "      <th>4</th>\n",
       "      <td>5</td>\n",
       "      <td>[frag_02_c00001, frag_16_c00001]</td>\n",
       "      <td>16189.235114</td>\n",
       "      <td>16189.235114</td>\n",
       "      <td>[frag_02_c00001, frag_16_c00001]</td>\n",
       "      <td>[1, 1, 1, 1, 6, -8]</td>\n",
       "    </tr>\n",
       "    <tr>\n",
       "      <th>...</th>\n",
       "      <td>...</td>\n",
       "      <td>...</td>\n",
       "      <td>...</td>\n",
       "      <td>...</td>\n",
       "      <td>...</td>\n",
       "      <td>...</td>\n",
       "    </tr>\n",
       "    <tr>\n",
       "      <th>995</th>\n",
       "      <td>996</td>\n",
       "      <td>[frag_01_c00001, frag_09_c00001, frag_11_c00001]</td>\n",
       "      <td>70540.887222</td>\n",
       "      <td>60540.887222</td>\n",
       "      <td>[frag_01_c00001, frag_09_c00001, frag_11_c00001]</td>\n",
       "      <td>[1, 1, 1, 1, 1, 1, 1, 6, -7, 8]</td>\n",
       "    </tr>\n",
       "    <tr>\n",
       "      <th>996</th>\n",
       "      <td>997</td>\n",
       "      <td>[frag_02_c00001, frag_05_c00001, frag_13_c00001]</td>\n",
       "      <td>80575.033421</td>\n",
       "      <td>60575.033421</td>\n",
       "      <td>[frag_02_c00001, frag_05_c00001, frag_13_c00001]</td>\n",
       "      <td>[1, 1, 1, 1, 1, 1, 1, 1, 6, 6]</td>\n",
       "    </tr>\n",
       "    <tr>\n",
       "      <th>997</th>\n",
       "      <td>998</td>\n",
       "      <td>[frag_02_c00001, frag_05_c00001, frag_13_c00001]</td>\n",
       "      <td>80575.033421</td>\n",
       "      <td>60575.033421</td>\n",
       "      <td>[frag_02_c00001, frag_05_c00001, frag_13_c00001]</td>\n",
       "      <td>[1, 1, 1, 1, 1, 1, 1, 1, 6, 6]</td>\n",
       "    </tr>\n",
       "    <tr>\n",
       "      <th>998</th>\n",
       "      <td>999</td>\n",
       "      <td>[frag_02_c00001, frag_05_c00001, frag_13_c00001]</td>\n",
       "      <td>80575.033421</td>\n",
       "      <td>60575.033421</td>\n",
       "      <td>[frag_02_c00001, frag_05_c00001, frag_13_c00001]</td>\n",
       "      <td>[1, 1, 1, 1, 1, 1, 1, 1, 6, 6]</td>\n",
       "    </tr>\n",
       "    <tr>\n",
       "      <th>999</th>\n",
       "      <td>1000</td>\n",
       "      <td>[frag_02_c00001, frag_05_c00001, frag_13_c00001]</td>\n",
       "      <td>80575.033421</td>\n",
       "      <td>60575.033421</td>\n",
       "      <td>[frag_02_c00001, frag_05_c00001, frag_13_c00001]</td>\n",
       "      <td>[1, 1, 1, 1, 1, 1, 1, 1, 6, 6]</td>\n",
       "    </tr>\n",
       "  </tbody>\n",
       "</table>\n",
       "<p>1000 rows × 6 columns</p>\n",
       "</div>"
      ],
      "text/plain": [
       "     SolN                                         Fragments   ObjValNoPen  \\\n",
       "0       1                  [frag_02_c00001, frag_15_c00001]  14941.037533   \n",
       "1       2                  [frag_02_c00001, frag_15_c00001]  14941.037533   \n",
       "2       3                  [frag_02_c00001, frag_15_c00001]  14941.037533   \n",
       "3       4                  [frag_02_c00001, frag_15_c00001]  14941.037533   \n",
       "4       5                  [frag_02_c00001, frag_16_c00001]  16189.235114   \n",
       "..    ...                                               ...           ...   \n",
       "995   996  [frag_01_c00001, frag_09_c00001, frag_11_c00001]  70540.887222   \n",
       "996   997  [frag_02_c00001, frag_05_c00001, frag_13_c00001]  80575.033421   \n",
       "997   998  [frag_02_c00001, frag_05_c00001, frag_13_c00001]  80575.033421   \n",
       "998   999  [frag_02_c00001, frag_05_c00001, frag_13_c00001]  80575.033421   \n",
       "999  1000  [frag_02_c00001, frag_05_c00001, frag_13_c00001]  80575.033421   \n",
       "\n",
       "     ObjValWithPen                                  Sorted Fragments  \\\n",
       "0     14941.037533                  [frag_02_c00001, frag_15_c00001]   \n",
       "1     14941.037533                  [frag_02_c00001, frag_15_c00001]   \n",
       "2     14941.037533                  [frag_02_c00001, frag_15_c00001]   \n",
       "3     14941.037533                  [frag_02_c00001, frag_15_c00001]   \n",
       "4     16189.235114                  [frag_02_c00001, frag_16_c00001]   \n",
       "..             ...                                               ...   \n",
       "995   60540.887222  [frag_01_c00001, frag_09_c00001, frag_11_c00001]   \n",
       "996   60575.033421  [frag_02_c00001, frag_05_c00001, frag_13_c00001]   \n",
       "997   60575.033421  [frag_02_c00001, frag_05_c00001, frag_13_c00001]   \n",
       "998   60575.033421  [frag_02_c00001, frag_05_c00001, frag_13_c00001]   \n",
       "999   60575.033421  [frag_02_c00001, frag_05_c00001, frag_13_c00001]   \n",
       "\n",
       "                              Excess  \n",
       "0             [1, 1, 1, 1, 1, 6, -7]  \n",
       "1             [1, 1, 1, 1, 1, 6, -7]  \n",
       "2             [1, 1, 1, 1, 1, 6, -7]  \n",
       "3             [1, 1, 1, 1, 1, 6, -7]  \n",
       "4                [1, 1, 1, 1, 6, -8]  \n",
       "..                               ...  \n",
       "995  [1, 1, 1, 1, 1, 1, 1, 6, -7, 8]  \n",
       "996   [1, 1, 1, 1, 1, 1, 1, 1, 6, 6]  \n",
       "997   [1, 1, 1, 1, 1, 1, 1, 1, 6, 6]  \n",
       "998   [1, 1, 1, 1, 1, 1, 1, 1, 6, 6]  \n",
       "999   [1, 1, 1, 1, 1, 1, 1, 1, 6, 6]  \n",
       "\n",
       "[1000 rows x 6 columns]"
      ]
     },
     "execution_count": 159,
     "metadata": {},
     "output_type": "execute_result"
    }
   ],
   "source": [
    "slatm_out"
   ]
  },
  {
   "cell_type": "code",
   "execution_count": 80,
   "metadata": {},
   "outputs": [],
   "source": [
    "# get energies\n",
    "# qm7 energies are in qm7 dir \n",
    "# need qm9 energies and excess contribution"
   ]
  },
  {
   "cell_type": "code",
   "execution_count": 164,
   "metadata": {},
   "outputs": [],
   "source": [
    "from sklearn.linear_model import LinearRegression"
   ]
  },
  {
   "cell_type": "code",
   "execution_count": 165,
   "metadata": {},
   "outputs": [],
   "source": [
    "# need ncharges list and list of energies"
   ]
  },
  {
   "cell_type": "code",
   "execution_count": 166,
   "metadata": {},
   "outputs": [],
   "source": [
    "import qml"
   ]
  },
  {
   "cell_type": "code",
   "execution_count": 167,
   "metadata": {},
   "outputs": [],
   "source": [
    "qm7 = pd.read_csv(\"../qm7/energies.csv\", index_col=0)\n",
    "files = qm7[\"file\"].to_list()"
   ]
  },
  {
   "cell_type": "code",
   "execution_count": 168,
   "metadata": {},
   "outputs": [],
   "source": [
    "mols = [qml.Compound(\"../qm7/xyz/\"+x+\".xyz\") for x in files]"
   ]
  },
  {
   "cell_type": "code",
   "execution_count": 169,
   "metadata": {},
   "outputs": [],
   "source": [
    "ncharges = [mol.nuclear_charges for mol in mols]"
   ]
  },
  {
   "cell_type": "code",
   "execution_count": 170,
   "metadata": {},
   "outputs": [],
   "source": [
    "# ncharges convert to count\n",
    "elements = [1, 6, 7, 8, 16]\n",
    "ncharge_counts = []\n",
    "for ncharge_list in ncharges: \n",
    "    ncharge_count = count_ncharges(ncharge_list)\n",
    "    ncharge_counts.append(ncharge_count)"
   ]
  },
  {
   "cell_type": "code",
   "execution_count": 171,
   "metadata": {},
   "outputs": [],
   "source": [
    "energies = qm7[\"energy / Ha\"].to_list()"
   ]
  },
  {
   "cell_type": "code",
   "execution_count": 172,
   "metadata": {},
   "outputs": [],
   "source": [
    "reg = LinearRegression().fit(ncharge_counts, energies)"
   ]
  },
  {
   "cell_type": "code",
   "execution_count": 173,
   "metadata": {},
   "outputs": [
    {
     "data": {
      "text/plain": [
       "0.9999998316921461"
      ]
     },
     "execution_count": 173,
     "metadata": {},
     "output_type": "execute_result"
    }
   ],
   "source": [
    "reg.score(ncharge_counts, energies)"
   ]
  },
  {
   "cell_type": "code",
   "execution_count": 174,
   "metadata": {},
   "outputs": [],
   "source": [
    "coeff_energies = reg.coef_"
   ]
  },
  {
   "cell_type": "code",
   "execution_count": 175,
   "metadata": {},
   "outputs": [],
   "source": [
    "coeff_energies = dict(zip(elements, coeff_energies))"
   ]
  },
  {
   "cell_type": "code",
   "execution_count": 176,
   "metadata": {},
   "outputs": [
    {
     "data": {
      "text/plain": [
       "{1: -0.610028423353568,\n",
       " 6: -38.01906466911171,\n",
       " 7: -54.647732784759256,\n",
       " 8: -75.09076868694648,\n",
       " 16: -397.9423885459585}"
      ]
     },
     "execution_count": 176,
     "metadata": {},
     "output_type": "execute_result"
    }
   ],
   "source": [
    "coeff_energies"
   ]
  },
  {
   "cell_type": "code",
   "execution_count": 94,
   "metadata": {},
   "outputs": [],
   "source": [
    "def match_file_to_energy(filename):\n",
    "    energies = pd.read_csv(\"../amons-qm9/energies.csv\")\n",
    "    energy = energies.loc[energies[\"file\"] == filename][\"energy / Ha\"]\n",
    "    energy = float(energy)\n",
    "    return energy"
   ]
  },
  {
   "cell_type": "code",
   "execution_count": 177,
   "metadata": {},
   "outputs": [],
   "source": [
    "def get_excess_energy(excess_ncharges):\n",
    "    energy = 0.\n",
    "    for ncharge in excess_ncharges:\n",
    "        if ncharge < 0:\n",
    "            ncharge = abs(ncharge)\n",
    "            energy += -1 * coeff_energies[ncharge]\n",
    "        else:\n",
    "            energy += coeff_energies[ncharge]\n",
    "    return energy"
   ]
  },
  {
   "cell_type": "code",
   "execution_count": 178,
   "metadata": {},
   "outputs": [],
   "source": [
    "def get_reaction_energy(fragment_list, excess_ncharges):\n",
    "    qm9_energy = -487.817450280942 # Ha\n",
    "    \n",
    "    excess_energy = get_excess_energy(excess_ncharges)\n",
    "    \n",
    "    frag_energies = np.sum([match_file_to_energy(x) for x in fragment_list])\n",
    "    \n",
    "    rxn_energy = frag_energies - qm9_energy - excess_energy\n",
    "    return rxn_energy"
   ]
  },
  {
   "cell_type": "code",
   "execution_count": 179,
   "metadata": {},
   "outputs": [],
   "source": [
    "slatm_out[\"energies / Ha\"] = slatm_out.apply(lambda x: get_reaction_energy(x[\"Fragments\"], x[\"Excess\"]),\n",
    "                                                     axis=1)"
   ]
  },
  {
   "cell_type": "code",
   "execution_count": 180,
   "metadata": {},
   "outputs": [],
   "source": [
    "slatm_out[\"energies / kcal/mol\"] = slatm_out[\"energies / Ha\"] * 627.5"
   ]
  },
  {
   "cell_type": "code",
   "execution_count": 182,
   "metadata": {},
   "outputs": [],
   "source": [
    "import matplotlib.pyplot as plt\n",
    "import matplotlib"
   ]
  },
  {
   "cell_type": "code",
   "execution_count": 183,
   "metadata": {},
   "outputs": [],
   "source": [
    "matplotlib.rcParams.update({'font.size': 12})"
   ]
  },
  {
   "cell_type": "code",
   "execution_count": 185,
   "metadata": {},
   "outputs": [
    {
     "data": {
      "image/png": "[encoded data removed]",
      "text/plain": [
       "<Figure size 432x288 with 2 Axes>"
      ]
     },
     "metadata": {
      "needs_background": "light"
     },
     "output_type": "display_data"
    }
   ],
   "source": [
    "fig, ax = plt.subplots(nrows=1, ncols=2)\n",
    "ax[0].scatter(np.sqrt(slatm_out[\"ObjValNoPen\"]), slatm_out[\"energies / kcal/mol\"], s=10)\n",
    "ax[0].set_xlabel(\"Sum of atom-wise L2-norm\")\n",
    "ax[0].set_ylabel(\"Reaction energy / kcal/mol\")\n",
    "\n",
    "x = np.exp(-slatm_out[\"ObjValNoPen\"]/(2*1000**2))\n",
    "ax[1].scatter(x, slatm_out[\"energies / kcal/mol\"], s=10)\n",
    "ax[1].set_xlabel(\"Similarity\")\n",
    "\n",
    "plt.tight_layout()\n",
    "plt.savefig(\"../figures/correlation-amons-cm-global.png\", dpi=300)\n",
    "plt.show()"
   ]
  },
  {
   "cell_type": "code",
   "execution_count": null,
   "metadata": {},
   "outputs": [],
   "source": []
  }
 ],
 "metadata": {
  "kernelspec": {
   "display_name": "Python 3",
   "language": "python",
   "name": "python3"
  },
  "language_info": {
   "codemirror_mode": {
    "name": "ipython",
    "version": 3
   },
   "file_extension": ".py",
   "mimetype": "text/x-python",
   "name": "python",
   "nbconvert_exporter": "python",
   "pygments_lexer": "ipython3",
   "version": "3.7.9"
  }
 },
 "nbformat": 4,
 "nbformat_minor": 4
}
