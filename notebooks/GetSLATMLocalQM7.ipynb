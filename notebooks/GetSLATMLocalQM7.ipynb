{
 "cells": [
  {
   "cell_type": "code",
   "execution_count": 1,
   "metadata": {},
   "outputs": [],
   "source": [
    "import qml "
   ]
  },
  {
   "cell_type": "code",
   "execution_count": 2,
   "metadata": {},
   "outputs": [],
   "source": [
    "from glob import glob\n",
    "import numpy as np"
   ]
  },
  {
   "cell_type": "code",
   "execution_count": 3,
   "metadata": {},
   "outputs": [],
   "source": [
    "NUCLEAR_CHARGE = {\n",
    "    \"H\":1,\n",
    "    \"C\":6,\n",
    "    \"O\":8,\n",
    "    \"N\":7,\n",
    "    \"F\":9,\n",
    "    \"Cl\":17,\n",
    "    \"S\":16\n",
    "}"
   ]
  },
  {
   "cell_type": "code",
   "execution_count": 4,
   "metadata": {},
   "outputs": [],
   "source": [
    "def read_xyz(filename):\n",
    "    with open(filename, \"r\") as f:\n",
    "        lines = f.readlines()\n",
    "\n",
    "    natoms = int(lines[0])\n",
    "    nuclear_charges = []\n",
    "    coordinates = []\n",
    "\n",
    "    for i, line in enumerate(lines[2:natoms+2]):\n",
    "        tokens = line.split()\n",
    "\n",
    "        if len(tokens) < 4:\n",
    "            break\n",
    "        \n",
    "        ncharge = tokens[0]\n",
    "        if ncharge != 'H':\n",
    "            nuclear_charges.append(NUCLEAR_CHARGE[tokens[0]])\n",
    "            coordinates.append([float(token) for token in tokens[1:4]])\n",
    "   \n",
    "    return nuclear_charges, coordinates"
   ]
  },
  {
   "cell_type": "code",
   "execution_count": 5,
   "metadata": {},
   "outputs": [],
   "source": [
    "qm7_files = sorted(glob(\"../qm7/*.xyz\"))"
   ]
  },
  {
   "cell_type": "code",
   "execution_count": 6,
   "metadata": {},
   "outputs": [],
   "source": [
    "conf_data = [read_xyz(x) for x in qm7_files]"
   ]
  },
  {
   "cell_type": "code",
   "execution_count": 7,
   "metadata": {},
   "outputs": [],
   "source": [
    "ncharges_list, coords_list = zip(*conf_data)"
   ]
  },
  {
   "cell_type": "code",
   "execution_count": 8,
   "metadata": {},
   "outputs": [
    {
     "data": {
      "text/plain": [
       "7165"
      ]
     },
     "execution_count": 8,
     "metadata": {},
     "output_type": "execute_result"
    }
   ],
   "source": [
    "len(ncharges_list)"
   ]
  },
  {
   "cell_type": "code",
   "execution_count": 9,
   "metadata": {},
   "outputs": [
    {
     "data": {
      "text/plain": [
       "7165"
      ]
     },
     "execution_count": 9,
     "metadata": {},
     "output_type": "execute_result"
    }
   ],
   "source": [
    "len(coords_list)"
   ]
  },
  {
   "cell_type": "code",
   "execution_count": 10,
   "metadata": {},
   "outputs": [],
   "source": [
    "qm7_ncharges = [6, 7, 8, 16]"
   ]
  },
  {
   "cell_type": "code",
   "execution_count": 11,
   "metadata": {},
   "outputs": [],
   "source": [
    "mbtypes = qml.representations.get_slatm_mbtypes([qm7_ncharges])"
   ]
  },
  {
   "cell_type": "code",
   "execution_count": 12,
   "metadata": {},
   "outputs": [
    {
     "data": {
      "text/plain": [
       "[[8],\n",
       " [16],\n",
       " [6],\n",
       " [7],\n",
       " [8, 8],\n",
       " [16, 16],\n",
       " [6, 6],\n",
       " [7, 7],\n",
       " (8, 16),\n",
       " (8, 6),\n",
       " (8, 7),\n",
       " (16, 6),\n",
       " (16, 7),\n",
       " (6, 7),\n",
       " [8, 16, 6],\n",
       " [8, 6, 16],\n",
       " [16, 8, 6],\n",
       " [8, 16, 7],\n",
       " [8, 7, 16],\n",
       " [16, 8, 7],\n",
       " [8, 6, 7],\n",
       " [8, 7, 6],\n",
       " [6, 8, 7],\n",
       " [16, 6, 7],\n",
       " [16, 7, 6],\n",
       " [6, 16, 7]]"
      ]
     },
     "execution_count": 12,
     "metadata": {},
     "output_type": "execute_result"
    }
   ],
   "source": [
    "mbtypes"
   ]
  },
  {
   "cell_type": "code",
   "execution_count": 13,
   "metadata": {},
   "outputs": [],
   "source": [
    "qm7_reps = [np.array(qml.representations.generate_slatm(coords_list[i], ncharges_list[i], \n",
    "                                                        mbtypes,\n",
    "                                              local=True)) for i in \n",
    "       range(len(ncharges_list))]"
   ]
  },
  {
   "cell_type": "code",
   "execution_count": 14,
   "metadata": {},
   "outputs": [],
   "source": [
    "qm7_reps = np.array(qm7_reps)"
   ]
  },
  {
   "cell_type": "code",
   "execution_count": 15,
   "metadata": {},
   "outputs": [
    {
     "data": {
      "text/plain": [
       "(1, 3110)"
      ]
     },
     "execution_count": 15,
     "metadata": {},
     "output_type": "execute_result"
    }
   ],
   "source": [
    "qm7_reps[0].shape"
   ]
  },
  {
   "cell_type": "code",
   "execution_count": 16,
   "metadata": {},
   "outputs": [],
   "source": [
    "qm7_labels = [t.split(\"/\")[-1].split(\".xyz\")[0] for t in qm7_files]"
   ]
  },
  {
   "cell_type": "code",
   "execution_count": 17,
   "metadata": {},
   "outputs": [],
   "source": [
    "# np save "
   ]
  },
  {
   "cell_type": "code",
   "execution_count": 18,
   "metadata": {},
   "outputs": [],
   "source": [
    "np.savez(\"../representations/qm7_SLATM_local_data.npz\", \n",
    "         qm7_labels=qm7_labels,\n",
    "         qm7_ncharges=ncharges_list,\n",
    "         qm7_reps=qm7_reps\n",
    "        )"
   ]
  },
  {
   "cell_type": "code",
   "execution_count": null,
   "metadata": {},
   "outputs": [],
   "source": []
  }
 ],
 "metadata": {
  "kernelspec": {
   "display_name": "Python 3",
   "language": "python",
   "name": "python3"
  },
  "language_info": {
   "codemirror_mode": {
    "name": "ipython",
    "version": 3
   },
   "file_extension": ".py",
   "mimetype": "text/x-python",
   "name": "python",
   "nbconvert_exporter": "python",
   "pygments_lexer": "ipython3",
   "version": "3.8.3"
  }
 },
 "nbformat": 4,
 "nbformat_minor": 4
}
