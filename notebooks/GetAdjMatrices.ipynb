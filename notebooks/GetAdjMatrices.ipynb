{
 "cells": [
  {
   "cell_type": "code",
   "execution_count": 1,
   "id": "athletic-geneva",
   "metadata": {},
   "outputs": [],
   "source": [
    "from rdkit import Chem"
   ]
  },
  {
   "cell_type": "code",
   "execution_count": 2,
   "id": "statutory-worse",
   "metadata": {},
   "outputs": [],
   "source": [
    "suppl = Chem.SDMolSupplier(\"../targets/qm9.sdf\")"
   ]
  },
  {
   "cell_type": "code",
   "execution_count": 3,
   "id": "optional-oakland",
   "metadata": {},
   "outputs": [],
   "source": [
    "mol = suppl[0]"
   ]
  },
  {
   "cell_type": "code",
   "execution_count": 4,
   "id": "possible-grain",
   "metadata": {},
   "outputs": [
    {
     "data": {
      "image/png": "[encoded data removed]",
      "text/plain": [
       "<rdkit.Chem.rdchem.Mol at 0x7fb02e1d5260>"
      ]
     },
     "execution_count": 4,
     "metadata": {},
     "output_type": "execute_result"
    }
   ],
   "source": [
    "mol"
   ]
  },
  {
   "cell_type": "code",
   "execution_count": 5,
   "id": "tough-algeria",
   "metadata": {},
   "outputs": [],
   "source": [
    "adj = Chem.rdmolops.GetAdjacencyMatrix(mol)"
   ]
  },
  {
   "cell_type": "code",
   "execution_count": 6,
   "id": "smoking-french",
   "metadata": {},
   "outputs": [
    {
     "data": {
      "text/plain": [
       "array([[0, 1, 0, 0, 0, 0, 0, 0, 0],\n",
       "       [1, 0, 1, 0, 0, 0, 0, 0, 0],\n",
       "       [0, 1, 0, 1, 0, 0, 0, 0, 1],\n",
       "       [0, 0, 1, 0, 1, 0, 0, 0, 0],\n",
       "       [0, 0, 0, 1, 0, 1, 1, 0, 0],\n",
       "       [0, 0, 0, 0, 1, 0, 0, 0, 0],\n",
       "       [0, 0, 0, 0, 1, 0, 0, 1, 0],\n",
       "       [0, 0, 0, 0, 0, 0, 1, 0, 1],\n",
       "       [0, 0, 1, 0, 0, 0, 0, 1, 0]], dtype=int32)"
      ]
     },
     "execution_count": 6,
     "metadata": {},
     "output_type": "execute_result"
    }
   ],
   "source": [
    "adj"
   ]
  },
  {
   "cell_type": "code",
   "execution_count": 7,
   "id": "systematic-behavior",
   "metadata": {},
   "outputs": [],
   "source": [
    "import numpy as np"
   ]
  },
  {
   "cell_type": "code",
   "execution_count": 8,
   "id": "headed-bridges",
   "metadata": {},
   "outputs": [],
   "source": [
    "np.save(\"../connectivity/qm9_adj.npy\", adj)"
   ]
  },
  {
   "cell_type": "code",
   "execution_count": 9,
   "id": "knowing-hampton",
   "metadata": {},
   "outputs": [],
   "source": [
    "from glob import glob "
   ]
  },
  {
   "cell_type": "code",
   "execution_count": 13,
   "id": "athletic-madonna",
   "metadata": {},
   "outputs": [],
   "source": [
    "amons_qm9 = sorted(glob(\"../amons-qm9/*.sdf\"))"
   ]
  },
  {
   "cell_type": "code",
   "execution_count": 15,
   "id": "controlling-mirror",
   "metadata": {},
   "outputs": [],
   "source": [
    "mols = [Chem.SDMolSupplier(x)[0] for x in amons_qm9]"
   ]
  },
  {
   "cell_type": "code",
   "execution_count": 16,
   "id": "promising-disabled",
   "metadata": {},
   "outputs": [],
   "source": [
    "adjs = [Chem.rdmolops.GetAdjacencyMatrix(m) for m in mols]"
   ]
  },
  {
   "cell_type": "code",
   "execution_count": 20,
   "id": "enhanced-pocket",
   "metadata": {},
   "outputs": [],
   "source": [
    "labels = [x.split(\"/\")[-1].split(\".sdf\")[0] for x in amons_qm9]"
   ]
  },
  {
   "cell_type": "code",
   "execution_count": 22,
   "id": "finnish-ordinance",
   "metadata": {},
   "outputs": [
    {
     "name": "stderr",
     "output_type": "stream",
     "text": [
      "/home/puck/anaconda3/envs/rdkit/lib/python3.7/site-packages/numpy/core/_asarray.py:136: VisibleDeprecationWarning: Creating an ndarray from ragged nested sequences (which is a list-or-tuple of lists-or-tuples-or ndarrays with different lengths or shapes) is deprecated. If you meant to do this, you must specify 'dtype=object' when creating the ndarray\n",
      "  return array(a, dtype, copy=False, order=order, subok=True)\n"
     ]
    }
   ],
   "source": [
    "np.savez(\"../connectivity/qm9_amons_adjs.npz\", adjs=adjs, labels=labels)"
   ]
  },
  {
   "cell_type": "code",
   "execution_count": 24,
   "id": "every-animal",
   "metadata": {},
   "outputs": [],
   "source": [
    "x = np.load(\"../connectivity/qm9_amons_adjs.npz\")"
   ]
  },
  {
   "cell_type": "code",
   "execution_count": 25,
   "id": "insured-arrival",
   "metadata": {},
   "outputs": [
    {
     "data": {
      "text/plain": [
       "['adjs', 'labels']"
      ]
     },
     "execution_count": 25,
     "metadata": {},
     "output_type": "execute_result"
    }
   ],
   "source": [
    "list(x)"
   ]
  },
  {
   "cell_type": "code",
   "execution_count": null,
   "id": "sublime-europe",
   "metadata": {},
   "outputs": [],
   "source": []
  }
 ],
 "metadata": {
  "kernelspec": {
   "display_name": "Python 3",
   "language": "python",
   "name": "python3"
  },
  "language_info": {
   "codemirror_mode": {
    "name": "ipython",
    "version": 3
   },
   "file_extension": ".py",
   "mimetype": "text/x-python",
   "name": "python",
   "nbconvert_exporter": "python",
   "pygments_lexer": "ipython3",
   "version": "3.7.9"
  }
 },
 "nbformat": 4,
 "nbformat_minor": 5
}
