{
 "cells": [
  {
   "cell_type": "code",
   "execution_count": 23,
   "metadata": {},
   "outputs": [],
   "source": [
    "from dscribe.descriptors import SOAP"
   ]
  },
  {
   "cell_type": "code",
   "execution_count": 24,
   "metadata": {},
   "outputs": [],
   "source": [
    "from glob import glob\n",
    "import numpy as np"
   ]
  },
  {
   "cell_type": "code",
   "execution_count": 25,
   "metadata": {},
   "outputs": [],
   "source": [
    "def read_xyz(filename):\n",
    "    with open(filename, \"r\") as f:\n",
    "        lines = f.readlines()\n",
    "\n",
    "    natoms = int(lines[0])\n",
    "    nuclear_charges = []\n",
    "    coordinates = []\n",
    "\n",
    "    for i, line in enumerate(lines[2:natoms+2]):\n",
    "        tokens = line.split()\n",
    "\n",
    "        if len(tokens) < 4:\n",
    "            break\n",
    "        \n",
    "        ncharge = tokens[0]\n",
    "        if ncharge != 'H':\n",
    "            nuclear_charges.append(tokens[0])\n",
    "            coordinates.append([float(token) for token in tokens[1:4]])\n",
    "   \n",
    "    return nuclear_charges, coordinates"
   ]
  },
  {
   "cell_type": "code",
   "execution_count": 26,
   "metadata": {},
   "outputs": [],
   "source": [
    "import ase"
   ]
  },
  {
   "cell_type": "code",
   "execution_count": 27,
   "metadata": {},
   "outputs": [],
   "source": [
    "def get_soap(atomtypes, coords, elements=[6,7,8,16]):\n",
    "    atomsobj = ase.Atoms(symbols=atomtypes, positions=coords)\n",
    "    soap = SOAP(\n",
    "             species=elements,\n",
    "             rcut=5.0,\n",
    "             nmax=8,\n",
    "             lmax=8,\n",
    "             sigma=0.2,\n",
    "             periodic=False,\n",
    "             crossover=True,\n",
    "             sparse=False,\n",
    "         )\n",
    "    return soap.create(atomsobj)"
   ]
  },
  {
   "cell_type": "code",
   "execution_count": 28,
   "metadata": {},
   "outputs": [],
   "source": [
    "qm7_files = sorted(glob(\"../qm7-xyz/*.xyz\"))"
   ]
  },
  {
   "cell_type": "code",
   "execution_count": 29,
   "metadata": {},
   "outputs": [],
   "source": [
    "conf_data = [read_xyz(x) for x in qm7_files]"
   ]
  },
  {
   "cell_type": "code",
   "execution_count": 30,
   "metadata": {},
   "outputs": [],
   "source": [
    "ncharges_list, coordinates_list = zip(*conf_data)"
   ]
  },
  {
   "cell_type": "code",
   "execution_count": 31,
   "metadata": {},
   "outputs": [],
   "source": [
    "qm7_reps = [np.mean(get_soap(ncharges_list[i],\n",
    "                            coordinates_list[i]), axis=0) for i in range(len(ncharges_list))]"
   ]
  },
  {
   "cell_type": "code",
   "execution_count": 32,
   "metadata": {},
   "outputs": [],
   "source": [
    "qm7_reps = np.array(qm7_reps)"
   ]
  },
  {
   "cell_type": "code",
   "execution_count": 33,
   "metadata": {},
   "outputs": [
    {
     "data": {
      "text/plain": [
       "(4752,)"
      ]
     },
     "execution_count": 33,
     "metadata": {},
     "output_type": "execute_result"
    }
   ],
   "source": [
    "qm7_reps[0].shape"
   ]
  },
  {
   "cell_type": "code",
   "execution_count": 38,
   "metadata": {},
   "outputs": [],
   "source": [
    "qm7_labels = [t.split(\"/\")[-1].split(\".xyz\")[0] for t in qm7_files]"
   ]
  },
  {
   "cell_type": "code",
   "execution_count": 39,
   "metadata": {},
   "outputs": [],
   "source": [
    "# np save "
   ]
  },
  {
   "cell_type": "code",
   "execution_count": 40,
   "metadata": {},
   "outputs": [],
   "source": [
    "np.savez(\"../representations/qm7_SOAP_global_data.npz\", \n",
    "         qm7_labels=qm7_labels,\n",
    "         qm7_ncharges=ncharges_list,\n",
    "         qm7_reps=qm7_reps)"
   ]
  },
  {
   "cell_type": "code",
   "execution_count": null,
   "metadata": {},
   "outputs": [],
   "source": []
  }
 ],
 "metadata": {
  "kernelspec": {
   "display_name": "Python 3",
   "language": "python",
   "name": "python3"
  },
  "language_info": {
   "codemirror_mode": {
    "name": "ipython",
    "version": 3
   },
   "file_extension": ".py",
   "mimetype": "text/x-python",
   "name": "python",
   "nbconvert_exporter": "python",
   "pygments_lexer": "ipython3",
   "version": "3.7.9"
  }
 },
 "nbformat": 4,
 "nbformat_minor": 4
}
