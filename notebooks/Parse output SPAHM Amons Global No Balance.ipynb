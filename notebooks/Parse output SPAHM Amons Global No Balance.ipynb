{
 "cells": [
  {
   "cell_type": "code",
   "execution_count": 1,
   "metadata": {},
   "outputs": [],
   "source": [
    "import pandas as pd "
   ]
  },
  {
   "cell_type": "code",
   "execution_count": 2,
   "metadata": {},
   "outputs": [],
   "source": [
    "import numpy as np"
   ]
  },
  {
   "cell_type": "code",
   "execution_count": 3,
   "metadata": {},
   "outputs": [
    {
     "name": "stdout",
     "output_type": "stream",
     "text": [
      "0_amons_global.out  3_moreout.out\t    output_CM_global.csv\r\n",
      "1_amons_global.out  4_amons_global.out\t    output_FCHL.csv\r\n",
      "1_amons.out\t    4_amons.out\t\t    output_FCHL_global.csv\r\n",
      "1_moreout.out\t    4_moreout.out\t    output_SLATM.csv\r\n",
      "2_amons_global.out  output_aCM.csv\t    output_SLATM_global.csv\r\n",
      "2_amons.out\t    output_amons_aCM.csv    output_SOAP.csv\r\n",
      "2_moreout.out\t    output_amons_FCHL.csv   output_SPAHM_global.csv\r\n",
      "3_amons_global.out  output_amons_SLATM.csv\r\n",
      "3_amons.out\t    output_amons_SOAP.csv\r\n"
     ]
    }
   ],
   "source": [
    "!ls ../out"
   ]
  },
  {
   "cell_type": "code",
   "execution_count": 4,
   "metadata": {},
   "outputs": [],
   "source": [
    "slatm_out = pd.read_csv(\"../out/output_SPAHM_global.csv\", index_col=0)"
   ]
  },
  {
   "cell_type": "code",
   "execution_count": 5,
   "metadata": {},
   "outputs": [
    {
     "data": {
      "text/html": [
       "<div>\n",
       "<style scoped>\n",
       "    .dataframe tbody tr th:only-of-type {\n",
       "        vertical-align: middle;\n",
       "    }\n",
       "\n",
       "    .dataframe tbody tr th {\n",
       "        vertical-align: top;\n",
       "    }\n",
       "\n",
       "    .dataframe thead th {\n",
       "        text-align: right;\n",
       "    }\n",
       "</style>\n",
       "<table border=\"1\" class=\"dataframe\">\n",
       "  <thead>\n",
       "    <tr style=\"text-align: right;\">\n",
       "      <th></th>\n",
       "      <th>SolN</th>\n",
       "      <th>Fragments</th>\n",
       "      <th>ObjValNoPen</th>\n",
       "      <th>ObjValWithPen</th>\n",
       "    </tr>\n",
       "  </thead>\n",
       "  <tbody>\n",
       "    <tr>\n",
       "      <th>0</th>\n",
       "      <td>1</td>\n",
       "      <td>['frag_02_c00001', 'frag_15_c00001']</td>\n",
       "      <td>342.039495</td>\n",
       "      <td>342.039495</td>\n",
       "    </tr>\n",
       "    <tr>\n",
       "      <th>1</th>\n",
       "      <td>2</td>\n",
       "      <td>['frag_02_c00001', 'frag_15_c00001']</td>\n",
       "      <td>342.039495</td>\n",
       "      <td>342.039495</td>\n",
       "    </tr>\n",
       "    <tr>\n",
       "      <th>2</th>\n",
       "      <td>3</td>\n",
       "      <td>['frag_02_c00001', 'frag_15_c00001']</td>\n",
       "      <td>342.039495</td>\n",
       "      <td>342.039495</td>\n",
       "    </tr>\n",
       "    <tr>\n",
       "      <th>3</th>\n",
       "      <td>4</td>\n",
       "      <td>['frag_02_c00001', 'frag_15_c00001']</td>\n",
       "      <td>342.039495</td>\n",
       "      <td>342.039495</td>\n",
       "    </tr>\n",
       "    <tr>\n",
       "      <th>4</th>\n",
       "      <td>5</td>\n",
       "      <td>['frag_02_c00001', 'frag_16_c00001']</td>\n",
       "      <td>358.748430</td>\n",
       "      <td>358.748430</td>\n",
       "    </tr>\n",
       "    <tr>\n",
       "      <th>...</th>\n",
       "      <td>...</td>\n",
       "      <td>...</td>\n",
       "      <td>...</td>\n",
       "      <td>...</td>\n",
       "    </tr>\n",
       "    <tr>\n",
       "      <th>995</th>\n",
       "      <td>996</td>\n",
       "      <td>['frag_01_c00001', 'frag_06_c00001', 'frag_14_...</td>\n",
       "      <td>3796.748362</td>\n",
       "      <td>2796.748362</td>\n",
       "    </tr>\n",
       "    <tr>\n",
       "      <th>996</th>\n",
       "      <td>997</td>\n",
       "      <td>['frag_03_c00001', 'frag_10_c00001', 'frag_10_...</td>\n",
       "      <td>3799.759383</td>\n",
       "      <td>2799.759383</td>\n",
       "    </tr>\n",
       "    <tr>\n",
       "      <th>997</th>\n",
       "      <td>998</td>\n",
       "      <td>['frag_03_c00001', 'frag_10_c00001', 'frag_10_...</td>\n",
       "      <td>3799.759383</td>\n",
       "      <td>2799.759383</td>\n",
       "    </tr>\n",
       "    <tr>\n",
       "      <th>998</th>\n",
       "      <td>999</td>\n",
       "      <td>['frag_03_c00001', 'frag_08_c00001', 'frag_10_...</td>\n",
       "      <td>3800.349527</td>\n",
       "      <td>2800.349527</td>\n",
       "    </tr>\n",
       "    <tr>\n",
       "      <th>999</th>\n",
       "      <td>1000</td>\n",
       "      <td>['frag_03_c00001', 'frag_08_c00001', 'frag_10_...</td>\n",
       "      <td>3800.349527</td>\n",
       "      <td>2800.349527</td>\n",
       "    </tr>\n",
       "  </tbody>\n",
       "</table>\n",
       "<p>1000 rows × 4 columns</p>\n",
       "</div>"
      ],
      "text/plain": [
       "     SolN                                          Fragments  ObjValNoPen  \\\n",
       "0       1               ['frag_02_c00001', 'frag_15_c00001']   342.039495   \n",
       "1       2               ['frag_02_c00001', 'frag_15_c00001']   342.039495   \n",
       "2       3               ['frag_02_c00001', 'frag_15_c00001']   342.039495   \n",
       "3       4               ['frag_02_c00001', 'frag_15_c00001']   342.039495   \n",
       "4       5               ['frag_02_c00001', 'frag_16_c00001']   358.748430   \n",
       "..    ...                                                ...          ...   \n",
       "995   996  ['frag_01_c00001', 'frag_06_c00001', 'frag_14_...  3796.748362   \n",
       "996   997  ['frag_03_c00001', 'frag_10_c00001', 'frag_10_...  3799.759383   \n",
       "997   998  ['frag_03_c00001', 'frag_10_c00001', 'frag_10_...  3799.759383   \n",
       "998   999  ['frag_03_c00001', 'frag_08_c00001', 'frag_10_...  3800.349527   \n",
       "999  1000  ['frag_03_c00001', 'frag_08_c00001', 'frag_10_...  3800.349527   \n",
       "\n",
       "     ObjValWithPen  \n",
       "0       342.039495  \n",
       "1       342.039495  \n",
       "2       342.039495  \n",
       "3       342.039495  \n",
       "4       358.748430  \n",
       "..             ...  \n",
       "995    2796.748362  \n",
       "996    2799.759383  \n",
       "997    2799.759383  \n",
       "998    2800.349527  \n",
       "999    2800.349527  \n",
       "\n",
       "[1000 rows x 4 columns]"
      ]
     },
     "execution_count": 5,
     "metadata": {},
     "output_type": "execute_result"
    }
   ],
   "source": [
    "slatm_out"
   ]
  },
  {
   "cell_type": "code",
   "execution_count": 6,
   "metadata": {},
   "outputs": [],
   "source": [
    "from ast import literal_eval "
   ]
  },
  {
   "cell_type": "code",
   "execution_count": 7,
   "metadata": {},
   "outputs": [],
   "source": [
    "slatm_out[\"Fragments\"] = slatm_out[\"Fragments\"].apply(literal_eval)"
   ]
  },
  {
   "cell_type": "code",
   "execution_count": 8,
   "metadata": {},
   "outputs": [],
   "source": [
    "slatm_out[\"Sorted Fragments\"] = slatm_out[\"Fragments\"].apply(lambda x:sorted(x))"
   ]
  },
  {
   "cell_type": "code",
   "execution_count": 9,
   "metadata": {},
   "outputs": [
    {
     "data": {
      "text/plain": [
       "166"
      ]
     },
     "execution_count": 9,
     "metadata": {},
     "output_type": "execute_result"
    }
   ],
   "source": [
    "len(np.unique(slatm_out[\"Sorted Fragments\"]))"
   ]
  },
  {
   "cell_type": "code",
   "execution_count": 10,
   "metadata": {},
   "outputs": [],
   "source": [
    "# excess is missing Hs - to fix "
   ]
  },
  {
   "cell_type": "code",
   "execution_count": 11,
   "metadata": {},
   "outputs": [],
   "source": [
    "import qml"
   ]
  },
  {
   "cell_type": "code",
   "execution_count": 12,
   "metadata": {},
   "outputs": [],
   "source": [
    "qm9_mol = qml.Compound(\"../targets/qm9_0.xyz\")\n",
    "qm9_ncharges = qm9_mol.nuclear_charges"
   ]
  },
  {
   "cell_type": "code",
   "execution_count": 13,
   "metadata": {},
   "outputs": [
    {
     "data": {
      "text/plain": [
       "array([8, 6, 6, 7, 6, 8, 8, 7, 6, 1, 1])"
      ]
     },
     "execution_count": 13,
     "metadata": {},
     "output_type": "execute_result"
    }
   ],
   "source": [
    "qm9_ncharges"
   ]
  },
  {
   "cell_type": "code",
   "execution_count": 14,
   "metadata": {},
   "outputs": [],
   "source": [
    "import qml"
   ]
  },
  {
   "cell_type": "code",
   "execution_count": 15,
   "metadata": {},
   "outputs": [],
   "source": [
    "def match_file_to_energy(filename):\n",
    "    energies = pd.read_csv(\"../amons-qm9/energies.csv\")\n",
    "    energy = energies.loc[energies[\"file\"] == filename][\"energy / Ha\"]\n",
    "    energy = float(energy)\n",
    "    return energy"
   ]
  },
  {
   "cell_type": "code",
   "execution_count": 16,
   "metadata": {},
   "outputs": [],
   "source": [
    "def get_reaction_energy(fragment_list):\n",
    "    qm9_energy = -487.817450280942 # Ha\n",
    "    \n",
    "    frag_energies = np.sum([match_file_to_energy(x) for x in fragment_list])\n",
    "    \n",
    "    rxn_energy = frag_energies - qm9_energy\n",
    "    return rxn_energy"
   ]
  },
  {
   "cell_type": "code",
   "execution_count": 17,
   "metadata": {},
   "outputs": [],
   "source": [
    "slatm_out[\"energies / Ha\"] = slatm_out.apply(lambda x: get_reaction_energy(x[\"Fragments\"]),\n",
    "                                                     axis=1)"
   ]
  },
  {
   "cell_type": "code",
   "execution_count": 18,
   "metadata": {},
   "outputs": [],
   "source": [
    "slatm_out[\"energies / kcal/mol\"] = slatm_out[\"energies / Ha\"] * 627.5"
   ]
  },
  {
   "cell_type": "code",
   "execution_count": 19,
   "metadata": {},
   "outputs": [],
   "source": [
    "import matplotlib.pyplot as plt\n",
    "import matplotlib"
   ]
  },
  {
   "cell_type": "code",
   "execution_count": 20,
   "metadata": {},
   "outputs": [],
   "source": [
    "matplotlib.rcParams.update({'font.size': 12})"
   ]
  },
  {
   "cell_type": "code",
   "execution_count": 22,
   "metadata": {},
   "outputs": [
    {
     "data": {
      "image/png": "[encoded data removed]",
      "text/plain": [
       "<Figure size 432x288 with 2 Axes>"
      ]
     },
     "metadata": {
      "needs_background": "light"
     },
     "output_type": "display_data"
    }
   ],
   "source": [
    "fig, ax = plt.subplots(nrows=1, ncols=2)\n",
    "ax[0].scatter(np.sqrt(slatm_out[\"ObjValNoPen\"]), slatm_out[\"energies / kcal/mol\"], s=10)\n",
    "ax[0].set_xlabel(\"Sum of atom-wise L2-norm\")\n",
    "ax[0].set_ylabel(\"Unbalanced reaction energy / kcal/mol\")\n",
    "\n",
    "x = np.exp(-slatm_out[\"ObjValNoPen\"]/(2*100**2))\n",
    "ax[1].scatter(x, slatm_out[\"energies / kcal/mol\"], s=10)\n",
    "ax[1].set_xlabel(\"Similarity\")\n",
    "\n",
    "plt.tight_layout()\n",
    "plt.savefig(\"../figures/correlation-amons-spahm-global-nonsense-energies.png\", dpi=300)\n",
    "plt.show()"
   ]
  },
  {
   "cell_type": "code",
   "execution_count": null,
   "metadata": {},
   "outputs": [],
   "source": []
  }
 ],
 "metadata": {
  "kernelspec": {
   "display_name": "Python 3",
   "language": "python",
   "name": "python3"
  },
  "language_info": {
   "codemirror_mode": {
    "name": "ipython",
    "version": 3
   },
   "file_extension": ".py",
   "mimetype": "text/x-python",
   "name": "python",
   "nbconvert_exporter": "python",
   "pygments_lexer": "ipython3",
   "version": "3.8.3"
  }
 },
 "nbformat": 4,
 "nbformat_minor": 4
}
