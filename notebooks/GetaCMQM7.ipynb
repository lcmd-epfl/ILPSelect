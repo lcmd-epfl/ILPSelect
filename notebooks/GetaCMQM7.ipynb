{
 "cells": [
  {
   "cell_type": "code",
   "execution_count": 18,
   "metadata": {},
   "outputs": [],
   "source": [
    "from glob import glob\n",
    "import numpy as np"
   ]
  },
  {
   "cell_type": "code",
   "execution_count": 19,
   "metadata": {},
   "outputs": [],
   "source": [
    "NUCLEAR_CHARGE = {\n",
    "    \"H\":1,\n",
    "    \"C\":6,\n",
    "    \"O\":8,\n",
    "    \"N\":7,\n",
    "    \"F\":9,\n",
    "    \"Cl\":17,\n",
    "    \"S\":16\n",
    "}"
   ]
  },
  {
   "cell_type": "code",
   "execution_count": 20,
   "metadata": {},
   "outputs": [],
   "source": [
    "def read_xyz(filename):\n",
    "    with open(filename, \"r\") as f:\n",
    "        lines = f.readlines()\n",
    "\n",
    "    natoms = int(lines[0])\n",
    "    nuclear_charges = []\n",
    "    coordinates = []\n",
    "\n",
    "    for i, line in enumerate(lines[2:natoms+2]):\n",
    "        tokens = line.split()\n",
    "\n",
    "        if len(tokens) < 4:\n",
    "            break\n",
    "        \n",
    "        ncharge = tokens[0]\n",
    "        if ncharge != 'H':\n",
    "            nuclear_charges.append(NUCLEAR_CHARGE[tokens[0]])\n",
    "            coordinates.append([float(token) for token in tokens[1:4]])\n",
    "   \n",
    "    return nuclear_charges, coordinates"
   ]
  },
  {
   "cell_type": "code",
   "execution_count": 21,
   "metadata": {},
   "outputs": [],
   "source": [
    "def cutoff_func(R_ij, central_cutoff=4.8, central_decay=1):\n",
    "    if R_ij <= (central_cutoff - central_decay):\n",
    "        func = 1.\n",
    "    elif ((central_cutoff - central_decay) < R_ij) and (R_ij <= (central_cutoff + central_decay)):\n",
    "        func = 0.5 * (1. + np.cos((np.pi * R_ij - central_cutoff + central_decay)/central_decay))\n",
    "    else:\n",
    "        func = 0.\n",
    "    return func"
   ]
  },
  {
   "cell_type": "code",
   "execution_count": 22,
   "metadata": {},
   "outputs": [],
   "source": [
    "def get_atomic_CM(ncharges, coords, max_natoms, central_cutoff=4.8, central_decay=1):\n",
    "    size = int((max_natoms + 1)*max_natoms / 2)\n",
    "    rep = np.zeros((len(ncharges), size))\n",
    "    \n",
    "    # central atom loop\n",
    "    for k in range(len(ncharges)):\n",
    "        M = np.zeros((len(ncharges), len(ncharges)))\n",
    "        for i in range(len(ncharges)):\n",
    "            R_ik = np.linalg.norm(coords[i]-coords[k])\n",
    "           # print('R_ik', R_ik)\n",
    "            f_ik = cutoff_func(R_ik, central_cutoff=central_cutoff,\n",
    "                              central_decay=central_decay)\n",
    "            for j in range(len(ncharges)):\n",
    "                if i <=j:\n",
    "                    if i == j:\n",
    "                        M[i,j] = 0.5 * ncharges[i]**2.4 * f_ik**2\n",
    "                        M[j,i] = M[i,j]\n",
    "\n",
    "                    else:\n",
    "                        R_jk = np.linalg.norm(coords[j]-coords[k])\n",
    "                      #  print('R_jk', R_jk)\n",
    "                        f_jk = cutoff_func(R_jk, central_cutoff=central_cutoff,\n",
    "                                          central_decay=central_decay)\n",
    "                        R_ij = np.linalg.norm(coords[i]-coords[j])\n",
    "                      #  print('R_ij', R_ij)\n",
    "                        f_ij = cutoff_func(R_ij, central_cutoff=central_cutoff,\n",
    "                                          central_decay=central_decay)\n",
    "                        M[i,j] = (ncharges[i]*ncharges[j]/R_ij)*f_ik*f_jk*f_ij\n",
    "                        M[j,i] = M[i,j]\n",
    "\n",
    "\n",
    "        # concat upper triangular and diagonal\n",
    "        upper_triang = M[np.triu_indices(len(M))]\n",
    "        s_upper_triang = np.sort(upper_triang)[::-1]\n",
    "        \n",
    "        # pad to full size\n",
    "        n_zeros = size - len(s_upper_triang)\n",
    "        zeros = np.zeros(n_zeros)\n",
    "        rep[k] = np.concatenate((s_upper_triang, zeros))\n",
    "\n",
    "    return rep"
   ]
  },
  {
   "cell_type": "code",
   "execution_count": 23,
   "metadata": {},
   "outputs": [],
   "source": [
    "qm7_files = sorted(glob(\"../qm7-xyz/*.xyz\"))"
   ]
  },
  {
   "cell_type": "code",
   "execution_count": 24,
   "metadata": {},
   "outputs": [],
   "source": [
    "conf_data = [read_xyz(x) for x in qm7_files]"
   ]
  },
  {
   "cell_type": "code",
   "execution_count": 25,
   "metadata": {},
   "outputs": [],
   "source": [
    "ncharges_list, coords_list = zip(*conf_data)"
   ]
  },
  {
   "cell_type": "code",
   "execution_count": 27,
   "metadata": {},
   "outputs": [],
   "source": [
    "qm7_reps = [np.array(get_atomic_CM(np.array(ncharges_list[i]),\n",
    "                                                                        np.array(coords_list[i]), \n",
    "                                                                        max_natoms=23))\n",
    "            for i in range(len(ncharges_list))]"
   ]
  },
  {
   "cell_type": "code",
   "execution_count": 28,
   "metadata": {},
   "outputs": [
    {
     "name": "stderr",
     "output_type": "stream",
     "text": [
      "/home/puck/anaconda3/envs/aqml/lib/python3.7/site-packages/ipykernel_launcher.py:1: VisibleDeprecationWarning: Creating an ndarray from ragged nested sequences (which is a list-or-tuple of lists-or-tuples-or ndarrays with different lengths or shapes) is deprecated. If you meant to do this, you must specify 'dtype=object' when creating the ndarray\n",
      "  \"\"\"Entry point for launching an IPython kernel.\n"
     ]
    }
   ],
   "source": [
    "qm7_reps = np.array(qm7_reps)"
   ]
  },
  {
   "cell_type": "code",
   "execution_count": 29,
   "metadata": {},
   "outputs": [
    {
     "data": {
      "text/plain": [
       "(1, 276)"
      ]
     },
     "execution_count": 29,
     "metadata": {},
     "output_type": "execute_result"
    }
   ],
   "source": [
    "qm7_reps[0].shape"
   ]
  },
  {
   "cell_type": "code",
   "execution_count": 16,
   "metadata": {},
   "outputs": [],
   "source": [
    "qm7_labels = [t.split(\"/\")[-1].split(\".sdf\")[0] for t in qm7_files]"
   ]
  },
  {
   "cell_type": "code",
   "execution_count": 35,
   "metadata": {},
   "outputs": [],
   "source": [
    "# np save "
   ]
  },
  {
   "cell_type": "code",
   "execution_count": 30,
   "metadata": {},
   "outputs": [],
   "source": [
    "np.savez(\"../representations/qm7_aCM_data.npz\", \n",
    "         qm7_labels=qm7_labels,\n",
    "         qm7_ncharges=ncharges_list,\n",
    "         qm7_reps=qm7_reps)"
   ]
  },
  {
   "cell_type": "code",
   "execution_count": null,
   "metadata": {},
   "outputs": [],
   "source": []
  }
 ],
 "metadata": {
  "kernelspec": {
   "display_name": "Python 3",
   "language": "python",
   "name": "python3"
  },
  "language_info": {
   "codemirror_mode": {
    "name": "ipython",
    "version": 3
   },
   "file_extension": ".py",
   "mimetype": "text/x-python",
   "name": "python",
   "nbconvert_exporter": "python",
   "pygments_lexer": "ipython3",
   "version": "3.7.9"
  }
 },
 "nbformat": 4,
 "nbformat_minor": 4
}
