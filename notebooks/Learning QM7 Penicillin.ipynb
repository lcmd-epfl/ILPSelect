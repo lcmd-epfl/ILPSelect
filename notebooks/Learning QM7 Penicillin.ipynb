{
 "cells": [
  {
   "cell_type": "code",
   "execution_count": 1,
   "metadata": {},
   "outputs": [],
   "source": [
    "import numpy as np"
   ]
  },
  {
   "cell_type": "code",
   "execution_count": 2,
   "metadata": {},
   "outputs": [],
   "source": [
    "lc = np.load(\"../learning_curve_slatm.npz\")"
   ]
  },
  {
   "cell_type": "code",
   "execution_count": 11,
   "metadata": {},
   "outputs": [],
   "source": [
    "lc_small = np.load(\"../learning_curve_small_slatm.npz\")"
   ]
  },
  {
   "cell_type": "code",
   "execution_count": 3,
   "metadata": {},
   "outputs": [],
   "source": [
    "frag_lc = np.load(\"../learning_curve_shuffle_frags_27_slatm.npz\")"
   ]
  },
  {
   "cell_type": "code",
   "execution_count": 23,
   "metadata": {},
   "outputs": [],
   "source": [
    "frag_lc_ordered = np.load(\"../learning_curve_ordered_frags_27_slatm.npz\")"
   ]
  },
  {
   "cell_type": "code",
   "execution_count": 13,
   "metadata": {},
   "outputs": [],
   "source": [
    "tr_size_small = lc_small['train_sizes']"
   ]
  },
  {
   "cell_type": "code",
   "execution_count": 14,
   "metadata": {},
   "outputs": [],
   "source": [
    "tr_sizes = lc['train_sizes']"
   ]
  },
  {
   "cell_type": "code",
   "execution_count": 15,
   "metadata": {},
   "outputs": [],
   "source": [
    "qm7_tr_sizes = np.concatenate((tr_size_small, tr_sizes))"
   ]
  },
  {
   "cell_type": "code",
   "execution_count": 16,
   "metadata": {},
   "outputs": [],
   "source": [
    "qm7_mae = np.concatenate((lc_small['maes'], lc['maes'])) * 627.503"
   ]
  },
  {
   "cell_type": "code",
   "execution_count": 17,
   "metadata": {},
   "outputs": [],
   "source": [
    "qm7_std = np.concatenate((lc_small['std'], lc['std'])) * 627.503"
   ]
  },
  {
   "cell_type": "code",
   "execution_count": 18,
   "metadata": {},
   "outputs": [],
   "source": [
    "frag_tr_sizes = frag_lc['train_sizes']\n",
    "frag_mae = frag_lc['maes']* 627.503\n",
    "frag_std= frag_lc['std']* 627.503"
   ]
  },
  {
   "cell_type": "code",
   "execution_count": 24,
   "metadata": {},
   "outputs": [],
   "source": [
    "frag_o_tr_sizes = frag_lc_ordered['train_sizes']\n",
    "frag_o_mae = frag_lc_ordered['maes'] * 627.503\n",
    "frag_o_std = frag_lc_ordered['std'] * 627.503"
   ]
  },
  {
   "cell_type": "code",
   "execution_count": 19,
   "metadata": {},
   "outputs": [],
   "source": [
    "import matplotlib.pyplot as plt\n",
    "plt.rcParams.update({'font.size': 14})"
   ]
  },
  {
   "cell_type": "code",
   "execution_count": 26,
   "metadata": {},
   "outputs": [
    {
     "data": {
      "image/png": "[encoded data removed]",
      "text/plain": [
       "<Figure size 432x288 with 1 Axes>"
      ]
     },
     "metadata": {
      "needs_background": "light"
     },
     "output_type": "display_data"
    }
   ],
   "source": [
    "fig, ax = plt.subplots(nrows=1, ncols=1)\n",
    "ax.set_xscale('log')\n",
    "ax.set_yscale('log')\n",
    "ax.plot(qm7_tr_sizes, qm7_mae, marker='v', color='red', label='random QM7')\n",
    "ax.fill_between(qm7_tr_sizes, qm7_mae-qm7_std, qm7_mae+qm7_std, color='red', alpha=0.2)\n",
    "#ax.plot(frag_tr_sizes, frag_mae, marker='*', color='blue', label='opt shuffled QM7')\n",
    "#ax.fill_between(frag_tr_sizes, frag_mae-frag_std, frag_mae+frag_std, color='blue', alpha=0.2)\n",
    "ax.plot(frag_o_tr_sizes, frag_o_mae, marker='x', color='purple', label='opt QM7')\n",
    "ax.fill_between(frag_o_tr_sizes, frag_o_mae-frag_o_std, frag_o_mae+frag_o_std, color='purple', alpha=0.2)\n",
    "\n",
    "ax.set_xlabel(\"$N_{\\mathrm{train}}$\")\n",
    "ax.set_ylabel(\"MAE / kcal/mol\")\n",
    "#ax.set_yticks([5, 12.5, 30])\n",
    "#ax.set_yticklabels(['5', '12.5', '30'])\n",
    "#ax.set_xticks([700, 2200, 7200])\n",
    "#ax.set_xticklabels(['700', '2200', '7200'])\n",
    "#plt.minorticks_off()\n",
    "plt.legend()\n",
    "plt.tight_layout()\n",
    "plt.savefig('../learn_pen_energy.png', dpi=300)\n",
    "plt.show()"
   ]
  },
  {
   "cell_type": "code",
   "execution_count": 26,
   "metadata": {},
   "outputs": [
    {
     "data": {
      "text/plain": [
       "array([ 716, 1274, 2265, 4029, 7165])"
      ]
     },
     "execution_count": 26,
     "metadata": {},
     "output_type": "execute_result"
    }
   ],
   "source": [
    "tr_sizes"
   ]
  },
  {
   "cell_type": "code",
   "execution_count": null,
   "metadata": {},
   "outputs": [],
   "source": []
  }
 ],
 "metadata": {
  "kernelspec": {
   "display_name": "Python 3",
   "language": "python",
   "name": "python3"
  },
  "language_info": {
   "codemirror_mode": {
    "name": "ipython",
    "version": 3
   },
   "file_extension": ".py",
   "mimetype": "text/x-python",
   "name": "python",
   "nbconvert_exporter": "python",
   "pygments_lexer": "ipython3",
   "version": "3.8.3"
  }
 },
 "nbformat": 4,
 "nbformat_minor": 4
}
