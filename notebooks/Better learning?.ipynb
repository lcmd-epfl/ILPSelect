{
 "cells": [
  {
   "cell_type": "code",
   "execution_count": 1,
   "metadata": {},
   "outputs": [],
   "source": [
    "import qml\n",
    "import numpy as np"
   ]
  },
  {
   "cell_type": "code",
   "execution_count": 2,
   "metadata": {},
   "outputs": [],
   "source": [
    "import pandas as pd"
   ]
  },
  {
   "cell_type": "code",
   "execution_count": 3,
   "metadata": {},
   "outputs": [],
   "source": [
    "import local_learning"
   ]
  },
  {
   "cell_type": "code",
   "execution_count": 4,
   "metadata": {},
   "outputs": [],
   "source": [
    "import pickle"
   ]
  },
  {
   "cell_type": "code",
   "execution_count": 5,
   "metadata": {},
   "outputs": [],
   "source": [
    "with open('../atom_energy_coeffs.pickle', 'rb') as f:\n",
    "    atom_energy_coeffs = pickle.load(f)"
   ]
  },
  {
   "cell_type": "code",
   "execution_count": 6,
   "metadata": {},
   "outputs": [
    {
     "data": {
      "text/plain": [
       "{1: -0.6100284233535662,\n",
       " 6: -38.01906466911168,\n",
       " 7: -54.647732784759285,\n",
       " 8: -75.0907686869464,\n",
       " 16: -397.9423885459585}"
      ]
     },
     "execution_count": 6,
     "metadata": {},
     "output_type": "execute_result"
    }
   ],
   "source": [
    "atom_energy_coeffs"
   ]
  },
  {
   "cell_type": "markdown",
   "metadata": {},
   "source": [
    "# Learning for penicillin\n",
    "Should be local models to predict large molecule from smaller ones."
   ]
  },
  {
   "cell_type": "code",
   "execution_count": 7,
   "metadata": {},
   "outputs": [],
   "source": [
    "props = pd.read_csv(\"../opt-amons-penicillin-target/energies.csv\", names=['file', 'energy'])"
   ]
  },
  {
   "cell_type": "code",
   "execution_count": 8,
   "metadata": {},
   "outputs": [],
   "source": [
    "target_energy = float(props[props['file'] == 'penicillin.xyz']['energy'])"
   ]
  },
  {
   "cell_type": "code",
   "execution_count": 9,
   "metadata": {},
   "outputs": [
    {
     "data": {
      "text/plain": [
       "-1427.0346055"
      ]
     },
     "execution_count": 9,
     "metadata": {},
     "output_type": "execute_result"
    }
   ],
   "source": [
    "target_energy"
   ]
  },
  {
   "cell_type": "code",
   "execution_count": 10,
   "metadata": {},
   "outputs": [],
   "source": [
    "target_mol = qml.Compound(\"../opt-amons-penicillin-target/penicillin.xyz\")"
   ]
  },
  {
   "cell_type": "code",
   "execution_count": 11,
   "metadata": {},
   "outputs": [
    {
     "data": {
      "text/plain": [
       "array([16,  8,  8,  8,  8,  7,  7,  6,  6,  6,  6,  6,  6,  6,  6,  6,  6,\n",
       "        6,  6,  6,  6,  6,  6,  1,  1,  1,  1,  1,  1,  1,  1,  1,  1,  1,\n",
       "        1,  1,  1,  1,  1,  1,  1])"
      ]
     },
     "execution_count": 11,
     "metadata": {},
     "output_type": "execute_result"
    }
   ],
   "source": [
    "target_ncharges = target_mol.nuclear_charges\n",
    "target_ncharges"
   ]
  },
  {
   "cell_type": "code",
   "execution_count": 12,
   "metadata": {},
   "outputs": [],
   "source": [
    "for ncharge in target_ncharges: \n",
    "    energy_contribution = atom_energy_coeffs[ncharge]\n",
    "    target_energy -= energy_contribution"
   ]
  },
  {
   "cell_type": "code",
   "execution_count": 13,
   "metadata": {},
   "outputs": [
    {
     "data": {
      "text/plain": [
       "-0.148130310586434"
      ]
     },
     "execution_count": 13,
     "metadata": {},
     "output_type": "execute_result"
    }
   ],
   "source": [
    "target_energy"
   ]
  },
  {
   "cell_type": "code",
   "execution_count": 14,
   "metadata": {},
   "outputs": [],
   "source": [
    "from glob import glob"
   ]
  },
  {
   "cell_type": "code",
   "execution_count": 15,
   "metadata": {},
   "outputs": [],
   "source": [
    "qm7_xyz = glob('../qm7/*.xyz')"
   ]
  },
  {
   "cell_type": "code",
   "execution_count": 16,
   "metadata": {},
   "outputs": [],
   "source": [
    "qm7_mols = [qml.Compound(x) for x in qm7_xyz]"
   ]
  },
  {
   "cell_type": "code",
   "execution_count": 17,
   "metadata": {},
   "outputs": [],
   "source": [
    "qm7_nuclear_charges = np.unique(np.concatenate([x.nuclear_charges for x in qm7_mols]))"
   ]
  },
  {
   "cell_type": "code",
   "execution_count": 18,
   "metadata": {},
   "outputs": [],
   "source": [
    "target_mol_nuclear_charges = np.unique(target_mol.nuclear_charges)"
   ]
  },
  {
   "cell_type": "code",
   "execution_count": 19,
   "metadata": {},
   "outputs": [
    {
     "data": {
      "text/plain": [
       "array([ 1,  6,  7,  8, 16])"
      ]
     },
     "execution_count": 19,
     "metadata": {},
     "output_type": "execute_result"
    }
   ],
   "source": [
    "target_mol_nuclear_charges"
   ]
  },
  {
   "cell_type": "code",
   "execution_count": 20,
   "metadata": {},
   "outputs": [],
   "source": [
    "target_rep = qml.representations.generate_fchl_acsf(target_mol.nuclear_charges, \n",
    "                                                   target_mol.coordinates, elements=target_mol_nuclear_charges)"
   ]
  },
  {
   "cell_type": "code",
   "execution_count": 21,
   "metadata": {},
   "outputs": [],
   "source": [
    "qm7_ncharges = np.array([x.nuclear_charges for x in qm7_mols])"
   ]
  },
  {
   "cell_type": "code",
   "execution_count": 22,
   "metadata": {},
   "outputs": [],
   "source": [
    "qm7_reps = np.array([qml.representations.generate_fchl_acsf(x.nuclear_charges, x.coordinates, \n",
    "                                                  elements=target_mol_nuclear_charges, \n",
    "                                                            pad=len(target_mol.nuclear_charges))\n",
    "           for x in qm7_mols])"
   ]
  },
  {
   "cell_type": "code",
   "execution_count": 23,
   "metadata": {},
   "outputs": [
    {
     "data": {
      "text/plain": [
       "(41, 720)"
      ]
     },
     "execution_count": 23,
     "metadata": {},
     "output_type": "execute_result"
    }
   ],
   "source": [
    "target_rep.shape"
   ]
  },
  {
   "cell_type": "code",
   "execution_count": 24,
   "metadata": {},
   "outputs": [
    {
     "data": {
      "text/plain": [
       "(7165, 41, 720)"
      ]
     },
     "execution_count": 24,
     "metadata": {},
     "output_type": "execute_result"
    }
   ],
   "source": [
    "qm7_reps.shape"
   ]
  },
  {
   "cell_type": "code",
   "execution_count": 25,
   "metadata": {},
   "outputs": [],
   "source": [
    "qm7_props = pd.read_csv(\"../qm7/energies_qm7.csv\", index_col=0)"
   ]
  },
  {
   "cell_type": "code",
   "execution_count": 26,
   "metadata": {},
   "outputs": [],
   "source": [
    "qm7_labels = [x.split('/')[-1].split('.xyz')[0] for x in qm7_xyz]"
   ]
  },
  {
   "cell_type": "code",
   "execution_count": 27,
   "metadata": {},
   "outputs": [],
   "source": [
    "qm7_energy = np.array([float(qm7_props[qm7_props['file'] == label]['energy / Ha']) for label in qm7_labels])"
   ]
  },
  {
   "cell_type": "code",
   "execution_count": 28,
   "metadata": {},
   "outputs": [],
   "source": [
    "for i, mol_ncharges in enumerate(qm7_ncharges):\n",
    "    for ncharge in mol_ncharges:\n",
    "        qm7_energy[i] -= atom_energy_coeffs[ncharge]"
   ]
  },
  {
   "cell_type": "code",
   "execution_count": 29,
   "metadata": {},
   "outputs": [],
   "source": [
    "import matplotlib.pyplot as plt"
   ]
  },
  {
   "cell_type": "code",
   "execution_count": 30,
   "metadata": {},
   "outputs": [
    {
     "data": {
      "text/plain": [
       "(array([1.600e+01, 3.320e+02, 1.446e+03, 2.775e+03, 1.802e+03, 6.490e+02,\n",
       "        1.210e+02, 1.800e+01, 5.000e+00, 1.000e+00]),\n",
       " array([-0.06171672, -0.03012739,  0.00146194,  0.03305128,  0.06464061,\n",
       "         0.09622994,  0.12781927,  0.1594086 ,  0.19099793,  0.22258726,\n",
       "         0.25417659]),\n",
       " <a list of 10 Patch objects>)"
      ]
     },
     "execution_count": 30,
     "metadata": {},
     "output_type": "execute_result"
    },
    {
     "data": {
      "image/png": "[encoded data removed]",
      "text/plain": [
       "<Figure size 432x288 with 1 Axes>"
      ]
     },
     "metadata": {
      "needs_background": "light"
     },
     "output_type": "display_data"
    }
   ],
   "source": [
    "plt.hist(qm7_energy)"
   ]
  },
  {
   "cell_type": "markdown",
   "metadata": {},
   "source": [
    "# QM7"
   ]
  },
  {
   "cell_type": "code",
   "execution_count": 22,
   "metadata": {},
   "outputs": [],
   "source": [
    "import local_learning"
   ]
  },
  {
   "cell_type": "code",
   "execution_count": 23,
   "metadata": {},
   "outputs": [],
   "source": [
    "sigma = 1\n",
    "l2reg = 1e-10"
   ]
  },
  {
   "cell_type": "code",
   "execution_count": 24,
   "metadata": {},
   "outputs": [],
   "source": [
    "train_fractions = np.logspace(-1, 0, num=5, endpoint=True)\n",
    "train_sizes = [int(len(qm7_labels)*x) for x in train_fractions]"
   ]
  },
  {
   "cell_type": "code",
   "execution_count": null,
   "metadata": {},
   "outputs": [],
   "source": [
    "lc_maes = []\n",
    "for i, train_size in enumerate(train_sizes):\n",
    "    X_train = qm7_reps[:train_size]\n",
    "    atoms_train = qm7_ncharges[:train_size]\n",
    "    y_train = qm7_energy[:train_size]\n",
    "    mae, _ = local_learning.train_predict_model(X_train, atoms_train, y_train, \n",
    "                                                np.array([target_rep]), \n",
    "                                                np.array([target_mol.nuclear_charges]),\n",
    "                                 np.array([target_energy]), sigma=sigma, l2reg=l2reg)\n",
    "    lc_maes.append(mae)"
   ]
  },
  {
   "cell_type": "code",
   "execution_count": null,
   "metadata": {},
   "outputs": [],
   "source": [
    "import matplotlib.pyplot as plt"
   ]
  },
  {
   "cell_type": "code",
   "execution_count": null,
   "metadata": {},
   "outputs": [],
   "source": [
    "fig, ax = plt.subplots(nrows=1, ncols=1)\n",
    "ax.set_xscale('log')\n",
    "ax.set_yscale('log')\n",
    "ax.plot(train_sizes, lc_maes, marker='^')\n",
    "\n",
    "ax.set_xlabel(\"$N_{\\mathrm{train}}$\")\n",
    "ax.set_ylabel(\"MAE\")\n",
    "plt.show()"
   ]
  },
  {
   "cell_type": "code",
   "execution_count": null,
   "metadata": {},
   "outputs": [],
   "source": [
    "maes"
   ]
  },
  {
   "cell_type": "markdown",
   "metadata": {},
   "source": [
    "# Opt selection"
   ]
  },
  {
   "cell_type": "code",
   "execution_count": 48,
   "metadata": {},
   "outputs": [],
   "source": [
    "opt_labels = list(np.load(\"../fragments.npy\", allow_pickle=True).tolist())"
   ]
  },
  {
   "cell_type": "code",
   "execution_count": 49,
   "metadata": {},
   "outputs": [],
   "source": [
    "opt_xyz = ['../qm7/'+label+'.xyz' for label in opt_labels]"
   ]
  },
  {
   "cell_type": "code",
   "execution_count": 50,
   "metadata": {},
   "outputs": [],
   "source": [
    "opt_mols = [qml.Compound(x) for x in opt_xyz]"
   ]
  },
  {
   "cell_type": "code",
   "execution_count": 52,
   "metadata": {},
   "outputs": [],
   "source": [
    "opt_reps = [qml.representations.generate_fchl_acsf(x.nuclear_charges, x.coordinates, \n",
    "                                                  elements=target_mol_nuclear_charges,\n",
    "                                                  pad=len(target_mol.nuclear_charges))\n",
    "           for x in opt_mols]"
   ]
  },
  {
   "cell_type": "code",
   "execution_count": 53,
   "metadata": {},
   "outputs": [],
   "source": [
    "opt_reps = np.array(opt_reps)"
   ]
  },
  {
   "cell_type": "code",
   "execution_count": 57,
   "metadata": {},
   "outputs": [],
   "source": [
    "opt_ncharges = np.array([x.nuclear_charges for x in opt_mols])"
   ]
  },
  {
   "cell_type": "code",
   "execution_count": 54,
   "metadata": {},
   "outputs": [
    {
     "data": {
      "text/plain": [
       "(384, 41, 720)"
      ]
     },
     "execution_count": 54,
     "metadata": {},
     "output_type": "execute_result"
    }
   ],
   "source": [
    "opt_reps.shape"
   ]
  },
  {
   "cell_type": "code",
   "execution_count": 55,
   "metadata": {},
   "outputs": [],
   "source": [
    "opt_energy = np.array([float(qm7_props[qm7_props['file'] == label]['energy / Ha']) for label in opt_labels])"
   ]
  },
  {
   "cell_type": "code",
   "execution_count": 56,
   "metadata": {},
   "outputs": [
    {
     "data": {
      "text/plain": [
       "(384,)"
      ]
     },
     "execution_count": 56,
     "metadata": {},
     "output_type": "execute_result"
    }
   ],
   "source": [
    "opt_energy.shape"
   ]
  },
  {
   "cell_type": "code",
   "execution_count": 59,
   "metadata": {},
   "outputs": [
    {
     "name": "stdout",
     "output_type": "stream",
     "text": [
      "sigma 10 l2reg 1e-10 mae 14675.633595366675\n",
      "sigma 10 l2reg 1e-07 mae 14612.48177794967\n",
      "sigma 10 l2reg 0.0001 mae 9209.207963409168\n",
      "sigma 100 l2reg 1e-10 mae 617519.9812151014\n",
      "sigma 100 l2reg 1e-07 mae 187947.9917520971\n",
      "sigma 100 l2reg 0.0001 mae 732.9356051341902\n",
      "sigma 1000 l2reg 1e-10 mae 30944889.51414871\n",
      "sigma 1000 l2reg 1e-07 mae 1194386.7500835739\n",
      "sigma 1000 l2reg 0.0001 mae 22444.23946960078\n"
     ]
    },
    {
     "ename": "NameError",
     "evalue": "name 'min_sigma' is not defined",
     "output_type": "error",
     "traceback": [
      "\u001b[0;31m---------------------------------------------------------------------------\u001b[0m",
      "\u001b[0;31mNameError\u001b[0m                                 Traceback (most recent call last)",
      "\u001b[0;32m<ipython-input-59-b1582dbc3f09>\u001b[0m in \u001b[0;36m<module>\u001b[0;34m\u001b[0m\n\u001b[0;32m----> 1\u001b[0;31m sigma, l2reg = local_learning.opt_hypers(opt_reps, opt_ncharges, opt_energy, \n\u001b[0m\u001b[1;32m      2\u001b[0m                           \u001b[0mnp\u001b[0m\u001b[0;34m.\u001b[0m\u001b[0marray\u001b[0m\u001b[0;34m(\u001b[0m\u001b[0;34m[\u001b[0m\u001b[0mtarget_rep\u001b[0m\u001b[0;34m]\u001b[0m\u001b[0;34m)\u001b[0m\u001b[0;34m,\u001b[0m \u001b[0mnp\u001b[0m\u001b[0;34m.\u001b[0m\u001b[0marray\u001b[0m\u001b[0;34m(\u001b[0m\u001b[0;34m[\u001b[0m\u001b[0mtarget_mol\u001b[0m\u001b[0;34m.\u001b[0m\u001b[0mnuclear_charges\u001b[0m\u001b[0;34m]\u001b[0m\u001b[0;34m)\u001b[0m\u001b[0;34m,\u001b[0m\u001b[0;34m\u001b[0m\u001b[0;34m\u001b[0m\u001b[0m\n\u001b[1;32m      3\u001b[0m                          np.array([target_energy]))\n",
      "\u001b[0;32m~/projects/molekuehl/algorithms/local_learning.py\u001b[0m in \u001b[0;36mopt_hypers\u001b[0;34m(X_train, atoms_train, y_train, X_test, atoms_test, y_test)\u001b[0m\n\u001b[1;32m     37\u001b[0m \u001b[0;34m\u001b[0m\u001b[0m\n\u001b[1;32m     38\u001b[0m     \u001b[0mmin_j\u001b[0m\u001b[0;34m,\u001b[0m \u001b[0mmin_k\u001b[0m \u001b[0;34m=\u001b[0m \u001b[0mnp\u001b[0m\u001b[0;34m.\u001b[0m\u001b[0munravel_index\u001b[0m\u001b[0;34m(\u001b[0m\u001b[0mnp\u001b[0m\u001b[0;34m.\u001b[0m\u001b[0margmin\u001b[0m\u001b[0;34m(\u001b[0m\u001b[0mmaes\u001b[0m\u001b[0;34m,\u001b[0m \u001b[0maxis\u001b[0m\u001b[0;34m=\u001b[0m\u001b[0;32mNone\u001b[0m\u001b[0;34m)\u001b[0m\u001b[0;34m,\u001b[0m \u001b[0mmaes\u001b[0m\u001b[0;34m.\u001b[0m\u001b[0mshape\u001b[0m\u001b[0;34m)\u001b[0m\u001b[0;34m\u001b[0m\u001b[0;34m\u001b[0m\u001b[0m\n\u001b[0;32m---> 39\u001b[0;31m     \u001b[0mmin_sigma\u001b[0m\u001b[0;34m,\u001b[0m \u001b[0msigmas\u001b[0m\u001b[0;34m[\u001b[0m\u001b[0mmin_j\u001b[0m\u001b[0;34m]\u001b[0m\u001b[0;34m\u001b[0m\u001b[0;34m\u001b[0m\u001b[0m\n\u001b[0m\u001b[1;32m     40\u001b[0m     \u001b[0mmin_l2reg\u001b[0m \u001b[0;34m=\u001b[0m \u001b[0ml2regs\u001b[0m\u001b[0;34m[\u001b[0m\u001b[0mmin_k\u001b[0m\u001b[0;34m]\u001b[0m\u001b[0;34m\u001b[0m\u001b[0;34m\u001b[0m\u001b[0m\n\u001b[1;32m     41\u001b[0m     \u001b[0mprint\u001b[0m\u001b[0;34m(\u001b[0m\u001b[0;34m'min mae'\u001b[0m\u001b[0;34m,\u001b[0m \u001b[0mmaes\u001b[0m\u001b[0;34m[\u001b[0m\u001b[0mmin_j\u001b[0m\u001b[0;34m,\u001b[0m \u001b[0mmin_k\u001b[0m\u001b[0;34m]\u001b[0m\u001b[0;34m,\u001b[0m \u001b[0;34m'for sigma='\u001b[0m\u001b[0;34m,\u001b[0m \u001b[0mmin_sigma\u001b[0m\u001b[0;34m,\u001b[0m \u001b[0;34m'and l2reg='\u001b[0m\u001b[0;34m,\u001b[0m \u001b[0mmin_l2reg\u001b[0m\u001b[0;34m)\u001b[0m\u001b[0;34m\u001b[0m\u001b[0;34m\u001b[0m\u001b[0m\n",
      "\u001b[0;31mNameError\u001b[0m: name 'min_sigma' is not defined"
     ]
    }
   ],
   "source": [
    "sigma, l2reg = local_learning.opt_hypers(opt_reps, opt_ncharges, opt_energy, \n",
    "                          np.array([target_rep]), np.array([target_mol.nuclear_charges]),\n",
    "                         np.array([target_energy]))"
   ]
  },
  {
   "cell_type": "markdown",
   "metadata": {},
   "source": [
    "# vs amons"
   ]
  },
  {
   "cell_type": "code",
   "execution_count": null,
   "metadata": {},
   "outputs": [],
   "source": []
  }
 ],
 "metadata": {
  "kernelspec": {
   "display_name": "Python 3",
   "language": "python",
   "name": "python3"
  },
  "language_info": {
   "codemirror_mode": {
    "name": "ipython",
    "version": 3
   },
   "file_extension": ".py",
   "mimetype": "text/x-python",
   "name": "python",
   "nbconvert_exporter": "python",
   "pygments_lexer": "ipython3",
   "version": "3.8.3"
  }
 },
 "nbformat": 4,
 "nbformat_minor": 4
}
