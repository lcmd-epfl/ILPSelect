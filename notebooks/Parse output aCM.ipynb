{
 "cells": [
  {
   "cell_type": "code",
   "execution_count": 1,
   "metadata": {},
   "outputs": [],
   "source": [
    "import pandas as pd "
   ]
  },
  {
   "cell_type": "code",
   "execution_count": 2,
   "metadata": {},
   "outputs": [],
   "source": [
    "import numpy as np"
   ]
  },
  {
   "cell_type": "code",
   "execution_count": 3,
   "metadata": {},
   "outputs": [
    {
     "name": "stdout",
     "output_type": "stream",
     "text": [
      "1_moreout.out  3_moreout.out  output_aCM.csv   output_SLATM.csv\r\n",
      "2_moreout.out  4_moreout.out  output_FCHL.csv  output_SOAP.csv\r\n"
     ]
    }
   ],
   "source": [
    "!ls ../out"
   ]
  },
  {
   "cell_type": "code",
   "execution_count": 4,
   "metadata": {},
   "outputs": [],
   "source": [
    "acm_out = pd.read_csv(\"../out/output_aCM.csv\", index_col=0)"
   ]
  },
  {
   "cell_type": "code",
   "execution_count": 5,
   "metadata": {},
   "outputs": [
    {
     "data": {
      "text/html": [
       "<div>\n",
       "<style scoped>\n",
       "    .dataframe tbody tr th:only-of-type {\n",
       "        vertical-align: middle;\n",
       "    }\n",
       "\n",
       "    .dataframe tbody tr th {\n",
       "        vertical-align: top;\n",
       "    }\n",
       "\n",
       "    .dataframe thead th {\n",
       "        text-align: right;\n",
       "    }\n",
       "</style>\n",
       "<table border=\"1\" class=\"dataframe\">\n",
       "  <thead>\n",
       "    <tr style=\"text-align: right;\">\n",
       "      <th></th>\n",
       "      <th>SolN</th>\n",
       "      <th>Fragments</th>\n",
       "      <th>Excess</th>\n",
       "      <th>ObjValNoPen</th>\n",
       "      <th>ObjValWithPen</th>\n",
       "      <th>Assignments</th>\n",
       "    </tr>\n",
       "  </thead>\n",
       "  <tbody>\n",
       "    <tr>\n",
       "      <th>0</th>\n",
       "      <td>1</td>\n",
       "      <td>['qm7_3871', 'qm7_49']</td>\n",
       "      <td>[[], [6, 6]]</td>\n",
       "      <td>29874.0</td>\n",
       "      <td>49874.0</td>\n",
       "      <td>[[(3, 2), (7, 3), (4, 4), (6, 5), (5, 6), (2, ...</td>\n",
       "    </tr>\n",
       "    <tr>\n",
       "      <th>1</th>\n",
       "      <td>2</td>\n",
       "      <td>['qm7_3871', 'qm7_49']</td>\n",
       "      <td>[[], [6, 6]]</td>\n",
       "      <td>29874.0</td>\n",
       "      <td>49874.0</td>\n",
       "      <td>[[(3, 2), (1, 3), (4, 4), (6, 5), (2, 6), (5, ...</td>\n",
       "    </tr>\n",
       "    <tr>\n",
       "      <th>2</th>\n",
       "      <td>3</td>\n",
       "      <td>['qm7_3871', 'qm7_49']</td>\n",
       "      <td>[[], [6, 6]]</td>\n",
       "      <td>29874.0</td>\n",
       "      <td>49874.0</td>\n",
       "      <td>[[(3, 2), (7, 3), (4, 4), (6, 5), (2, 6), (5, ...</td>\n",
       "    </tr>\n",
       "    <tr>\n",
       "      <th>3</th>\n",
       "      <td>4</td>\n",
       "      <td>['qm7_3871', 'qm7_49']</td>\n",
       "      <td>[[], [6, 6]]</td>\n",
       "      <td>29874.0</td>\n",
       "      <td>49874.0</td>\n",
       "      <td>[[(3, 2), (1, 3), (4, 4), (6, 5), (5, 6), (2, ...</td>\n",
       "    </tr>\n",
       "    <tr>\n",
       "      <th>4</th>\n",
       "      <td>5</td>\n",
       "      <td>['qm7_3871', 'qm7_49']</td>\n",
       "      <td>[[], [6, 6]]</td>\n",
       "      <td>29874.0</td>\n",
       "      <td>49874.0</td>\n",
       "      <td>[[(3, 2), (7, 3), (4, 4), (6, 5), (5, 6), (2, ...</td>\n",
       "    </tr>\n",
       "    <tr>\n",
       "      <th>...</th>\n",
       "      <td>...</td>\n",
       "      <td>...</td>\n",
       "      <td>...</td>\n",
       "      <td>...</td>\n",
       "      <td>...</td>\n",
       "      <td>...</td>\n",
       "    </tr>\n",
       "    <tr>\n",
       "      <th>995</th>\n",
       "      <td>996</td>\n",
       "      <td>['qm7_4031', 'qm7_52']</td>\n",
       "      <td>[[], [6, 6]]</td>\n",
       "      <td>31011.0</td>\n",
       "      <td>51011.0</td>\n",
       "      <td>[[(2, 2), (3, 3), (4, 4), (6, 5), (7, 6), (5, ...</td>\n",
       "    </tr>\n",
       "    <tr>\n",
       "      <th>996</th>\n",
       "      <td>997</td>\n",
       "      <td>['qm7_4031', 'qm7_52']</td>\n",
       "      <td>[[], [6, 6]]</td>\n",
       "      <td>31011.0</td>\n",
       "      <td>51011.0</td>\n",
       "      <td>[[(1, 2), (6, 3), (4, 4), (3, 5), (7, 6), (5, ...</td>\n",
       "    </tr>\n",
       "    <tr>\n",
       "      <th>997</th>\n",
       "      <td>998</td>\n",
       "      <td>['qm7_3966', 'qm7_49']</td>\n",
       "      <td>[[], [6, 6]]</td>\n",
       "      <td>31027.0</td>\n",
       "      <td>51027.0</td>\n",
       "      <td>[[(2, 2), (7, 3), (3, 4), (5, 5), (6, 6), (4, ...</td>\n",
       "    </tr>\n",
       "    <tr>\n",
       "      <th>998</th>\n",
       "      <td>999</td>\n",
       "      <td>['qm7_3966', 'qm7_49']</td>\n",
       "      <td>[[], [6, 6]]</td>\n",
       "      <td>31027.0</td>\n",
       "      <td>51027.0</td>\n",
       "      <td>[[(2, 2), (7, 3), (3, 4), (5, 5), (6, 6), (4, ...</td>\n",
       "    </tr>\n",
       "    <tr>\n",
       "      <th>999</th>\n",
       "      <td>1000</td>\n",
       "      <td>['qm7_3966', 'qm7_49']</td>\n",
       "      <td>[[], [6, 6]]</td>\n",
       "      <td>31027.0</td>\n",
       "      <td>51027.0</td>\n",
       "      <td>[[(2, 2), (5, 3), (3, 4), (7, 5), (6, 6), (4, ...</td>\n",
       "    </tr>\n",
       "  </tbody>\n",
       "</table>\n",
       "<p>1000 rows × 6 columns</p>\n",
       "</div>"
      ],
      "text/plain": [
       "     SolN               Fragments        Excess  ObjValNoPen  ObjValWithPen  \\\n",
       "0       1  ['qm7_3871', 'qm7_49']  [[], [6, 6]]      29874.0        49874.0   \n",
       "1       2  ['qm7_3871', 'qm7_49']  [[], [6, 6]]      29874.0        49874.0   \n",
       "2       3  ['qm7_3871', 'qm7_49']  [[], [6, 6]]      29874.0        49874.0   \n",
       "3       4  ['qm7_3871', 'qm7_49']  [[], [6, 6]]      29874.0        49874.0   \n",
       "4       5  ['qm7_3871', 'qm7_49']  [[], [6, 6]]      29874.0        49874.0   \n",
       "..    ...                     ...           ...          ...            ...   \n",
       "995   996  ['qm7_4031', 'qm7_52']  [[], [6, 6]]      31011.0        51011.0   \n",
       "996   997  ['qm7_4031', 'qm7_52']  [[], [6, 6]]      31011.0        51011.0   \n",
       "997   998  ['qm7_3966', 'qm7_49']  [[], [6, 6]]      31027.0        51027.0   \n",
       "998   999  ['qm7_3966', 'qm7_49']  [[], [6, 6]]      31027.0        51027.0   \n",
       "999  1000  ['qm7_3966', 'qm7_49']  [[], [6, 6]]      31027.0        51027.0   \n",
       "\n",
       "                                           Assignments  \n",
       "0    [[(3, 2), (7, 3), (4, 4), (6, 5), (5, 6), (2, ...  \n",
       "1    [[(3, 2), (1, 3), (4, 4), (6, 5), (2, 6), (5, ...  \n",
       "2    [[(3, 2), (7, 3), (4, 4), (6, 5), (2, 6), (5, ...  \n",
       "3    [[(3, 2), (1, 3), (4, 4), (6, 5), (5, 6), (2, ...  \n",
       "4    [[(3, 2), (7, 3), (4, 4), (6, 5), (5, 6), (2, ...  \n",
       "..                                                 ...  \n",
       "995  [[(2, 2), (3, 3), (4, 4), (6, 5), (7, 6), (5, ...  \n",
       "996  [[(1, 2), (6, 3), (4, 4), (3, 5), (7, 6), (5, ...  \n",
       "997  [[(2, 2), (7, 3), (3, 4), (5, 5), (6, 6), (4, ...  \n",
       "998  [[(2, 2), (7, 3), (3, 4), (5, 5), (6, 6), (4, ...  \n",
       "999  [[(2, 2), (5, 3), (3, 4), (7, 5), (6, 6), (4, ...  \n",
       "\n",
       "[1000 rows x 6 columns]"
      ]
     },
     "execution_count": 5,
     "metadata": {},
     "output_type": "execute_result"
    }
   ],
   "source": [
    "acm_out"
   ]
  },
  {
   "cell_type": "code",
   "execution_count": 6,
   "metadata": {},
   "outputs": [],
   "source": [
    "from ast import literal_eval "
   ]
  },
  {
   "cell_type": "code",
   "execution_count": 7,
   "metadata": {},
   "outputs": [],
   "source": [
    "acm_out[\"Fragments\"] = acm_out[\"Fragments\"].apply(literal_eval)"
   ]
  },
  {
   "cell_type": "code",
   "execution_count": 8,
   "metadata": {},
   "outputs": [],
   "source": [
    "acm_out[\"Sorted Fragments\"] = acm_out[\"Fragments\"].apply(lambda x:sorted(x))"
   ]
  },
  {
   "cell_type": "code",
   "execution_count": 9,
   "metadata": {},
   "outputs": [
    {
     "data": {
      "text/plain": [
       "150"
      ]
     },
     "execution_count": 9,
     "metadata": {},
     "output_type": "execute_result"
    }
   ],
   "source": [
    "len(np.unique(acm_out[\"Sorted Fragments\"]))"
   ]
  },
  {
   "cell_type": "code",
   "execution_count": 10,
   "metadata": {},
   "outputs": [],
   "source": [
    "# excess is missing Hs - to fix "
   ]
  },
  {
   "cell_type": "code",
   "execution_count": 11,
   "metadata": {},
   "outputs": [],
   "source": [
    "import qml"
   ]
  },
  {
   "cell_type": "code",
   "execution_count": 12,
   "metadata": {},
   "outputs": [],
   "source": [
    "qm9_mol = qml.Compound(\"../targets/qm9_0.xyz\")\n",
    "qm9_ncharges = qm9_mol.nuclear_charges"
   ]
  },
  {
   "cell_type": "code",
   "execution_count": 13,
   "metadata": {},
   "outputs": [
    {
     "data": {
      "text/plain": [
       "array([8, 6, 6, 7, 6, 8, 8, 7, 6, 1, 1])"
      ]
     },
     "execution_count": 13,
     "metadata": {},
     "output_type": "execute_result"
    }
   ],
   "source": [
    "qm9_ncharges"
   ]
  },
  {
   "cell_type": "code",
   "execution_count": 14,
   "metadata": {},
   "outputs": [],
   "source": [
    "def count_ncharges(list_ncharges, elements=[1,6,7,8,16]):\n",
    "    ncharge_count = np.zeros(len(elements))\n",
    "    for ncharge in list_ncharges:\n",
    "        for i, elem in enumerate(elements):\n",
    "            if ncharge == elem:\n",
    "                ncharge_count[i] += 1\n",
    "    return ncharge_count"
   ]
  },
  {
   "cell_type": "code",
   "execution_count": 15,
   "metadata": {},
   "outputs": [],
   "source": [
    "qm9_counts = count_ncharges(qm9_ncharges)"
   ]
  },
  {
   "cell_type": "code",
   "execution_count": 16,
   "metadata": {},
   "outputs": [
    {
     "data": {
      "text/plain": [
       "array([2., 4., 2., 3., 0.])"
      ]
     },
     "execution_count": 16,
     "metadata": {},
     "output_type": "execute_result"
    }
   ],
   "source": [
    "qm9_counts"
   ]
  },
  {
   "cell_type": "code",
   "execution_count": 17,
   "metadata": {},
   "outputs": [],
   "source": [
    "def get_excess_frags(frag_list):\n",
    "    mols = [qml.Compound(\"../qm7/xyz/\"+x+\".xyz\") for x in frag_list]\n",
    "    ncharges = np.concatenate([mol.nuclear_charges for mol in mols])\n",
    "    ncharge_count = count_ncharges(ncharges)\n",
    "    \n",
    "    diff_count = ncharge_count - qm9_counts\n",
    "    excess = [[ncharge]*int(count) for ncharge, count in zip([1,6,7,8,16], diff_count)]\n",
    "    return np.concatenate(excess)"
   ]
  },
  {
   "cell_type": "code",
   "execution_count": 18,
   "metadata": {},
   "outputs": [],
   "source": [
    "def get_excess_count(frag_list):\n",
    "    mols = [qml.Compound(\"../qm7/xyz/\"+x+\".xyz\") for x in frag_list]\n",
    "    ncharges = np.concatenate([mol.nuclear_charges for mol in mols])\n",
    "    ncharge_count = count_ncharges(ncharges)\n",
    "    \n",
    "    diff_count = ncharge_count - qm9_counts\n",
    "    return diff_count"
   ]
  },
  {
   "cell_type": "code",
   "execution_count": 19,
   "metadata": {},
   "outputs": [
    {
     "data": {
      "text/plain": [
       "array([1., 1., 1., 1., 1., 1., 1., 1., 6., 6., 6., 6.])"
      ]
     },
     "execution_count": 19,
     "metadata": {},
     "output_type": "execute_result"
    }
   ],
   "source": [
    "get_excess_frags(['qm7_1107', 'qm7_5455'])"
   ]
  },
  {
   "cell_type": "code",
   "execution_count": 20,
   "metadata": {},
   "outputs": [],
   "source": [
    "acm_out[\"Excess\"] = acm_out[\"Fragments\"].apply(get_excess_frags)"
   ]
  },
  {
   "cell_type": "code",
   "execution_count": 21,
   "metadata": {},
   "outputs": [
    {
     "data": {
      "text/html": [
       "<div>\n",
       "<style scoped>\n",
       "    .dataframe tbody tr th:only-of-type {\n",
       "        vertical-align: middle;\n",
       "    }\n",
       "\n",
       "    .dataframe tbody tr th {\n",
       "        vertical-align: top;\n",
       "    }\n",
       "\n",
       "    .dataframe thead th {\n",
       "        text-align: right;\n",
       "    }\n",
       "</style>\n",
       "<table border=\"1\" class=\"dataframe\">\n",
       "  <thead>\n",
       "    <tr style=\"text-align: right;\">\n",
       "      <th></th>\n",
       "      <th>SolN</th>\n",
       "      <th>Fragments</th>\n",
       "      <th>Excess</th>\n",
       "      <th>ObjValNoPen</th>\n",
       "      <th>ObjValWithPen</th>\n",
       "      <th>Assignments</th>\n",
       "      <th>Sorted Fragments</th>\n",
       "    </tr>\n",
       "  </thead>\n",
       "  <tbody>\n",
       "    <tr>\n",
       "      <th>0</th>\n",
       "      <td>1</td>\n",
       "      <td>[qm7_3871, qm7_49]</td>\n",
       "      <td>[1.0, 1.0, 1.0, 1.0, 1.0, 1.0, 6.0, 6.0]</td>\n",
       "      <td>29874.0</td>\n",
       "      <td>49874.0</td>\n",
       "      <td>[[(3, 2), (7, 3), (4, 4), (6, 5), (5, 6), (2, ...</td>\n",
       "      <td>[qm7_3871, qm7_49]</td>\n",
       "    </tr>\n",
       "    <tr>\n",
       "      <th>1</th>\n",
       "      <td>2</td>\n",
       "      <td>[qm7_3871, qm7_49]</td>\n",
       "      <td>[1.0, 1.0, 1.0, 1.0, 1.0, 1.0, 6.0, 6.0]</td>\n",
       "      <td>29874.0</td>\n",
       "      <td>49874.0</td>\n",
       "      <td>[[(3, 2), (1, 3), (4, 4), (6, 5), (2, 6), (5, ...</td>\n",
       "      <td>[qm7_3871, qm7_49]</td>\n",
       "    </tr>\n",
       "    <tr>\n",
       "      <th>2</th>\n",
       "      <td>3</td>\n",
       "      <td>[qm7_3871, qm7_49]</td>\n",
       "      <td>[1.0, 1.0, 1.0, 1.0, 1.0, 1.0, 6.0, 6.0]</td>\n",
       "      <td>29874.0</td>\n",
       "      <td>49874.0</td>\n",
       "      <td>[[(3, 2), (7, 3), (4, 4), (6, 5), (2, 6), (5, ...</td>\n",
       "      <td>[qm7_3871, qm7_49]</td>\n",
       "    </tr>\n",
       "    <tr>\n",
       "      <th>3</th>\n",
       "      <td>4</td>\n",
       "      <td>[qm7_3871, qm7_49]</td>\n",
       "      <td>[1.0, 1.0, 1.0, 1.0, 1.0, 1.0, 6.0, 6.0]</td>\n",
       "      <td>29874.0</td>\n",
       "      <td>49874.0</td>\n",
       "      <td>[[(3, 2), (1, 3), (4, 4), (6, 5), (5, 6), (2, ...</td>\n",
       "      <td>[qm7_3871, qm7_49]</td>\n",
       "    </tr>\n",
       "    <tr>\n",
       "      <th>4</th>\n",
       "      <td>5</td>\n",
       "      <td>[qm7_3871, qm7_49]</td>\n",
       "      <td>[1.0, 1.0, 1.0, 1.0, 1.0, 1.0, 6.0, 6.0]</td>\n",
       "      <td>29874.0</td>\n",
       "      <td>49874.0</td>\n",
       "      <td>[[(3, 2), (7, 3), (4, 4), (6, 5), (5, 6), (2, ...</td>\n",
       "      <td>[qm7_3871, qm7_49]</td>\n",
       "    </tr>\n",
       "    <tr>\n",
       "      <th>...</th>\n",
       "      <td>...</td>\n",
       "      <td>...</td>\n",
       "      <td>...</td>\n",
       "      <td>...</td>\n",
       "      <td>...</td>\n",
       "      <td>...</td>\n",
       "      <td>...</td>\n",
       "    </tr>\n",
       "    <tr>\n",
       "      <th>995</th>\n",
       "      <td>996</td>\n",
       "      <td>[qm7_4031, qm7_52]</td>\n",
       "      <td>[1.0, 1.0, 1.0, 1.0, 1.0, 1.0, 1.0, 1.0, 6.0, ...</td>\n",
       "      <td>31011.0</td>\n",
       "      <td>51011.0</td>\n",
       "      <td>[[(2, 2), (3, 3), (4, 4), (6, 5), (7, 6), (5, ...</td>\n",
       "      <td>[qm7_4031, qm7_52]</td>\n",
       "    </tr>\n",
       "    <tr>\n",
       "      <th>996</th>\n",
       "      <td>997</td>\n",
       "      <td>[qm7_4031, qm7_52]</td>\n",
       "      <td>[1.0, 1.0, 1.0, 1.0, 1.0, 1.0, 1.0, 1.0, 6.0, ...</td>\n",
       "      <td>31011.0</td>\n",
       "      <td>51011.0</td>\n",
       "      <td>[[(1, 2), (6, 3), (4, 4), (3, 5), (7, 6), (5, ...</td>\n",
       "      <td>[qm7_4031, qm7_52]</td>\n",
       "    </tr>\n",
       "    <tr>\n",
       "      <th>997</th>\n",
       "      <td>998</td>\n",
       "      <td>[qm7_3966, qm7_49]</td>\n",
       "      <td>[1.0, 1.0, 1.0, 1.0, 1.0, 1.0, 1.0, 1.0, 6.0, ...</td>\n",
       "      <td>31027.0</td>\n",
       "      <td>51027.0</td>\n",
       "      <td>[[(2, 2), (7, 3), (3, 4), (5, 5), (6, 6), (4, ...</td>\n",
       "      <td>[qm7_3966, qm7_49]</td>\n",
       "    </tr>\n",
       "    <tr>\n",
       "      <th>998</th>\n",
       "      <td>999</td>\n",
       "      <td>[qm7_3966, qm7_49]</td>\n",
       "      <td>[1.0, 1.0, 1.0, 1.0, 1.0, 1.0, 1.0, 1.0, 6.0, ...</td>\n",
       "      <td>31027.0</td>\n",
       "      <td>51027.0</td>\n",
       "      <td>[[(2, 2), (7, 3), (3, 4), (5, 5), (6, 6), (4, ...</td>\n",
       "      <td>[qm7_3966, qm7_49]</td>\n",
       "    </tr>\n",
       "    <tr>\n",
       "      <th>999</th>\n",
       "      <td>1000</td>\n",
       "      <td>[qm7_3966, qm7_49]</td>\n",
       "      <td>[1.0, 1.0, 1.0, 1.0, 1.0, 1.0, 1.0, 1.0, 6.0, ...</td>\n",
       "      <td>31027.0</td>\n",
       "      <td>51027.0</td>\n",
       "      <td>[[(2, 2), (5, 3), (3, 4), (7, 5), (6, 6), (4, ...</td>\n",
       "      <td>[qm7_3966, qm7_49]</td>\n",
       "    </tr>\n",
       "  </tbody>\n",
       "</table>\n",
       "<p>1000 rows × 7 columns</p>\n",
       "</div>"
      ],
      "text/plain": [
       "     SolN           Fragments  \\\n",
       "0       1  [qm7_3871, qm7_49]   \n",
       "1       2  [qm7_3871, qm7_49]   \n",
       "2       3  [qm7_3871, qm7_49]   \n",
       "3       4  [qm7_3871, qm7_49]   \n",
       "4       5  [qm7_3871, qm7_49]   \n",
       "..    ...                 ...   \n",
       "995   996  [qm7_4031, qm7_52]   \n",
       "996   997  [qm7_4031, qm7_52]   \n",
       "997   998  [qm7_3966, qm7_49]   \n",
       "998   999  [qm7_3966, qm7_49]   \n",
       "999  1000  [qm7_3966, qm7_49]   \n",
       "\n",
       "                                                Excess  ObjValNoPen  \\\n",
       "0             [1.0, 1.0, 1.0, 1.0, 1.0, 1.0, 6.0, 6.0]      29874.0   \n",
       "1             [1.0, 1.0, 1.0, 1.0, 1.0, 1.0, 6.0, 6.0]      29874.0   \n",
       "2             [1.0, 1.0, 1.0, 1.0, 1.0, 1.0, 6.0, 6.0]      29874.0   \n",
       "3             [1.0, 1.0, 1.0, 1.0, 1.0, 1.0, 6.0, 6.0]      29874.0   \n",
       "4             [1.0, 1.0, 1.0, 1.0, 1.0, 1.0, 6.0, 6.0]      29874.0   \n",
       "..                                                 ...          ...   \n",
       "995  [1.0, 1.0, 1.0, 1.0, 1.0, 1.0, 1.0, 1.0, 6.0, ...      31011.0   \n",
       "996  [1.0, 1.0, 1.0, 1.0, 1.0, 1.0, 1.0, 1.0, 6.0, ...      31011.0   \n",
       "997  [1.0, 1.0, 1.0, 1.0, 1.0, 1.0, 1.0, 1.0, 6.0, ...      31027.0   \n",
       "998  [1.0, 1.0, 1.0, 1.0, 1.0, 1.0, 1.0, 1.0, 6.0, ...      31027.0   \n",
       "999  [1.0, 1.0, 1.0, 1.0, 1.0, 1.0, 1.0, 1.0, 6.0, ...      31027.0   \n",
       "\n",
       "     ObjValWithPen                                        Assignments  \\\n",
       "0          49874.0  [[(3, 2), (7, 3), (4, 4), (6, 5), (5, 6), (2, ...   \n",
       "1          49874.0  [[(3, 2), (1, 3), (4, 4), (6, 5), (2, 6), (5, ...   \n",
       "2          49874.0  [[(3, 2), (7, 3), (4, 4), (6, 5), (2, 6), (5, ...   \n",
       "3          49874.0  [[(3, 2), (1, 3), (4, 4), (6, 5), (5, 6), (2, ...   \n",
       "4          49874.0  [[(3, 2), (7, 3), (4, 4), (6, 5), (5, 6), (2, ...   \n",
       "..             ...                                                ...   \n",
       "995        51011.0  [[(2, 2), (3, 3), (4, 4), (6, 5), (7, 6), (5, ...   \n",
       "996        51011.0  [[(1, 2), (6, 3), (4, 4), (3, 5), (7, 6), (5, ...   \n",
       "997        51027.0  [[(2, 2), (7, 3), (3, 4), (5, 5), (6, 6), (4, ...   \n",
       "998        51027.0  [[(2, 2), (7, 3), (3, 4), (5, 5), (6, 6), (4, ...   \n",
       "999        51027.0  [[(2, 2), (5, 3), (3, 4), (7, 5), (6, 6), (4, ...   \n",
       "\n",
       "       Sorted Fragments  \n",
       "0    [qm7_3871, qm7_49]  \n",
       "1    [qm7_3871, qm7_49]  \n",
       "2    [qm7_3871, qm7_49]  \n",
       "3    [qm7_3871, qm7_49]  \n",
       "4    [qm7_3871, qm7_49]  \n",
       "..                  ...  \n",
       "995  [qm7_4031, qm7_52]  \n",
       "996  [qm7_4031, qm7_52]  \n",
       "997  [qm7_3966, qm7_49]  \n",
       "998  [qm7_3966, qm7_49]  \n",
       "999  [qm7_3966, qm7_49]  \n",
       "\n",
       "[1000 rows x 7 columns]"
      ]
     },
     "execution_count": 21,
     "metadata": {},
     "output_type": "execute_result"
    }
   ],
   "source": [
    "acm_out"
   ]
  },
  {
   "cell_type": "code",
   "execution_count": 22,
   "metadata": {},
   "outputs": [],
   "source": [
    "# get counts in excess \n",
    "acm_out[\"Excess Counts\"] = acm_out[\"Fragments\"].apply(get_excess_count)"
   ]
  },
  {
   "cell_type": "code",
   "execution_count": 23,
   "metadata": {},
   "outputs": [
    {
     "data": {
      "text/html": [
       "<div>\n",
       "<style scoped>\n",
       "    .dataframe tbody tr th:only-of-type {\n",
       "        vertical-align: middle;\n",
       "    }\n",
       "\n",
       "    .dataframe tbody tr th {\n",
       "        vertical-align: top;\n",
       "    }\n",
       "\n",
       "    .dataframe thead th {\n",
       "        text-align: right;\n",
       "    }\n",
       "</style>\n",
       "<table border=\"1\" class=\"dataframe\">\n",
       "  <thead>\n",
       "    <tr style=\"text-align: right;\">\n",
       "      <th></th>\n",
       "      <th>SolN</th>\n",
       "      <th>Fragments</th>\n",
       "      <th>Excess</th>\n",
       "      <th>ObjValNoPen</th>\n",
       "      <th>ObjValWithPen</th>\n",
       "      <th>Assignments</th>\n",
       "      <th>Sorted Fragments</th>\n",
       "      <th>Excess Counts</th>\n",
       "    </tr>\n",
       "  </thead>\n",
       "  <tbody>\n",
       "    <tr>\n",
       "      <th>0</th>\n",
       "      <td>1</td>\n",
       "      <td>[qm7_3871, qm7_49]</td>\n",
       "      <td>[1.0, 1.0, 1.0, 1.0, 1.0, 1.0, 6.0, 6.0]</td>\n",
       "      <td>29874.0</td>\n",
       "      <td>49874.0</td>\n",
       "      <td>[[(3, 2), (7, 3), (4, 4), (6, 5), (5, 6), (2, ...</td>\n",
       "      <td>[qm7_3871, qm7_49]</td>\n",
       "      <td>[6.0, 2.0, 0.0, 0.0, 0.0]</td>\n",
       "    </tr>\n",
       "    <tr>\n",
       "      <th>1</th>\n",
       "      <td>2</td>\n",
       "      <td>[qm7_3871, qm7_49]</td>\n",
       "      <td>[1.0, 1.0, 1.0, 1.0, 1.0, 1.0, 6.0, 6.0]</td>\n",
       "      <td>29874.0</td>\n",
       "      <td>49874.0</td>\n",
       "      <td>[[(3, 2), (1, 3), (4, 4), (6, 5), (2, 6), (5, ...</td>\n",
       "      <td>[qm7_3871, qm7_49]</td>\n",
       "      <td>[6.0, 2.0, 0.0, 0.0, 0.0]</td>\n",
       "    </tr>\n",
       "    <tr>\n",
       "      <th>2</th>\n",
       "      <td>3</td>\n",
       "      <td>[qm7_3871, qm7_49]</td>\n",
       "      <td>[1.0, 1.0, 1.0, 1.0, 1.0, 1.0, 6.0, 6.0]</td>\n",
       "      <td>29874.0</td>\n",
       "      <td>49874.0</td>\n",
       "      <td>[[(3, 2), (7, 3), (4, 4), (6, 5), (2, 6), (5, ...</td>\n",
       "      <td>[qm7_3871, qm7_49]</td>\n",
       "      <td>[6.0, 2.0, 0.0, 0.0, 0.0]</td>\n",
       "    </tr>\n",
       "    <tr>\n",
       "      <th>3</th>\n",
       "      <td>4</td>\n",
       "      <td>[qm7_3871, qm7_49]</td>\n",
       "      <td>[1.0, 1.0, 1.0, 1.0, 1.0, 1.0, 6.0, 6.0]</td>\n",
       "      <td>29874.0</td>\n",
       "      <td>49874.0</td>\n",
       "      <td>[[(3, 2), (1, 3), (4, 4), (6, 5), (5, 6), (2, ...</td>\n",
       "      <td>[qm7_3871, qm7_49]</td>\n",
       "      <td>[6.0, 2.0, 0.0, 0.0, 0.0]</td>\n",
       "    </tr>\n",
       "    <tr>\n",
       "      <th>4</th>\n",
       "      <td>5</td>\n",
       "      <td>[qm7_3871, qm7_49]</td>\n",
       "      <td>[1.0, 1.0, 1.0, 1.0, 1.0, 1.0, 6.0, 6.0]</td>\n",
       "      <td>29874.0</td>\n",
       "      <td>49874.0</td>\n",
       "      <td>[[(3, 2), (7, 3), (4, 4), (6, 5), (5, 6), (2, ...</td>\n",
       "      <td>[qm7_3871, qm7_49]</td>\n",
       "      <td>[6.0, 2.0, 0.0, 0.0, 0.0]</td>\n",
       "    </tr>\n",
       "    <tr>\n",
       "      <th>...</th>\n",
       "      <td>...</td>\n",
       "      <td>...</td>\n",
       "      <td>...</td>\n",
       "      <td>...</td>\n",
       "      <td>...</td>\n",
       "      <td>...</td>\n",
       "      <td>...</td>\n",
       "      <td>...</td>\n",
       "    </tr>\n",
       "    <tr>\n",
       "      <th>995</th>\n",
       "      <td>996</td>\n",
       "      <td>[qm7_4031, qm7_52]</td>\n",
       "      <td>[1.0, 1.0, 1.0, 1.0, 1.0, 1.0, 1.0, 1.0, 6.0, ...</td>\n",
       "      <td>31011.0</td>\n",
       "      <td>51011.0</td>\n",
       "      <td>[[(2, 2), (3, 3), (4, 4), (6, 5), (7, 6), (5, ...</td>\n",
       "      <td>[qm7_4031, qm7_52]</td>\n",
       "      <td>[8.0, 2.0, 0.0, 0.0, 0.0]</td>\n",
       "    </tr>\n",
       "    <tr>\n",
       "      <th>996</th>\n",
       "      <td>997</td>\n",
       "      <td>[qm7_4031, qm7_52]</td>\n",
       "      <td>[1.0, 1.0, 1.0, 1.0, 1.0, 1.0, 1.0, 1.0, 6.0, ...</td>\n",
       "      <td>31011.0</td>\n",
       "      <td>51011.0</td>\n",
       "      <td>[[(1, 2), (6, 3), (4, 4), (3, 5), (7, 6), (5, ...</td>\n",
       "      <td>[qm7_4031, qm7_52]</td>\n",
       "      <td>[8.0, 2.0, 0.0, 0.0, 0.0]</td>\n",
       "    </tr>\n",
       "    <tr>\n",
       "      <th>997</th>\n",
       "      <td>998</td>\n",
       "      <td>[qm7_3966, qm7_49]</td>\n",
       "      <td>[1.0, 1.0, 1.0, 1.0, 1.0, 1.0, 1.0, 1.0, 6.0, ...</td>\n",
       "      <td>31027.0</td>\n",
       "      <td>51027.0</td>\n",
       "      <td>[[(2, 2), (7, 3), (3, 4), (5, 5), (6, 6), (4, ...</td>\n",
       "      <td>[qm7_3966, qm7_49]</td>\n",
       "      <td>[8.0, 2.0, 0.0, 0.0, 0.0]</td>\n",
       "    </tr>\n",
       "    <tr>\n",
       "      <th>998</th>\n",
       "      <td>999</td>\n",
       "      <td>[qm7_3966, qm7_49]</td>\n",
       "      <td>[1.0, 1.0, 1.0, 1.0, 1.0, 1.0, 1.0, 1.0, 6.0, ...</td>\n",
       "      <td>31027.0</td>\n",
       "      <td>51027.0</td>\n",
       "      <td>[[(2, 2), (7, 3), (3, 4), (5, 5), (6, 6), (4, ...</td>\n",
       "      <td>[qm7_3966, qm7_49]</td>\n",
       "      <td>[8.0, 2.0, 0.0, 0.0, 0.0]</td>\n",
       "    </tr>\n",
       "    <tr>\n",
       "      <th>999</th>\n",
       "      <td>1000</td>\n",
       "      <td>[qm7_3966, qm7_49]</td>\n",
       "      <td>[1.0, 1.0, 1.0, 1.0, 1.0, 1.0, 1.0, 1.0, 6.0, ...</td>\n",
       "      <td>31027.0</td>\n",
       "      <td>51027.0</td>\n",
       "      <td>[[(2, 2), (5, 3), (3, 4), (7, 5), (6, 6), (4, ...</td>\n",
       "      <td>[qm7_3966, qm7_49]</td>\n",
       "      <td>[8.0, 2.0, 0.0, 0.0, 0.0]</td>\n",
       "    </tr>\n",
       "  </tbody>\n",
       "</table>\n",
       "<p>1000 rows × 8 columns</p>\n",
       "</div>"
      ],
      "text/plain": [
       "     SolN           Fragments  \\\n",
       "0       1  [qm7_3871, qm7_49]   \n",
       "1       2  [qm7_3871, qm7_49]   \n",
       "2       3  [qm7_3871, qm7_49]   \n",
       "3       4  [qm7_3871, qm7_49]   \n",
       "4       5  [qm7_3871, qm7_49]   \n",
       "..    ...                 ...   \n",
       "995   996  [qm7_4031, qm7_52]   \n",
       "996   997  [qm7_4031, qm7_52]   \n",
       "997   998  [qm7_3966, qm7_49]   \n",
       "998   999  [qm7_3966, qm7_49]   \n",
       "999  1000  [qm7_3966, qm7_49]   \n",
       "\n",
       "                                                Excess  ObjValNoPen  \\\n",
       "0             [1.0, 1.0, 1.0, 1.0, 1.0, 1.0, 6.0, 6.0]      29874.0   \n",
       "1             [1.0, 1.0, 1.0, 1.0, 1.0, 1.0, 6.0, 6.0]      29874.0   \n",
       "2             [1.0, 1.0, 1.0, 1.0, 1.0, 1.0, 6.0, 6.0]      29874.0   \n",
       "3             [1.0, 1.0, 1.0, 1.0, 1.0, 1.0, 6.0, 6.0]      29874.0   \n",
       "4             [1.0, 1.0, 1.0, 1.0, 1.0, 1.0, 6.0, 6.0]      29874.0   \n",
       "..                                                 ...          ...   \n",
       "995  [1.0, 1.0, 1.0, 1.0, 1.0, 1.0, 1.0, 1.0, 6.0, ...      31011.0   \n",
       "996  [1.0, 1.0, 1.0, 1.0, 1.0, 1.0, 1.0, 1.0, 6.0, ...      31011.0   \n",
       "997  [1.0, 1.0, 1.0, 1.0, 1.0, 1.0, 1.0, 1.0, 6.0, ...      31027.0   \n",
       "998  [1.0, 1.0, 1.0, 1.0, 1.0, 1.0, 1.0, 1.0, 6.0, ...      31027.0   \n",
       "999  [1.0, 1.0, 1.0, 1.0, 1.0, 1.0, 1.0, 1.0, 6.0, ...      31027.0   \n",
       "\n",
       "     ObjValWithPen                                        Assignments  \\\n",
       "0          49874.0  [[(3, 2), (7, 3), (4, 4), (6, 5), (5, 6), (2, ...   \n",
       "1          49874.0  [[(3, 2), (1, 3), (4, 4), (6, 5), (2, 6), (5, ...   \n",
       "2          49874.0  [[(3, 2), (7, 3), (4, 4), (6, 5), (2, 6), (5, ...   \n",
       "3          49874.0  [[(3, 2), (1, 3), (4, 4), (6, 5), (5, 6), (2, ...   \n",
       "4          49874.0  [[(3, 2), (7, 3), (4, 4), (6, 5), (5, 6), (2, ...   \n",
       "..             ...                                                ...   \n",
       "995        51011.0  [[(2, 2), (3, 3), (4, 4), (6, 5), (7, 6), (5, ...   \n",
       "996        51011.0  [[(1, 2), (6, 3), (4, 4), (3, 5), (7, 6), (5, ...   \n",
       "997        51027.0  [[(2, 2), (7, 3), (3, 4), (5, 5), (6, 6), (4, ...   \n",
       "998        51027.0  [[(2, 2), (7, 3), (3, 4), (5, 5), (6, 6), (4, ...   \n",
       "999        51027.0  [[(2, 2), (5, 3), (3, 4), (7, 5), (6, 6), (4, ...   \n",
       "\n",
       "       Sorted Fragments              Excess Counts  \n",
       "0    [qm7_3871, qm7_49]  [6.0, 2.0, 0.0, 0.0, 0.0]  \n",
       "1    [qm7_3871, qm7_49]  [6.0, 2.0, 0.0, 0.0, 0.0]  \n",
       "2    [qm7_3871, qm7_49]  [6.0, 2.0, 0.0, 0.0, 0.0]  \n",
       "3    [qm7_3871, qm7_49]  [6.0, 2.0, 0.0, 0.0, 0.0]  \n",
       "4    [qm7_3871, qm7_49]  [6.0, 2.0, 0.0, 0.0, 0.0]  \n",
       "..                  ...                        ...  \n",
       "995  [qm7_4031, qm7_52]  [8.0, 2.0, 0.0, 0.0, 0.0]  \n",
       "996  [qm7_4031, qm7_52]  [8.0, 2.0, 0.0, 0.0, 0.0]  \n",
       "997  [qm7_3966, qm7_49]  [8.0, 2.0, 0.0, 0.0, 0.0]  \n",
       "998  [qm7_3966, qm7_49]  [8.0, 2.0, 0.0, 0.0, 0.0]  \n",
       "999  [qm7_3966, qm7_49]  [8.0, 2.0, 0.0, 0.0, 0.0]  \n",
       "\n",
       "[1000 rows x 8 columns]"
      ]
     },
     "execution_count": 23,
     "metadata": {},
     "output_type": "execute_result"
    }
   ],
   "source": [
    "acm_out"
   ]
  },
  {
   "cell_type": "code",
   "execution_count": 24,
   "metadata": {},
   "outputs": [],
   "source": [
    "excess_counts = acm_out[\"Excess Counts\"].to_list()"
   ]
  },
  {
   "cell_type": "code",
   "execution_count": 25,
   "metadata": {},
   "outputs": [],
   "source": [
    "uniques = np.unique(excess_counts,axis=0)"
   ]
  },
  {
   "cell_type": "code",
   "execution_count": 26,
   "metadata": {},
   "outputs": [],
   "source": [
    "unique_counts = np.zeros(len(uniques))"
   ]
  },
  {
   "cell_type": "code",
   "execution_count": 27,
   "metadata": {},
   "outputs": [],
   "source": [
    "for count in excess_counts: \n",
    "    for i, unique in enumerate(uniques):\n",
    "        if np.all((count - unique) == 0):\n",
    "            unique_counts[i] += 1"
   ]
  },
  {
   "cell_type": "code",
   "execution_count": 33,
   "metadata": {},
   "outputs": [
    {
     "data": {
      "text/plain": [
       "array([[ 6.,  2.,  0.,  0.,  0.],\n",
       "       [ 8.,  2.,  0.,  0.,  0.],\n",
       "       [10.,  2.,  0.,  0.,  0.],\n",
       "       [12.,  2.,  0.,  0.,  0.]])"
      ]
     },
     "execution_count": 33,
     "metadata": {},
     "output_type": "execute_result"
    }
   ],
   "source": [
    "uniques"
   ]
  },
  {
   "cell_type": "code",
   "execution_count": 34,
   "metadata": {},
   "outputs": [
    {
     "data": {
      "text/plain": [
       "661.0"
      ]
     },
     "execution_count": 34,
     "metadata": {},
     "output_type": "execute_result"
    }
   ],
   "source": [
    "unique_counts[1]"
   ]
  },
  {
   "cell_type": "code",
   "execution_count": 35,
   "metadata": {},
   "outputs": [
    {
     "data": {
      "text/html": [
       "<div>\n",
       "<style scoped>\n",
       "    .dataframe tbody tr th:only-of-type {\n",
       "        vertical-align: middle;\n",
       "    }\n",
       "\n",
       "    .dataframe tbody tr th {\n",
       "        vertical-align: top;\n",
       "    }\n",
       "\n",
       "    .dataframe thead th {\n",
       "        text-align: right;\n",
       "    }\n",
       "</style>\n",
       "<table border=\"1\" class=\"dataframe\">\n",
       "  <thead>\n",
       "    <tr style=\"text-align: right;\">\n",
       "      <th></th>\n",
       "      <th>SolN</th>\n",
       "      <th>Fragments</th>\n",
       "      <th>Excess</th>\n",
       "      <th>ObjValNoPen</th>\n",
       "      <th>ObjValWithPen</th>\n",
       "      <th>Assignments</th>\n",
       "      <th>Sorted Fragments</th>\n",
       "      <th>Excess Counts</th>\n",
       "      <th>diff</th>\n",
       "    </tr>\n",
       "  </thead>\n",
       "  <tbody>\n",
       "    <tr>\n",
       "      <th>0</th>\n",
       "      <td>1</td>\n",
       "      <td>[qm7_3871, qm7_49]</td>\n",
       "      <td>[1.0, 1.0, 1.0, 1.0, 1.0, 1.0, 6.0, 6.0]</td>\n",
       "      <td>29874.0</td>\n",
       "      <td>49874.0</td>\n",
       "      <td>[[(3, 2), (7, 3), (4, 4), (6, 5), (5, 6), (2, ...</td>\n",
       "      <td>[qm7_3871, qm7_49]</td>\n",
       "      <td>[6.0, 2.0, 0.0, 0.0, 0.0]</td>\n",
       "      <td>[-2.0, 0.0, 0.0, 0.0, 0.0]</td>\n",
       "    </tr>\n",
       "    <tr>\n",
       "      <th>1</th>\n",
       "      <td>2</td>\n",
       "      <td>[qm7_3871, qm7_49]</td>\n",
       "      <td>[1.0, 1.0, 1.0, 1.0, 1.0, 1.0, 6.0, 6.0]</td>\n",
       "      <td>29874.0</td>\n",
       "      <td>49874.0</td>\n",
       "      <td>[[(3, 2), (1, 3), (4, 4), (6, 5), (2, 6), (5, ...</td>\n",
       "      <td>[qm7_3871, qm7_49]</td>\n",
       "      <td>[6.0, 2.0, 0.0, 0.0, 0.0]</td>\n",
       "      <td>[-2.0, 0.0, 0.0, 0.0, 0.0]</td>\n",
       "    </tr>\n",
       "    <tr>\n",
       "      <th>2</th>\n",
       "      <td>3</td>\n",
       "      <td>[qm7_3871, qm7_49]</td>\n",
       "      <td>[1.0, 1.0, 1.0, 1.0, 1.0, 1.0, 6.0, 6.0]</td>\n",
       "      <td>29874.0</td>\n",
       "      <td>49874.0</td>\n",
       "      <td>[[(3, 2), (7, 3), (4, 4), (6, 5), (2, 6), (5, ...</td>\n",
       "      <td>[qm7_3871, qm7_49]</td>\n",
       "      <td>[6.0, 2.0, 0.0, 0.0, 0.0]</td>\n",
       "      <td>[-2.0, 0.0, 0.0, 0.0, 0.0]</td>\n",
       "    </tr>\n",
       "    <tr>\n",
       "      <th>3</th>\n",
       "      <td>4</td>\n",
       "      <td>[qm7_3871, qm7_49]</td>\n",
       "      <td>[1.0, 1.0, 1.0, 1.0, 1.0, 1.0, 6.0, 6.0]</td>\n",
       "      <td>29874.0</td>\n",
       "      <td>49874.0</td>\n",
       "      <td>[[(3, 2), (1, 3), (4, 4), (6, 5), (5, 6), (2, ...</td>\n",
       "      <td>[qm7_3871, qm7_49]</td>\n",
       "      <td>[6.0, 2.0, 0.0, 0.0, 0.0]</td>\n",
       "      <td>[-2.0, 0.0, 0.0, 0.0, 0.0]</td>\n",
       "    </tr>\n",
       "    <tr>\n",
       "      <th>4</th>\n",
       "      <td>5</td>\n",
       "      <td>[qm7_3871, qm7_49]</td>\n",
       "      <td>[1.0, 1.0, 1.0, 1.0, 1.0, 1.0, 6.0, 6.0]</td>\n",
       "      <td>29874.0</td>\n",
       "      <td>49874.0</td>\n",
       "      <td>[[(3, 2), (7, 3), (4, 4), (6, 5), (5, 6), (2, ...</td>\n",
       "      <td>[qm7_3871, qm7_49]</td>\n",
       "      <td>[6.0, 2.0, 0.0, 0.0, 0.0]</td>\n",
       "      <td>[-2.0, 0.0, 0.0, 0.0, 0.0]</td>\n",
       "    </tr>\n",
       "    <tr>\n",
       "      <th>...</th>\n",
       "      <td>...</td>\n",
       "      <td>...</td>\n",
       "      <td>...</td>\n",
       "      <td>...</td>\n",
       "      <td>...</td>\n",
       "      <td>...</td>\n",
       "      <td>...</td>\n",
       "      <td>...</td>\n",
       "      <td>...</td>\n",
       "    </tr>\n",
       "    <tr>\n",
       "      <th>995</th>\n",
       "      <td>996</td>\n",
       "      <td>[qm7_4031, qm7_52]</td>\n",
       "      <td>[1.0, 1.0, 1.0, 1.0, 1.0, 1.0, 1.0, 1.0, 6.0, ...</td>\n",
       "      <td>31011.0</td>\n",
       "      <td>51011.0</td>\n",
       "      <td>[[(2, 2), (3, 3), (4, 4), (6, 5), (7, 6), (5, ...</td>\n",
       "      <td>[qm7_4031, qm7_52]</td>\n",
       "      <td>[8.0, 2.0, 0.0, 0.0, 0.0]</td>\n",
       "      <td>[0.0, 0.0, 0.0, 0.0, 0.0]</td>\n",
       "    </tr>\n",
       "    <tr>\n",
       "      <th>996</th>\n",
       "      <td>997</td>\n",
       "      <td>[qm7_4031, qm7_52]</td>\n",
       "      <td>[1.0, 1.0, 1.0, 1.0, 1.0, 1.0, 1.0, 1.0, 6.0, ...</td>\n",
       "      <td>31011.0</td>\n",
       "      <td>51011.0</td>\n",
       "      <td>[[(1, 2), (6, 3), (4, 4), (3, 5), (7, 6), (5, ...</td>\n",
       "      <td>[qm7_4031, qm7_52]</td>\n",
       "      <td>[8.0, 2.0, 0.0, 0.0, 0.0]</td>\n",
       "      <td>[0.0, 0.0, 0.0, 0.0, 0.0]</td>\n",
       "    </tr>\n",
       "    <tr>\n",
       "      <th>997</th>\n",
       "      <td>998</td>\n",
       "      <td>[qm7_3966, qm7_49]</td>\n",
       "      <td>[1.0, 1.0, 1.0, 1.0, 1.0, 1.0, 1.0, 1.0, 6.0, ...</td>\n",
       "      <td>31027.0</td>\n",
       "      <td>51027.0</td>\n",
       "      <td>[[(2, 2), (7, 3), (3, 4), (5, 5), (6, 6), (4, ...</td>\n",
       "      <td>[qm7_3966, qm7_49]</td>\n",
       "      <td>[8.0, 2.0, 0.0, 0.0, 0.0]</td>\n",
       "      <td>[0.0, 0.0, 0.0, 0.0, 0.0]</td>\n",
       "    </tr>\n",
       "    <tr>\n",
       "      <th>998</th>\n",
       "      <td>999</td>\n",
       "      <td>[qm7_3966, qm7_49]</td>\n",
       "      <td>[1.0, 1.0, 1.0, 1.0, 1.0, 1.0, 1.0, 1.0, 6.0, ...</td>\n",
       "      <td>31027.0</td>\n",
       "      <td>51027.0</td>\n",
       "      <td>[[(2, 2), (7, 3), (3, 4), (5, 5), (6, 6), (4, ...</td>\n",
       "      <td>[qm7_3966, qm7_49]</td>\n",
       "      <td>[8.0, 2.0, 0.0, 0.0, 0.0]</td>\n",
       "      <td>[0.0, 0.0, 0.0, 0.0, 0.0]</td>\n",
       "    </tr>\n",
       "    <tr>\n",
       "      <th>999</th>\n",
       "      <td>1000</td>\n",
       "      <td>[qm7_3966, qm7_49]</td>\n",
       "      <td>[1.0, 1.0, 1.0, 1.0, 1.0, 1.0, 1.0, 1.0, 6.0, ...</td>\n",
       "      <td>31027.0</td>\n",
       "      <td>51027.0</td>\n",
       "      <td>[[(2, 2), (5, 3), (3, 4), (7, 5), (6, 6), (4, ...</td>\n",
       "      <td>[qm7_3966, qm7_49]</td>\n",
       "      <td>[8.0, 2.0, 0.0, 0.0, 0.0]</td>\n",
       "      <td>[0.0, 0.0, 0.0, 0.0, 0.0]</td>\n",
       "    </tr>\n",
       "  </tbody>\n",
       "</table>\n",
       "<p>1000 rows × 9 columns</p>\n",
       "</div>"
      ],
      "text/plain": [
       "     SolN           Fragments  \\\n",
       "0       1  [qm7_3871, qm7_49]   \n",
       "1       2  [qm7_3871, qm7_49]   \n",
       "2       3  [qm7_3871, qm7_49]   \n",
       "3       4  [qm7_3871, qm7_49]   \n",
       "4       5  [qm7_3871, qm7_49]   \n",
       "..    ...                 ...   \n",
       "995   996  [qm7_4031, qm7_52]   \n",
       "996   997  [qm7_4031, qm7_52]   \n",
       "997   998  [qm7_3966, qm7_49]   \n",
       "998   999  [qm7_3966, qm7_49]   \n",
       "999  1000  [qm7_3966, qm7_49]   \n",
       "\n",
       "                                                Excess  ObjValNoPen  \\\n",
       "0             [1.0, 1.0, 1.0, 1.0, 1.0, 1.0, 6.0, 6.0]      29874.0   \n",
       "1             [1.0, 1.0, 1.0, 1.0, 1.0, 1.0, 6.0, 6.0]      29874.0   \n",
       "2             [1.0, 1.0, 1.0, 1.0, 1.0, 1.0, 6.0, 6.0]      29874.0   \n",
       "3             [1.0, 1.0, 1.0, 1.0, 1.0, 1.0, 6.0, 6.0]      29874.0   \n",
       "4             [1.0, 1.0, 1.0, 1.0, 1.0, 1.0, 6.0, 6.0]      29874.0   \n",
       "..                                                 ...          ...   \n",
       "995  [1.0, 1.0, 1.0, 1.0, 1.0, 1.0, 1.0, 1.0, 6.0, ...      31011.0   \n",
       "996  [1.0, 1.0, 1.0, 1.0, 1.0, 1.0, 1.0, 1.0, 6.0, ...      31011.0   \n",
       "997  [1.0, 1.0, 1.0, 1.0, 1.0, 1.0, 1.0, 1.0, 6.0, ...      31027.0   \n",
       "998  [1.0, 1.0, 1.0, 1.0, 1.0, 1.0, 1.0, 1.0, 6.0, ...      31027.0   \n",
       "999  [1.0, 1.0, 1.0, 1.0, 1.0, 1.0, 1.0, 1.0, 6.0, ...      31027.0   \n",
       "\n",
       "     ObjValWithPen                                        Assignments  \\\n",
       "0          49874.0  [[(3, 2), (7, 3), (4, 4), (6, 5), (5, 6), (2, ...   \n",
       "1          49874.0  [[(3, 2), (1, 3), (4, 4), (6, 5), (2, 6), (5, ...   \n",
       "2          49874.0  [[(3, 2), (7, 3), (4, 4), (6, 5), (2, 6), (5, ...   \n",
       "3          49874.0  [[(3, 2), (1, 3), (4, 4), (6, 5), (5, 6), (2, ...   \n",
       "4          49874.0  [[(3, 2), (7, 3), (4, 4), (6, 5), (5, 6), (2, ...   \n",
       "..             ...                                                ...   \n",
       "995        51011.0  [[(2, 2), (3, 3), (4, 4), (6, 5), (7, 6), (5, ...   \n",
       "996        51011.0  [[(1, 2), (6, 3), (4, 4), (3, 5), (7, 6), (5, ...   \n",
       "997        51027.0  [[(2, 2), (7, 3), (3, 4), (5, 5), (6, 6), (4, ...   \n",
       "998        51027.0  [[(2, 2), (7, 3), (3, 4), (5, 5), (6, 6), (4, ...   \n",
       "999        51027.0  [[(2, 2), (5, 3), (3, 4), (7, 5), (6, 6), (4, ...   \n",
       "\n",
       "       Sorted Fragments              Excess Counts                        diff  \n",
       "0    [qm7_3871, qm7_49]  [6.0, 2.0, 0.0, 0.0, 0.0]  [-2.0, 0.0, 0.0, 0.0, 0.0]  \n",
       "1    [qm7_3871, qm7_49]  [6.0, 2.0, 0.0, 0.0, 0.0]  [-2.0, 0.0, 0.0, 0.0, 0.0]  \n",
       "2    [qm7_3871, qm7_49]  [6.0, 2.0, 0.0, 0.0, 0.0]  [-2.0, 0.0, 0.0, 0.0, 0.0]  \n",
       "3    [qm7_3871, qm7_49]  [6.0, 2.0, 0.0, 0.0, 0.0]  [-2.0, 0.0, 0.0, 0.0, 0.0]  \n",
       "4    [qm7_3871, qm7_49]  [6.0, 2.0, 0.0, 0.0, 0.0]  [-2.0, 0.0, 0.0, 0.0, 0.0]  \n",
       "..                  ...                        ...                         ...  \n",
       "995  [qm7_4031, qm7_52]  [8.0, 2.0, 0.0, 0.0, 0.0]   [0.0, 0.0, 0.0, 0.0, 0.0]  \n",
       "996  [qm7_4031, qm7_52]  [8.0, 2.0, 0.0, 0.0, 0.0]   [0.0, 0.0, 0.0, 0.0, 0.0]  \n",
       "997  [qm7_3966, qm7_49]  [8.0, 2.0, 0.0, 0.0, 0.0]   [0.0, 0.0, 0.0, 0.0, 0.0]  \n",
       "998  [qm7_3966, qm7_49]  [8.0, 2.0, 0.0, 0.0, 0.0]   [0.0, 0.0, 0.0, 0.0, 0.0]  \n",
       "999  [qm7_3966, qm7_49]  [8.0, 2.0, 0.0, 0.0, 0.0]   [0.0, 0.0, 0.0, 0.0, 0.0]  \n",
       "\n",
       "[1000 rows x 9 columns]"
      ]
     },
     "execution_count": 35,
     "metadata": {},
     "output_type": "execute_result"
    }
   ],
   "source": [
    "acm_out['diff'] = acm_out[\"Excess Counts\"].apply(lambda x:x-uniques[1])\n",
    "acm_out"
   ]
  },
  {
   "cell_type": "code",
   "execution_count": 36,
   "metadata": {},
   "outputs": [],
   "source": [
    "acm_out['bool'] = acm_out[\"diff\"].apply(lambda x: np.all((x==0)))"
   ]
  },
  {
   "cell_type": "code",
   "execution_count": 37,
   "metadata": {},
   "outputs": [
    {
     "data": {
      "text/html": [
       "<div>\n",
       "<style scoped>\n",
       "    .dataframe tbody tr th:only-of-type {\n",
       "        vertical-align: middle;\n",
       "    }\n",
       "\n",
       "    .dataframe tbody tr th {\n",
       "        vertical-align: top;\n",
       "    }\n",
       "\n",
       "    .dataframe thead th {\n",
       "        text-align: right;\n",
       "    }\n",
       "</style>\n",
       "<table border=\"1\" class=\"dataframe\">\n",
       "  <thead>\n",
       "    <tr style=\"text-align: right;\">\n",
       "      <th></th>\n",
       "      <th>SolN</th>\n",
       "      <th>Fragments</th>\n",
       "      <th>Excess</th>\n",
       "      <th>ObjValNoPen</th>\n",
       "      <th>ObjValWithPen</th>\n",
       "      <th>Assignments</th>\n",
       "      <th>Sorted Fragments</th>\n",
       "      <th>Excess Counts</th>\n",
       "      <th>diff</th>\n",
       "      <th>bool</th>\n",
       "    </tr>\n",
       "  </thead>\n",
       "  <tbody>\n",
       "    <tr>\n",
       "      <th>0</th>\n",
       "      <td>1</td>\n",
       "      <td>[qm7_3871, qm7_49]</td>\n",
       "      <td>[1.0, 1.0, 1.0, 1.0, 1.0, 1.0, 6.0, 6.0]</td>\n",
       "      <td>29874.0</td>\n",
       "      <td>49874.0</td>\n",
       "      <td>[[(3, 2), (7, 3), (4, 4), (6, 5), (5, 6), (2, ...</td>\n",
       "      <td>[qm7_3871, qm7_49]</td>\n",
       "      <td>[6.0, 2.0, 0.0, 0.0, 0.0]</td>\n",
       "      <td>[-2.0, 0.0, 0.0, 0.0, 0.0]</td>\n",
       "      <td>False</td>\n",
       "    </tr>\n",
       "    <tr>\n",
       "      <th>1</th>\n",
       "      <td>2</td>\n",
       "      <td>[qm7_3871, qm7_49]</td>\n",
       "      <td>[1.0, 1.0, 1.0, 1.0, 1.0, 1.0, 6.0, 6.0]</td>\n",
       "      <td>29874.0</td>\n",
       "      <td>49874.0</td>\n",
       "      <td>[[(3, 2), (1, 3), (4, 4), (6, 5), (2, 6), (5, ...</td>\n",
       "      <td>[qm7_3871, qm7_49]</td>\n",
       "      <td>[6.0, 2.0, 0.0, 0.0, 0.0]</td>\n",
       "      <td>[-2.0, 0.0, 0.0, 0.0, 0.0]</td>\n",
       "      <td>False</td>\n",
       "    </tr>\n",
       "    <tr>\n",
       "      <th>2</th>\n",
       "      <td>3</td>\n",
       "      <td>[qm7_3871, qm7_49]</td>\n",
       "      <td>[1.0, 1.0, 1.0, 1.0, 1.0, 1.0, 6.0, 6.0]</td>\n",
       "      <td>29874.0</td>\n",
       "      <td>49874.0</td>\n",
       "      <td>[[(3, 2), (7, 3), (4, 4), (6, 5), (2, 6), (5, ...</td>\n",
       "      <td>[qm7_3871, qm7_49]</td>\n",
       "      <td>[6.0, 2.0, 0.0, 0.0, 0.0]</td>\n",
       "      <td>[-2.0, 0.0, 0.0, 0.0, 0.0]</td>\n",
       "      <td>False</td>\n",
       "    </tr>\n",
       "    <tr>\n",
       "      <th>3</th>\n",
       "      <td>4</td>\n",
       "      <td>[qm7_3871, qm7_49]</td>\n",
       "      <td>[1.0, 1.0, 1.0, 1.0, 1.0, 1.0, 6.0, 6.0]</td>\n",
       "      <td>29874.0</td>\n",
       "      <td>49874.0</td>\n",
       "      <td>[[(3, 2), (1, 3), (4, 4), (6, 5), (5, 6), (2, ...</td>\n",
       "      <td>[qm7_3871, qm7_49]</td>\n",
       "      <td>[6.0, 2.0, 0.0, 0.0, 0.0]</td>\n",
       "      <td>[-2.0, 0.0, 0.0, 0.0, 0.0]</td>\n",
       "      <td>False</td>\n",
       "    </tr>\n",
       "    <tr>\n",
       "      <th>4</th>\n",
       "      <td>5</td>\n",
       "      <td>[qm7_3871, qm7_49]</td>\n",
       "      <td>[1.0, 1.0, 1.0, 1.0, 1.0, 1.0, 6.0, 6.0]</td>\n",
       "      <td>29874.0</td>\n",
       "      <td>49874.0</td>\n",
       "      <td>[[(3, 2), (7, 3), (4, 4), (6, 5), (5, 6), (2, ...</td>\n",
       "      <td>[qm7_3871, qm7_49]</td>\n",
       "      <td>[6.0, 2.0, 0.0, 0.0, 0.0]</td>\n",
       "      <td>[-2.0, 0.0, 0.0, 0.0, 0.0]</td>\n",
       "      <td>False</td>\n",
       "    </tr>\n",
       "    <tr>\n",
       "      <th>...</th>\n",
       "      <td>...</td>\n",
       "      <td>...</td>\n",
       "      <td>...</td>\n",
       "      <td>...</td>\n",
       "      <td>...</td>\n",
       "      <td>...</td>\n",
       "      <td>...</td>\n",
       "      <td>...</td>\n",
       "      <td>...</td>\n",
       "      <td>...</td>\n",
       "    </tr>\n",
       "    <tr>\n",
       "      <th>995</th>\n",
       "      <td>996</td>\n",
       "      <td>[qm7_4031, qm7_52]</td>\n",
       "      <td>[1.0, 1.0, 1.0, 1.0, 1.0, 1.0, 1.0, 1.0, 6.0, ...</td>\n",
       "      <td>31011.0</td>\n",
       "      <td>51011.0</td>\n",
       "      <td>[[(2, 2), (3, 3), (4, 4), (6, 5), (7, 6), (5, ...</td>\n",
       "      <td>[qm7_4031, qm7_52]</td>\n",
       "      <td>[8.0, 2.0, 0.0, 0.0, 0.0]</td>\n",
       "      <td>[0.0, 0.0, 0.0, 0.0, 0.0]</td>\n",
       "      <td>True</td>\n",
       "    </tr>\n",
       "    <tr>\n",
       "      <th>996</th>\n",
       "      <td>997</td>\n",
       "      <td>[qm7_4031, qm7_52]</td>\n",
       "      <td>[1.0, 1.0, 1.0, 1.0, 1.0, 1.0, 1.0, 1.0, 6.0, ...</td>\n",
       "      <td>31011.0</td>\n",
       "      <td>51011.0</td>\n",
       "      <td>[[(1, 2), (6, 3), (4, 4), (3, 5), (7, 6), (5, ...</td>\n",
       "      <td>[qm7_4031, qm7_52]</td>\n",
       "      <td>[8.0, 2.0, 0.0, 0.0, 0.0]</td>\n",
       "      <td>[0.0, 0.0, 0.0, 0.0, 0.0]</td>\n",
       "      <td>True</td>\n",
       "    </tr>\n",
       "    <tr>\n",
       "      <th>997</th>\n",
       "      <td>998</td>\n",
       "      <td>[qm7_3966, qm7_49]</td>\n",
       "      <td>[1.0, 1.0, 1.0, 1.0, 1.0, 1.0, 1.0, 1.0, 6.0, ...</td>\n",
       "      <td>31027.0</td>\n",
       "      <td>51027.0</td>\n",
       "      <td>[[(2, 2), (7, 3), (3, 4), (5, 5), (6, 6), (4, ...</td>\n",
       "      <td>[qm7_3966, qm7_49]</td>\n",
       "      <td>[8.0, 2.0, 0.0, 0.0, 0.0]</td>\n",
       "      <td>[0.0, 0.0, 0.0, 0.0, 0.0]</td>\n",
       "      <td>True</td>\n",
       "    </tr>\n",
       "    <tr>\n",
       "      <th>998</th>\n",
       "      <td>999</td>\n",
       "      <td>[qm7_3966, qm7_49]</td>\n",
       "      <td>[1.0, 1.0, 1.0, 1.0, 1.0, 1.0, 1.0, 1.0, 6.0, ...</td>\n",
       "      <td>31027.0</td>\n",
       "      <td>51027.0</td>\n",
       "      <td>[[(2, 2), (7, 3), (3, 4), (5, 5), (6, 6), (4, ...</td>\n",
       "      <td>[qm7_3966, qm7_49]</td>\n",
       "      <td>[8.0, 2.0, 0.0, 0.0, 0.0]</td>\n",
       "      <td>[0.0, 0.0, 0.0, 0.0, 0.0]</td>\n",
       "      <td>True</td>\n",
       "    </tr>\n",
       "    <tr>\n",
       "      <th>999</th>\n",
       "      <td>1000</td>\n",
       "      <td>[qm7_3966, qm7_49]</td>\n",
       "      <td>[1.0, 1.0, 1.0, 1.0, 1.0, 1.0, 1.0, 1.0, 6.0, ...</td>\n",
       "      <td>31027.0</td>\n",
       "      <td>51027.0</td>\n",
       "      <td>[[(2, 2), (5, 3), (3, 4), (7, 5), (6, 6), (4, ...</td>\n",
       "      <td>[qm7_3966, qm7_49]</td>\n",
       "      <td>[8.0, 2.0, 0.0, 0.0, 0.0]</td>\n",
       "      <td>[0.0, 0.0, 0.0, 0.0, 0.0]</td>\n",
       "      <td>True</td>\n",
       "    </tr>\n",
       "  </tbody>\n",
       "</table>\n",
       "<p>1000 rows × 10 columns</p>\n",
       "</div>"
      ],
      "text/plain": [
       "     SolN           Fragments  \\\n",
       "0       1  [qm7_3871, qm7_49]   \n",
       "1       2  [qm7_3871, qm7_49]   \n",
       "2       3  [qm7_3871, qm7_49]   \n",
       "3       4  [qm7_3871, qm7_49]   \n",
       "4       5  [qm7_3871, qm7_49]   \n",
       "..    ...                 ...   \n",
       "995   996  [qm7_4031, qm7_52]   \n",
       "996   997  [qm7_4031, qm7_52]   \n",
       "997   998  [qm7_3966, qm7_49]   \n",
       "998   999  [qm7_3966, qm7_49]   \n",
       "999  1000  [qm7_3966, qm7_49]   \n",
       "\n",
       "                                                Excess  ObjValNoPen  \\\n",
       "0             [1.0, 1.0, 1.0, 1.0, 1.0, 1.0, 6.0, 6.0]      29874.0   \n",
       "1             [1.0, 1.0, 1.0, 1.0, 1.0, 1.0, 6.0, 6.0]      29874.0   \n",
       "2             [1.0, 1.0, 1.0, 1.0, 1.0, 1.0, 6.0, 6.0]      29874.0   \n",
       "3             [1.0, 1.0, 1.0, 1.0, 1.0, 1.0, 6.0, 6.0]      29874.0   \n",
       "4             [1.0, 1.0, 1.0, 1.0, 1.0, 1.0, 6.0, 6.0]      29874.0   \n",
       "..                                                 ...          ...   \n",
       "995  [1.0, 1.0, 1.0, 1.0, 1.0, 1.0, 1.0, 1.0, 6.0, ...      31011.0   \n",
       "996  [1.0, 1.0, 1.0, 1.0, 1.0, 1.0, 1.0, 1.0, 6.0, ...      31011.0   \n",
       "997  [1.0, 1.0, 1.0, 1.0, 1.0, 1.0, 1.0, 1.0, 6.0, ...      31027.0   \n",
       "998  [1.0, 1.0, 1.0, 1.0, 1.0, 1.0, 1.0, 1.0, 6.0, ...      31027.0   \n",
       "999  [1.0, 1.0, 1.0, 1.0, 1.0, 1.0, 1.0, 1.0, 6.0, ...      31027.0   \n",
       "\n",
       "     ObjValWithPen                                        Assignments  \\\n",
       "0          49874.0  [[(3, 2), (7, 3), (4, 4), (6, 5), (5, 6), (2, ...   \n",
       "1          49874.0  [[(3, 2), (1, 3), (4, 4), (6, 5), (2, 6), (5, ...   \n",
       "2          49874.0  [[(3, 2), (7, 3), (4, 4), (6, 5), (2, 6), (5, ...   \n",
       "3          49874.0  [[(3, 2), (1, 3), (4, 4), (6, 5), (5, 6), (2, ...   \n",
       "4          49874.0  [[(3, 2), (7, 3), (4, 4), (6, 5), (5, 6), (2, ...   \n",
       "..             ...                                                ...   \n",
       "995        51011.0  [[(2, 2), (3, 3), (4, 4), (6, 5), (7, 6), (5, ...   \n",
       "996        51011.0  [[(1, 2), (6, 3), (4, 4), (3, 5), (7, 6), (5, ...   \n",
       "997        51027.0  [[(2, 2), (7, 3), (3, 4), (5, 5), (6, 6), (4, ...   \n",
       "998        51027.0  [[(2, 2), (7, 3), (3, 4), (5, 5), (6, 6), (4, ...   \n",
       "999        51027.0  [[(2, 2), (5, 3), (3, 4), (7, 5), (6, 6), (4, ...   \n",
       "\n",
       "       Sorted Fragments              Excess Counts  \\\n",
       "0    [qm7_3871, qm7_49]  [6.0, 2.0, 0.0, 0.0, 0.0]   \n",
       "1    [qm7_3871, qm7_49]  [6.0, 2.0, 0.0, 0.0, 0.0]   \n",
       "2    [qm7_3871, qm7_49]  [6.0, 2.0, 0.0, 0.0, 0.0]   \n",
       "3    [qm7_3871, qm7_49]  [6.0, 2.0, 0.0, 0.0, 0.0]   \n",
       "4    [qm7_3871, qm7_49]  [6.0, 2.0, 0.0, 0.0, 0.0]   \n",
       "..                  ...                        ...   \n",
       "995  [qm7_4031, qm7_52]  [8.0, 2.0, 0.0, 0.0, 0.0]   \n",
       "996  [qm7_4031, qm7_52]  [8.0, 2.0, 0.0, 0.0, 0.0]   \n",
       "997  [qm7_3966, qm7_49]  [8.0, 2.0, 0.0, 0.0, 0.0]   \n",
       "998  [qm7_3966, qm7_49]  [8.0, 2.0, 0.0, 0.0, 0.0]   \n",
       "999  [qm7_3966, qm7_49]  [8.0, 2.0, 0.0, 0.0, 0.0]   \n",
       "\n",
       "                           diff   bool  \n",
       "0    [-2.0, 0.0, 0.0, 0.0, 0.0]  False  \n",
       "1    [-2.0, 0.0, 0.0, 0.0, 0.0]  False  \n",
       "2    [-2.0, 0.0, 0.0, 0.0, 0.0]  False  \n",
       "3    [-2.0, 0.0, 0.0, 0.0, 0.0]  False  \n",
       "4    [-2.0, 0.0, 0.0, 0.0, 0.0]  False  \n",
       "..                          ...    ...  \n",
       "995   [0.0, 0.0, 0.0, 0.0, 0.0]   True  \n",
       "996   [0.0, 0.0, 0.0, 0.0, 0.0]   True  \n",
       "997   [0.0, 0.0, 0.0, 0.0, 0.0]   True  \n",
       "998   [0.0, 0.0, 0.0, 0.0, 0.0]   True  \n",
       "999   [0.0, 0.0, 0.0, 0.0, 0.0]   True  \n",
       "\n",
       "[1000 rows x 10 columns]"
      ]
     },
     "execution_count": 37,
     "metadata": {},
     "output_type": "execute_result"
    }
   ],
   "source": [
    "acm_out"
   ]
  },
  {
   "cell_type": "code",
   "execution_count": 38,
   "metadata": {},
   "outputs": [],
   "source": [
    "acm_out_sub = acm_out[acm_out['bool'] == True]"
   ]
  },
  {
   "cell_type": "code",
   "execution_count": 39,
   "metadata": {},
   "outputs": [],
   "source": [
    "# get energies\n",
    "# qm7 energies are in qm7 dir \n",
    "# need qm9 energies and excess contribution"
   ]
  },
  {
   "cell_type": "code",
   "execution_count": 40,
   "metadata": {},
   "outputs": [],
   "source": [
    "from sklearn.linear_model import LinearRegression"
   ]
  },
  {
   "cell_type": "code",
   "execution_count": 41,
   "metadata": {},
   "outputs": [],
   "source": [
    "# need ncharges list and list of energies"
   ]
  },
  {
   "cell_type": "code",
   "execution_count": 42,
   "metadata": {},
   "outputs": [],
   "source": [
    "import qml"
   ]
  },
  {
   "cell_type": "code",
   "execution_count": 43,
   "metadata": {},
   "outputs": [],
   "source": [
    "qm7 = pd.read_csv(\"../qm7/energies.csv\", index_col=0)\n",
    "files = qm7[\"file\"].to_list()"
   ]
  },
  {
   "cell_type": "code",
   "execution_count": 44,
   "metadata": {},
   "outputs": [],
   "source": [
    "mols = [qml.Compound(\"../qm7/xyz/\"+x+\".xyz\") for x in files]"
   ]
  },
  {
   "cell_type": "code",
   "execution_count": 45,
   "metadata": {},
   "outputs": [],
   "source": [
    "ncharges = [mol.nuclear_charges for mol in mols]"
   ]
  },
  {
   "cell_type": "code",
   "execution_count": 46,
   "metadata": {},
   "outputs": [],
   "source": [
    "# ncharges convert to count\n",
    "elements = [1, 6, 7, 8, 16]\n",
    "ncharge_counts = []\n",
    "for ncharge_list in ncharges: \n",
    "    ncharge_count = count_ncharges(ncharge_list)\n",
    "    ncharge_counts.append(ncharge_count)"
   ]
  },
  {
   "cell_type": "code",
   "execution_count": 47,
   "metadata": {},
   "outputs": [],
   "source": [
    "energies = qm7[\"energy / Ha\"].to_list()"
   ]
  },
  {
   "cell_type": "code",
   "execution_count": 48,
   "metadata": {},
   "outputs": [],
   "source": [
    "reg = LinearRegression().fit(ncharge_counts, energies)"
   ]
  },
  {
   "cell_type": "code",
   "execution_count": 49,
   "metadata": {},
   "outputs": [
    {
     "data": {
      "text/plain": [
       "0.9999998316921461"
      ]
     },
     "execution_count": 49,
     "metadata": {},
     "output_type": "execute_result"
    }
   ],
   "source": [
    "reg.score(ncharge_counts, energies)"
   ]
  },
  {
   "cell_type": "code",
   "execution_count": 50,
   "metadata": {},
   "outputs": [],
   "source": [
    "coeff_energies = reg.coef_"
   ]
  },
  {
   "cell_type": "code",
   "execution_count": 51,
   "metadata": {},
   "outputs": [],
   "source": [
    "coeff_energies = dict(zip(elements, coeff_energies))"
   ]
  },
  {
   "cell_type": "code",
   "execution_count": 52,
   "metadata": {},
   "outputs": [
    {
     "data": {
      "text/plain": [
       "{1: -0.610028423353568,\n",
       " 6: -38.01906466911171,\n",
       " 7: -54.647732784759256,\n",
       " 8: -75.09076868694648,\n",
       " 16: -397.9423885459585}"
      ]
     },
     "execution_count": 52,
     "metadata": {},
     "output_type": "execute_result"
    }
   ],
   "source": [
    "coeff_energies"
   ]
  },
  {
   "cell_type": "code",
   "execution_count": 53,
   "metadata": {},
   "outputs": [],
   "source": [
    "def match_file_to_energy(filename):\n",
    "    energies = pd.read_csv(\"../qm7/energies.csv\")\n",
    "    energy = energies.loc[energies[\"file\"] == filename][\"energy / Ha\"]\n",
    "    energy = float(energy)\n",
    "    return energy"
   ]
  },
  {
   "cell_type": "code",
   "execution_count": 54,
   "metadata": {},
   "outputs": [],
   "source": [
    "def get_excess_energy(excess_ncharges):\n",
    "    energy = np.sum([coeff_energies[x] for x in excess_ncharges])\n",
    "    return energy"
   ]
  },
  {
   "cell_type": "code",
   "execution_count": 55,
   "metadata": {},
   "outputs": [],
   "source": [
    "def get_reaction_energy(fragment_list, excess_ncharges):\n",
    "    qm9_energy = -487.817450280942 # Ha\n",
    "    \n",
    "    excess_energy = get_excess_energy(excess_ncharges)\n",
    "    \n",
    "    frag_energies = np.sum([match_file_to_energy(x) for x in fragment_list])\n",
    "    \n",
    "    rxn_energy = frag_energies - qm9_energy - excess_energy\n",
    "    return rxn_energy"
   ]
  },
  {
   "cell_type": "code",
   "execution_count": 56,
   "metadata": {},
   "outputs": [
    {
     "name": "stderr",
     "output_type": "stream",
     "text": [
      "<ipython-input-56-7651758b7d17>:1: SettingWithCopyWarning: \n",
      "A value is trying to be set on a copy of a slice from a DataFrame.\n",
      "Try using .loc[row_indexer,col_indexer] = value instead\n",
      "\n",
      "See the caveats in the documentation: https://pandas.pydata.org/pandas-docs/stable/user_guide/indexing.html#returning-a-view-versus-a-copy\n",
      "  acm_out_sub[\"energies / Ha\"] = acm_out_sub.apply(lambda x: get_reaction_energy(x[\"Fragments\"], x[\"Excess\"]),\n"
     ]
    }
   ],
   "source": [
    "acm_out_sub[\"energies / Ha\"] = acm_out_sub.apply(lambda x: get_reaction_energy(x[\"Fragments\"], x[\"Excess\"]),\n",
    "                                                     axis=1)"
   ]
  },
  {
   "cell_type": "code",
   "execution_count": 57,
   "metadata": {},
   "outputs": [
    {
     "name": "stderr",
     "output_type": "stream",
     "text": [
      "<ipython-input-57-bb2433944636>:1: SettingWithCopyWarning: \n",
      "A value is trying to be set on a copy of a slice from a DataFrame.\n",
      "Try using .loc[row_indexer,col_indexer] = value instead\n",
      "\n",
      "See the caveats in the documentation: https://pandas.pydata.org/pandas-docs/stable/user_guide/indexing.html#returning-a-view-versus-a-copy\n",
      "  acm_out_sub[\"energies / kcal/mol\"] = acm_out_sub[\"energies / Ha\"] * 627.5\n"
     ]
    }
   ],
   "source": [
    "acm_out_sub[\"energies / kcal/mol\"] = acm_out_sub[\"energies / Ha\"] * 627.5"
   ]
  },
  {
   "cell_type": "code",
   "execution_count": 58,
   "metadata": {},
   "outputs": [],
   "source": [
    "unique_energies = np.unique(acm_out_sub[\"energies / Ha\"])"
   ]
  },
  {
   "cell_type": "code",
   "execution_count": 59,
   "metadata": {},
   "outputs": [],
   "source": [
    "args = []\n",
    "for energy in unique_energies: \n",
    "    matches = acm_out_sub[acm_out_sub[\"energies / Ha\"] == energy]\n",
    "    # find minimum \n",
    "    argmin = matches[\"ObjValNoPen\"].idxmin()\n",
    "    args.append(argmin)"
   ]
  },
  {
   "cell_type": "code",
   "execution_count": 60,
   "metadata": {},
   "outputs": [],
   "source": [
    "no_duplicates = acm_out_sub.loc[args]"
   ]
  },
  {
   "cell_type": "code",
   "execution_count": 61,
   "metadata": {},
   "outputs": [
    {
     "data": {
      "text/plain": [
       "106"
      ]
     },
     "execution_count": 61,
     "metadata": {},
     "output_type": "execute_result"
    }
   ],
   "source": [
    "len(no_duplicates)"
   ]
  },
  {
   "cell_type": "code",
   "execution_count": 62,
   "metadata": {},
   "outputs": [],
   "source": [
    "import matplotlib.pyplot as plt\n",
    "import matplotlib"
   ]
  },
  {
   "cell_type": "code",
   "execution_count": 63,
   "metadata": {},
   "outputs": [],
   "source": [
    "matplotlib.rcParams.update({'font.size': 12})"
   ]
  },
  {
   "cell_type": "code",
   "execution_count": 67,
   "metadata": {},
   "outputs": [
    {
     "data": {
      "image/png": "[encoded data removed]",
      "text/plain": [
       "<Figure size 432x288 with 2 Axes>"
      ]
     },
     "metadata": {
      "needs_background": "light"
     },
     "output_type": "display_data"
    }
   ],
   "source": [
    "fig, ax = plt.subplots(nrows=1, ncols=2)\n",
    "ax[0].scatter(np.sqrt(no_duplicates[\"ObjValNoPen\"]), no_duplicates[\"energies / kcal/mol\"], s=10)\n",
    "ax[0].set_xlabel(\"Sum of atom-wise L2-norm\")\n",
    "ax[0].set_ylabel(\"Reaction energy / kcal/mol\")\n",
    "\n",
    "x = np.exp(-no_duplicates[\"ObjValNoPen\"]/(2*1000**2))\n",
    "ax[1].scatter(x, no_duplicates[\"energies / kcal/mol\"], s=10)\n",
    "ax[1].set_xlabel(\"Similarity\")\n",
    "\n",
    "plt.tight_layout()\n",
    "plt.savefig(\"../figures/correlation-acm-local-8H2C.png\", dpi=300)\n",
    "plt.show()"
   ]
  },
  {
   "cell_type": "code",
   "execution_count": 90,
   "metadata": {},
   "outputs": [
    {
     "data": {
      "text/plain": [
       "244"
      ]
     },
     "execution_count": 90,
     "metadata": {},
     "output_type": "execute_result"
    }
   ],
   "source": [
    "len(no_duplicates)"
   ]
  },
  {
   "cell_type": "code",
   "execution_count": 59,
   "metadata": {},
   "outputs": [],
   "source": [
    "# now remove duplicates, i.e. only one distance per energy "
   ]
  },
  {
   "cell_type": "code",
   "execution_count": 93,
   "metadata": {},
   "outputs": [
    {
     "data": {
      "text/html": [
       "<div>\n",
       "<style scoped>\n",
       "    .dataframe tbody tr th:only-of-type {\n",
       "        vertical-align: middle;\n",
       "    }\n",
       "\n",
       "    .dataframe tbody tr th {\n",
       "        vertical-align: top;\n",
       "    }\n",
       "\n",
       "    .dataframe thead th {\n",
       "        text-align: right;\n",
       "    }\n",
       "</style>\n",
       "<table border=\"1\" class=\"dataframe\">\n",
       "  <thead>\n",
       "    <tr style=\"text-align: right;\">\n",
       "      <th></th>\n",
       "      <th>SolN</th>\n",
       "      <th>Fragments</th>\n",
       "      <th>Excess</th>\n",
       "      <th>ObjValNoPen</th>\n",
       "      <th>ObjValWithPen</th>\n",
       "      <th>Assignments</th>\n",
       "      <th>Sorted Fragments</th>\n",
       "      <th>Excess Counts</th>\n",
       "      <th>diff</th>\n",
       "      <th>bool</th>\n",
       "      <th>energies / Ha</th>\n",
       "      <th>energies / kcal/mol</th>\n",
       "    </tr>\n",
       "  </thead>\n",
       "  <tbody>\n",
       "    <tr>\n",
       "      <th>11</th>\n",
       "      <td>12</td>\n",
       "      <td>[qm7_4944, qm7_4119]</td>\n",
       "      <td>[1.0, 1.0, 1.0, 1.0, 1.0, 1.0, 1.0, 1.0, 1.0, ...</td>\n",
       "      <td>107359.0</td>\n",
       "      <td>157359.0</td>\n",
       "      <td>[[(7, 1), (6, 2), (3, 7), (4, 8), (5, 9)], [(2...</td>\n",
       "      <td>[qm7_4119, qm7_4944]</td>\n",
       "      <td>[9.0, 4.0, 1.0, 0.0, 0.0]</td>\n",
       "      <td>[0.0, 0.0, 0.0, 0.0, 0.0]</td>\n",
       "      <td>True</td>\n",
       "      <td>0.056954</td>\n",
       "      <td>35.738505</td>\n",
       "    </tr>\n",
       "    <tr>\n",
       "      <th>12</th>\n",
       "      <td>13</td>\n",
       "      <td>[qm7_4944, qm7_4119]</td>\n",
       "      <td>[1.0, 1.0, 1.0, 1.0, 1.0, 1.0, 1.0, 1.0, 1.0, ...</td>\n",
       "      <td>107359.0</td>\n",
       "      <td>157359.0</td>\n",
       "      <td>[[(7, 1), (6, 2), (3, 7), (4, 8), (5, 9)], [(2...</td>\n",
       "      <td>[qm7_4119, qm7_4944]</td>\n",
       "      <td>[9.0, 4.0, 1.0, 0.0, 0.0]</td>\n",
       "      <td>[0.0, 0.0, 0.0, 0.0, 0.0]</td>\n",
       "      <td>True</td>\n",
       "      <td>0.056954</td>\n",
       "      <td>35.738505</td>\n",
       "    </tr>\n",
       "    <tr>\n",
       "      <th>13</th>\n",
       "      <td>14</td>\n",
       "      <td>[qm7_4944, qm7_4119]</td>\n",
       "      <td>[1.0, 1.0, 1.0, 1.0, 1.0, 1.0, 1.0, 1.0, 1.0, ...</td>\n",
       "      <td>107359.0</td>\n",
       "      <td>157359.0</td>\n",
       "      <td>[[(7, 1), (6, 2), (3, 7), (4, 8), (5, 9)], [(2...</td>\n",
       "      <td>[qm7_4119, qm7_4944]</td>\n",
       "      <td>[9.0, 4.0, 1.0, 0.0, 0.0]</td>\n",
       "      <td>[0.0, 0.0, 0.0, 0.0, 0.0]</td>\n",
       "      <td>True</td>\n",
       "      <td>0.056954</td>\n",
       "      <td>35.738505</td>\n",
       "    </tr>\n",
       "    <tr>\n",
       "      <th>14</th>\n",
       "      <td>15</td>\n",
       "      <td>[qm7_4944, qm7_4119]</td>\n",
       "      <td>[1.0, 1.0, 1.0, 1.0, 1.0, 1.0, 1.0, 1.0, 1.0, ...</td>\n",
       "      <td>108487.0</td>\n",
       "      <td>158487.0</td>\n",
       "      <td>[[(7, 1), (6, 2), (3, 7), (4, 8), (5, 9)], [(2...</td>\n",
       "      <td>[qm7_4119, qm7_4944]</td>\n",
       "      <td>[9.0, 4.0, 1.0, 0.0, 0.0]</td>\n",
       "      <td>[0.0, 0.0, 0.0, 0.0, 0.0]</td>\n",
       "      <td>True</td>\n",
       "      <td>0.056954</td>\n",
       "      <td>35.738505</td>\n",
       "    </tr>\n",
       "    <tr>\n",
       "      <th>15</th>\n",
       "      <td>16</td>\n",
       "      <td>[qm7_4944, qm7_4119]</td>\n",
       "      <td>[1.0, 1.0, 1.0, 1.0, 1.0, 1.0, 1.0, 1.0, 1.0, ...</td>\n",
       "      <td>108487.0</td>\n",
       "      <td>158487.0</td>\n",
       "      <td>[[(7, 1), (6, 2), (3, 7), (4, 8), (5, 9)], [(2...</td>\n",
       "      <td>[qm7_4119, qm7_4944]</td>\n",
       "      <td>[9.0, 4.0, 1.0, 0.0, 0.0]</td>\n",
       "      <td>[0.0, 0.0, 0.0, 0.0, 0.0]</td>\n",
       "      <td>True</td>\n",
       "      <td>0.056954</td>\n",
       "      <td>35.738505</td>\n",
       "    </tr>\n",
       "    <tr>\n",
       "      <th>...</th>\n",
       "      <td>...</td>\n",
       "      <td>...</td>\n",
       "      <td>...</td>\n",
       "      <td>...</td>\n",
       "      <td>...</td>\n",
       "      <td>...</td>\n",
       "      <td>...</td>\n",
       "      <td>...</td>\n",
       "      <td>...</td>\n",
       "      <td>...</td>\n",
       "      <td>...</td>\n",
       "      <td>...</td>\n",
       "    </tr>\n",
       "    <tr>\n",
       "      <th>892</th>\n",
       "      <td>893</td>\n",
       "      <td>[qm7_5458, qm7_4119]</td>\n",
       "      <td>[1.0, 1.0, 1.0, 1.0, 1.0, 1.0, 1.0, 1.0, 1.0, ...</td>\n",
       "      <td>125757.0</td>\n",
       "      <td>175757.0</td>\n",
       "      <td>[[(6, 2), (7, 6), (2, 7), (3, 8), (4, 9)], [(7...</td>\n",
       "      <td>[qm7_4119, qm7_5458]</td>\n",
       "      <td>[9.0, 4.0, 1.0, 0.0, 0.0]</td>\n",
       "      <td>[0.0, 0.0, 0.0, 0.0, 0.0]</td>\n",
       "      <td>True</td>\n",
       "      <td>0.063797</td>\n",
       "      <td>40.032681</td>\n",
       "    </tr>\n",
       "    <tr>\n",
       "      <th>896</th>\n",
       "      <td>897</td>\n",
       "      <td>[qm7_5455, qm7_5518]</td>\n",
       "      <td>[1.0, 1.0, 1.0, 1.0, 1.0, 1.0, 1.0, 1.0, 1.0, ...</td>\n",
       "      <td>125767.0</td>\n",
       "      <td>175767.0</td>\n",
       "      <td>[[(6, 2), (4, 3), (7, 6), (2, 7), (3, 8)], [(7...</td>\n",
       "      <td>[qm7_5455, qm7_5518]</td>\n",
       "      <td>[9.0, 4.0, 1.0, 0.0, 0.0]</td>\n",
       "      <td>[0.0, 0.0, 0.0, 0.0, 0.0]</td>\n",
       "      <td>True</td>\n",
       "      <td>0.024864</td>\n",
       "      <td>15.601995</td>\n",
       "    </tr>\n",
       "    <tr>\n",
       "      <th>897</th>\n",
       "      <td>898</td>\n",
       "      <td>[qm7_5455, qm7_5518]</td>\n",
       "      <td>[1.0, 1.0, 1.0, 1.0, 1.0, 1.0, 1.0, 1.0, 1.0, ...</td>\n",
       "      <td>125767.0</td>\n",
       "      <td>175767.0</td>\n",
       "      <td>[[(6, 2), (4, 3), (7, 6), (2, 7), (3, 8)], [(7...</td>\n",
       "      <td>[qm7_5455, qm7_5518]</td>\n",
       "      <td>[9.0, 4.0, 1.0, 0.0, 0.0]</td>\n",
       "      <td>[0.0, 0.0, 0.0, 0.0, 0.0]</td>\n",
       "      <td>True</td>\n",
       "      <td>0.024864</td>\n",
       "      <td>15.601995</td>\n",
       "    </tr>\n",
       "    <tr>\n",
       "      <th>978</th>\n",
       "      <td>979</td>\n",
       "      <td>[qm7_4139, qm7_5261]</td>\n",
       "      <td>[1.0, 1.0, 1.0, 1.0, 1.0, 1.0, 1.0, 1.0, 1.0, ...</td>\n",
       "      <td>126290.0</td>\n",
       "      <td>176290.0</td>\n",
       "      <td>[[(6, 3), (7, 4), (4, 5), (5, 6)], [(7, 1), (6...</td>\n",
       "      <td>[qm7_4139, qm7_5261]</td>\n",
       "      <td>[9.0, 4.0, 1.0, 0.0, 0.0]</td>\n",
       "      <td>[0.0, 0.0, 0.0, 0.0, 0.0]</td>\n",
       "      <td>True</td>\n",
       "      <td>0.065553</td>\n",
       "      <td>41.134320</td>\n",
       "    </tr>\n",
       "    <tr>\n",
       "      <th>988</th>\n",
       "      <td>989</td>\n",
       "      <td>[qm7_5544, qm7_4944]</td>\n",
       "      <td>[1.0, 1.0, 1.0, 1.0, 1.0, 1.0, 1.0, 1.0, 1.0, ...</td>\n",
       "      <td>126327.0</td>\n",
       "      <td>176327.0</td>\n",
       "      <td>[[(6, 3), (7, 4), (4, 5), (5, 6)], [(7, 1), (6...</td>\n",
       "      <td>[qm7_4944, qm7_5544]</td>\n",
       "      <td>[9.0, 4.0, 1.0, 0.0, 0.0]</td>\n",
       "      <td>[0.0, 0.0, 0.0, 0.0, 0.0]</td>\n",
       "      <td>True</td>\n",
       "      <td>0.050789</td>\n",
       "      <td>31.869855</td>\n",
       "    </tr>\n",
       "  </tbody>\n",
       "</table>\n",
       "<p>127 rows × 12 columns</p>\n",
       "</div>"
      ],
      "text/plain": [
       "     SolN             Fragments  \\\n",
       "11     12  [qm7_4944, qm7_4119]   \n",
       "12     13  [qm7_4944, qm7_4119]   \n",
       "13     14  [qm7_4944, qm7_4119]   \n",
       "14     15  [qm7_4944, qm7_4119]   \n",
       "15     16  [qm7_4944, qm7_4119]   \n",
       "..    ...                   ...   \n",
       "892   893  [qm7_5458, qm7_4119]   \n",
       "896   897  [qm7_5455, qm7_5518]   \n",
       "897   898  [qm7_5455, qm7_5518]   \n",
       "978   979  [qm7_4139, qm7_5261]   \n",
       "988   989  [qm7_5544, qm7_4944]   \n",
       "\n",
       "                                                Excess  ObjValNoPen  \\\n",
       "11   [1.0, 1.0, 1.0, 1.0, 1.0, 1.0, 1.0, 1.0, 1.0, ...     107359.0   \n",
       "12   [1.0, 1.0, 1.0, 1.0, 1.0, 1.0, 1.0, 1.0, 1.0, ...     107359.0   \n",
       "13   [1.0, 1.0, 1.0, 1.0, 1.0, 1.0, 1.0, 1.0, 1.0, ...     107359.0   \n",
       "14   [1.0, 1.0, 1.0, 1.0, 1.0, 1.0, 1.0, 1.0, 1.0, ...     108487.0   \n",
       "15   [1.0, 1.0, 1.0, 1.0, 1.0, 1.0, 1.0, 1.0, 1.0, ...     108487.0   \n",
       "..                                                 ...          ...   \n",
       "892  [1.0, 1.0, 1.0, 1.0, 1.0, 1.0, 1.0, 1.0, 1.0, ...     125757.0   \n",
       "896  [1.0, 1.0, 1.0, 1.0, 1.0, 1.0, 1.0, 1.0, 1.0, ...     125767.0   \n",
       "897  [1.0, 1.0, 1.0, 1.0, 1.0, 1.0, 1.0, 1.0, 1.0, ...     125767.0   \n",
       "978  [1.0, 1.0, 1.0, 1.0, 1.0, 1.0, 1.0, 1.0, 1.0, ...     126290.0   \n",
       "988  [1.0, 1.0, 1.0, 1.0, 1.0, 1.0, 1.0, 1.0, 1.0, ...     126327.0   \n",
       "\n",
       "     ObjValWithPen                                        Assignments  \\\n",
       "11        157359.0  [[(7, 1), (6, 2), (3, 7), (4, 8), (5, 9)], [(2...   \n",
       "12        157359.0  [[(7, 1), (6, 2), (3, 7), (4, 8), (5, 9)], [(2...   \n",
       "13        157359.0  [[(7, 1), (6, 2), (3, 7), (4, 8), (5, 9)], [(2...   \n",
       "14        158487.0  [[(7, 1), (6, 2), (3, 7), (4, 8), (5, 9)], [(2...   \n",
       "15        158487.0  [[(7, 1), (6, 2), (3, 7), (4, 8), (5, 9)], [(2...   \n",
       "..             ...                                                ...   \n",
       "892       175757.0  [[(6, 2), (7, 6), (2, 7), (3, 8), (4, 9)], [(7...   \n",
       "896       175767.0  [[(6, 2), (4, 3), (7, 6), (2, 7), (3, 8)], [(7...   \n",
       "897       175767.0  [[(6, 2), (4, 3), (7, 6), (2, 7), (3, 8)], [(7...   \n",
       "978       176290.0  [[(6, 3), (7, 4), (4, 5), (5, 6)], [(7, 1), (6...   \n",
       "988       176327.0  [[(6, 3), (7, 4), (4, 5), (5, 6)], [(7, 1), (6...   \n",
       "\n",
       "         Sorted Fragments              Excess Counts  \\\n",
       "11   [qm7_4119, qm7_4944]  [9.0, 4.0, 1.0, 0.0, 0.0]   \n",
       "12   [qm7_4119, qm7_4944]  [9.0, 4.0, 1.0, 0.0, 0.0]   \n",
       "13   [qm7_4119, qm7_4944]  [9.0, 4.0, 1.0, 0.0, 0.0]   \n",
       "14   [qm7_4119, qm7_4944]  [9.0, 4.0, 1.0, 0.0, 0.0]   \n",
       "15   [qm7_4119, qm7_4944]  [9.0, 4.0, 1.0, 0.0, 0.0]   \n",
       "..                    ...                        ...   \n",
       "892  [qm7_4119, qm7_5458]  [9.0, 4.0, 1.0, 0.0, 0.0]   \n",
       "896  [qm7_5455, qm7_5518]  [9.0, 4.0, 1.0, 0.0, 0.0]   \n",
       "897  [qm7_5455, qm7_5518]  [9.0, 4.0, 1.0, 0.0, 0.0]   \n",
       "978  [qm7_4139, qm7_5261]  [9.0, 4.0, 1.0, 0.0, 0.0]   \n",
       "988  [qm7_4944, qm7_5544]  [9.0, 4.0, 1.0, 0.0, 0.0]   \n",
       "\n",
       "                          diff  bool  energies / Ha  energies / kcal/mol  \n",
       "11   [0.0, 0.0, 0.0, 0.0, 0.0]  True       0.056954            35.738505  \n",
       "12   [0.0, 0.0, 0.0, 0.0, 0.0]  True       0.056954            35.738505  \n",
       "13   [0.0, 0.0, 0.0, 0.0, 0.0]  True       0.056954            35.738505  \n",
       "14   [0.0, 0.0, 0.0, 0.0, 0.0]  True       0.056954            35.738505  \n",
       "15   [0.0, 0.0, 0.0, 0.0, 0.0]  True       0.056954            35.738505  \n",
       "..                         ...   ...            ...                  ...  \n",
       "892  [0.0, 0.0, 0.0, 0.0, 0.0]  True       0.063797            40.032681  \n",
       "896  [0.0, 0.0, 0.0, 0.0, 0.0]  True       0.024864            15.601995  \n",
       "897  [0.0, 0.0, 0.0, 0.0, 0.0]  True       0.024864            15.601995  \n",
       "978  [0.0, 0.0, 0.0, 0.0, 0.0]  True       0.065553            41.134320  \n",
       "988  [0.0, 0.0, 0.0, 0.0, 0.0]  True       0.050789            31.869855  \n",
       "\n",
       "[127 rows x 12 columns]"
      ]
     },
     "execution_count": 93,
     "metadata": {},
     "output_type": "execute_result"
    }
   ],
   "source": [
    "slatm_out_sub"
   ]
  },
  {
   "cell_type": "code",
   "execution_count": 94,
   "metadata": {},
   "outputs": [],
   "source": [
    "unique_energies = np.unique(slatm_out_sub[\"energies / Ha\"])"
   ]
  },
  {
   "cell_type": "code",
   "execution_count": 95,
   "metadata": {},
   "outputs": [
    {
     "data": {
      "text/plain": [
       "array([0.01938476, 0.02092185, 0.02486374, 0.02579667, 0.02850746,\n",
       "       0.03236576, 0.0389369 , 0.03920907, 0.04204634, 0.04239063,\n",
       "       0.04328659, 0.04442821, 0.04550988, 0.04586534, 0.0483701 ,\n",
       "       0.04930303, 0.04945177, 0.04989265, 0.0503847 , 0.05078861,\n",
       "       0.05587212, 0.05695379, 0.06244326, 0.06271543, 0.06352493,\n",
       "       0.0637971 , 0.0655527 , 0.06663437])"
      ]
     },
     "execution_count": 95,
     "metadata": {},
     "output_type": "execute_result"
    }
   ],
   "source": [
    "unique_energies"
   ]
  },
  {
   "cell_type": "code",
   "execution_count": 96,
   "metadata": {},
   "outputs": [],
   "source": [
    "args = []\n",
    "for energy in unique_energies: \n",
    "    matches = slatm_out_sub[slatm_out_sub[\"energies / Ha\"] == energy]\n",
    "    # find minimum \n",
    "    argmin = matches[\"ObjValNoPen\"].idxmin()\n",
    "    args.append(argmin)"
   ]
  },
  {
   "cell_type": "code",
   "execution_count": 97,
   "metadata": {},
   "outputs": [],
   "source": [
    "no_duplicates = slatm_out_sub.loc[args]"
   ]
  },
  {
   "cell_type": "code",
   "execution_count": 99,
   "metadata": {},
   "outputs": [
    {
     "data": {
      "image/png": "[encoded data removed]",
      "text/plain": [
       "<Figure size 432x288 with 2 Axes>"
      ]
     },
     "metadata": {
      "needs_background": "light"
     },
     "output_type": "display_data"
    }
   ],
   "source": [
    "fig, ax = plt.subplots(nrows=1, ncols=2)\n",
    "ax[0].scatter(np.sqrt(no_duplicates[\"ObjValNoPen\"]), no_duplicates[\"energies / kcal/mol\"], s=10)\n",
    "ax[0].set_xlabel(\"Sum of atom-wise L2-norm\")\n",
    "ax[0].set_ylabel(\"Reaction energy / kcal/mol\")\n",
    "\n",
    "x = np.exp(-no_duplicates[\"ObjValNoPen\"]/(2*1000**2))\n",
    "ax[1].scatter(x, no_duplicates[\"energies / kcal/mol\"], s=10)\n",
    "ax[1].set_xlabel(\"Similarity\")\n",
    "\n",
    "plt.tight_layout()\n",
    "plt.savefig(\"../figures/correlation-slatm-local-onebalance.png\", dpi=300)\n",
    "plt.show()"
   ]
  },
  {
   "cell_type": "code",
   "execution_count": 80,
   "metadata": {},
   "outputs": [
    {
     "data": {
      "text/plain": [
       "28"
      ]
     },
     "execution_count": 80,
     "metadata": {},
     "output_type": "execute_result"
    }
   ],
   "source": [
    "len(no_duplicates)"
   ]
  },
  {
   "cell_type": "code",
   "execution_count": null,
   "metadata": {},
   "outputs": [],
   "source": []
  }
 ],
 "metadata": {
  "kernelspec": {
   "display_name": "Python 3",
   "language": "python",
   "name": "python3"
  },
  "language_info": {
   "codemirror_mode": {
    "name": "ipython",
    "version": 3
   },
   "file_extension": ".py",
   "mimetype": "text/x-python",
   "name": "python",
   "nbconvert_exporter": "python",
   "pygments_lexer": "ipython3",
   "version": "3.8.3"
  }
 },
 "nbformat": 4,
 "nbformat_minor": 4
}
