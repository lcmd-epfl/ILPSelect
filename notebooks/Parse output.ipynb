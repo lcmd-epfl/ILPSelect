{
 "cells": [
  {
   "cell_type": "code",
   "execution_count": 1,
   "metadata": {},
   "outputs": [],
   "source": [
    "import pandas as pd "
   ]
  },
  {
   "cell_type": "code",
   "execution_count": 2,
   "metadata": {},
   "outputs": [],
   "source": [
    "out = pd.read_csv(\"../out/output_SLATM.csv\", index_col=0)"
   ]
  },
  {
   "cell_type": "code",
   "execution_count": 3,
   "metadata": {},
   "outputs": [
    {
     "data": {
      "text/html": [
       "<div>\n",
       "<style scoped>\n",
       "    .dataframe tbody tr th:only-of-type {\n",
       "        vertical-align: middle;\n",
       "    }\n",
       "\n",
       "    .dataframe tbody tr th {\n",
       "        vertical-align: top;\n",
       "    }\n",
       "\n",
       "    .dataframe thead th {\n",
       "        text-align: right;\n",
       "    }\n",
       "</style>\n",
       "<table border=\"1\" class=\"dataframe\">\n",
       "  <thead>\n",
       "    <tr style=\"text-align: right;\">\n",
       "      <th></th>\n",
       "      <th>SolN</th>\n",
       "      <th>Fragments</th>\n",
       "      <th>Excess</th>\n",
       "      <th>ObjValNoPen</th>\n",
       "      <th>ObjValWithPen</th>\n",
       "      <th>Assignments</th>\n",
       "    </tr>\n",
       "  </thead>\n",
       "  <tbody>\n",
       "    <tr>\n",
       "      <th>0</th>\n",
       "      <td>1</td>\n",
       "      <td>['qm7_1107', 'qm7_5455']</td>\n",
       "      <td>[[6, 6], [6, 6]]</td>\n",
       "      <td>114778.0</td>\n",
       "      <td>154778.0</td>\n",
       "      <td>[[(6, 4), (2, 5), (1, 6), (5, 9)], [(7, 1), (6...</td>\n",
       "    </tr>\n",
       "    <tr>\n",
       "      <th>1</th>\n",
       "      <td>2</td>\n",
       "      <td>['qm7_5455', 'qm7_1107']</td>\n",
       "      <td>[[6, 6], [6, 6]]</td>\n",
       "      <td>114778.0</td>\n",
       "      <td>154778.0</td>\n",
       "      <td>[[(7, 1), (6, 2), (4, 3), (2, 7), (3, 8)], [(6...</td>\n",
       "    </tr>\n",
       "    <tr>\n",
       "      <th>2</th>\n",
       "      <td>3</td>\n",
       "      <td>['qm7_5455', 'qm7_1107']</td>\n",
       "      <td>[[6, 6], [6, 6]]</td>\n",
       "      <td>114778.0</td>\n",
       "      <td>154778.0</td>\n",
       "      <td>[[(7, 1), (6, 2), (4, 3), (2, 7), (3, 8)], [(6...</td>\n",
       "    </tr>\n",
       "    <tr>\n",
       "      <th>3</th>\n",
       "      <td>4</td>\n",
       "      <td>['qm7_51', 'qm7_1112', 'qm7_111']</td>\n",
       "      <td>[[6], [6, 6], [6, 6, 7]]</td>\n",
       "      <td>94791.0</td>\n",
       "      <td>154791.0</td>\n",
       "      <td>[[(2, 7), (3, 8), (4, 9)], [(1, 1), (2, 2), (6...</td>\n",
       "    </tr>\n",
       "    <tr>\n",
       "      <th>4</th>\n",
       "      <td>5</td>\n",
       "      <td>['qm7_51', 'qm7_1112', 'qm7_111']</td>\n",
       "      <td>[[6], [6, 6], [6, 6, 7]]</td>\n",
       "      <td>94791.0</td>\n",
       "      <td>154791.0</td>\n",
       "      <td>[[(2, 7), (3, 8), (4, 9)], [(1, 1), (2, 2), (6...</td>\n",
       "    </tr>\n",
       "    <tr>\n",
       "      <th>...</th>\n",
       "      <td>...</td>\n",
       "      <td>...</td>\n",
       "      <td>...</td>\n",
       "      <td>...</td>\n",
       "      <td>...</td>\n",
       "      <td>...</td>\n",
       "    </tr>\n",
       "    <tr>\n",
       "      <th>995</th>\n",
       "      <td>996</td>\n",
       "      <td>['qm7_5544', 'qm7_47', 'qm7_111']</td>\n",
       "      <td>[[7, 6, 6], [6], [6, 6, 7]]</td>\n",
       "      <td>106335.0</td>\n",
       "      <td>176335.0</td>\n",
       "      <td>[[(4, 2), (6, 3), (7, 4), (5, 6)], [(4, 7), (3...</td>\n",
       "    </tr>\n",
       "    <tr>\n",
       "      <th>996</th>\n",
       "      <td>997</td>\n",
       "      <td>['qm7_6084', 'qm7_6388']</td>\n",
       "      <td>[[8, 6, 6], [6, 6]]</td>\n",
       "      <td>126336.0</td>\n",
       "      <td>176336.0</td>\n",
       "      <td>[[(6, 3), (7, 4), (2, 5), (1, 6)], [(5, 1), (4...</td>\n",
       "    </tr>\n",
       "    <tr>\n",
       "      <th>997</th>\n",
       "      <td>998</td>\n",
       "      <td>['qm7_6084', 'qm7_6388']</td>\n",
       "      <td>[[8, 6, 6], [6, 6]]</td>\n",
       "      <td>126336.0</td>\n",
       "      <td>176336.0</td>\n",
       "      <td>[[(6, 3), (7, 4), (2, 5), (1, 6)], [(5, 1), (4...</td>\n",
       "    </tr>\n",
       "    <tr>\n",
       "      <th>998</th>\n",
       "      <td>999</td>\n",
       "      <td>['qm7_1112', 'qm7_5455']</td>\n",
       "      <td>[[6, 6], [6, 6]]</td>\n",
       "      <td>136353.0</td>\n",
       "      <td>176353.0</td>\n",
       "      <td>[[(1, 1), (2, 2), (6, 3), (5, 4)], [(6, 5), (7...</td>\n",
       "    </tr>\n",
       "    <tr>\n",
       "      <th>999</th>\n",
       "      <td>1000</td>\n",
       "      <td>['qm7_5455', 'qm7_1112']</td>\n",
       "      <td>[[6, 6], [6, 6]]</td>\n",
       "      <td>136353.0</td>\n",
       "      <td>176353.0</td>\n",
       "      <td>[[(6, 5), (7, 6), (2, 7), (3, 8), (4, 9)], [(1...</td>\n",
       "    </tr>\n",
       "  </tbody>\n",
       "</table>\n",
       "<p>1000 rows × 6 columns</p>\n",
       "</div>"
      ],
      "text/plain": [
       "     SolN                          Fragments                       Excess  \\\n",
       "0       1           ['qm7_1107', 'qm7_5455']             [[6, 6], [6, 6]]   \n",
       "1       2           ['qm7_5455', 'qm7_1107']             [[6, 6], [6, 6]]   \n",
       "2       3           ['qm7_5455', 'qm7_1107']             [[6, 6], [6, 6]]   \n",
       "3       4  ['qm7_51', 'qm7_1112', 'qm7_111']     [[6], [6, 6], [6, 6, 7]]   \n",
       "4       5  ['qm7_51', 'qm7_1112', 'qm7_111']     [[6], [6, 6], [6, 6, 7]]   \n",
       "..    ...                                ...                          ...   \n",
       "995   996  ['qm7_5544', 'qm7_47', 'qm7_111']  [[7, 6, 6], [6], [6, 6, 7]]   \n",
       "996   997           ['qm7_6084', 'qm7_6388']          [[8, 6, 6], [6, 6]]   \n",
       "997   998           ['qm7_6084', 'qm7_6388']          [[8, 6, 6], [6, 6]]   \n",
       "998   999           ['qm7_1112', 'qm7_5455']             [[6, 6], [6, 6]]   \n",
       "999  1000           ['qm7_5455', 'qm7_1112']             [[6, 6], [6, 6]]   \n",
       "\n",
       "     ObjValNoPen  ObjValWithPen  \\\n",
       "0       114778.0       154778.0   \n",
       "1       114778.0       154778.0   \n",
       "2       114778.0       154778.0   \n",
       "3        94791.0       154791.0   \n",
       "4        94791.0       154791.0   \n",
       "..           ...            ...   \n",
       "995     106335.0       176335.0   \n",
       "996     126336.0       176336.0   \n",
       "997     126336.0       176336.0   \n",
       "998     136353.0       176353.0   \n",
       "999     136353.0       176353.0   \n",
       "\n",
       "                                           Assignments  \n",
       "0    [[(6, 4), (2, 5), (1, 6), (5, 9)], [(7, 1), (6...  \n",
       "1    [[(7, 1), (6, 2), (4, 3), (2, 7), (3, 8)], [(6...  \n",
       "2    [[(7, 1), (6, 2), (4, 3), (2, 7), (3, 8)], [(6...  \n",
       "3    [[(2, 7), (3, 8), (4, 9)], [(1, 1), (2, 2), (6...  \n",
       "4    [[(2, 7), (3, 8), (4, 9)], [(1, 1), (2, 2), (6...  \n",
       "..                                                 ...  \n",
       "995  [[(4, 2), (6, 3), (7, 4), (5, 6)], [(4, 7), (3...  \n",
       "996  [[(6, 3), (7, 4), (2, 5), (1, 6)], [(5, 1), (4...  \n",
       "997  [[(6, 3), (7, 4), (2, 5), (1, 6)], [(5, 1), (4...  \n",
       "998  [[(1, 1), (2, 2), (6, 3), (5, 4)], [(6, 5), (7...  \n",
       "999  [[(6, 5), (7, 6), (2, 7), (3, 8), (4, 9)], [(1...  \n",
       "\n",
       "[1000 rows x 6 columns]"
      ]
     },
     "execution_count": 3,
     "metadata": {},
     "output_type": "execute_result"
    }
   ],
   "source": [
    "out"
   ]
  },
  {
   "cell_type": "code",
   "execution_count": 4,
   "metadata": {},
   "outputs": [],
   "source": [
    "from ast import literal_eval "
   ]
  },
  {
   "cell_type": "code",
   "execution_count": 5,
   "metadata": {},
   "outputs": [],
   "source": [
    "out[\"Fragments\"] = out[\"Fragments\"].apply(literal_eval)"
   ]
  },
  {
   "cell_type": "code",
   "execution_count": 7,
   "metadata": {},
   "outputs": [],
   "source": [
    "import numpy as np"
   ]
  },
  {
   "cell_type": "code",
   "execution_count": 11,
   "metadata": {},
   "outputs": [],
   "source": [
    "out[\"Sorted Fragments\"] = out[\"Fragments\"].apply(lambda x:sorted(x))"
   ]
  },
  {
   "cell_type": "code",
   "execution_count": 13,
   "metadata": {},
   "outputs": [
    {
     "data": {
      "text/plain": [
       "223"
      ]
     },
     "execution_count": 13,
     "metadata": {},
     "output_type": "execute_result"
    }
   ],
   "source": [
    "len(np.unique(out[\"Sorted Fragments\"]))"
   ]
  },
  {
   "cell_type": "code",
   "execution_count": null,
   "metadata": {},
   "outputs": [],
   "source": []
  }
 ],
 "metadata": {
  "kernelspec": {
   "display_name": "Python 3",
   "language": "python",
   "name": "python3"
  },
  "language_info": {
   "codemirror_mode": {
    "name": "ipython",
    "version": 3
   },
   "file_extension": ".py",
   "mimetype": "text/x-python",
   "name": "python",
   "nbconvert_exporter": "python",
   "pygments_lexer": "ipython3",
   "version": "3.8.3"
  }
 },
 "nbformat": 4,
 "nbformat_minor": 4
}
