{
 "cells": [
  {
   "cell_type": "code",
   "execution_count": 122,
   "metadata": {},
   "outputs": [],
   "source": [
    "import pandas as pd "
   ]
  },
  {
   "cell_type": "code",
   "execution_count": 123,
   "metadata": {},
   "outputs": [],
   "source": [
    "import numpy as np"
   ]
  },
  {
   "cell_type": "code",
   "execution_count": 124,
   "metadata": {},
   "outputs": [
    {
     "name": "stdout",
     "output_type": "stream",
     "text": [
      "1_moreout.out  3_moreout.out  output_aCM.csv   output_SLATM.csv\r\n",
      "2_moreout.out  4_moreout.out  output_FCHL.csv  output_SOAP.csv\r\n"
     ]
    }
   ],
   "source": [
    "!ls ../out"
   ]
  },
  {
   "cell_type": "code",
   "execution_count": 125,
   "metadata": {},
   "outputs": [],
   "source": [
    "slatm_out = pd.read_csv(\"../out/output_SLATM.csv\", index_col=0)"
   ]
  },
  {
   "cell_type": "code",
   "execution_count": 126,
   "metadata": {},
   "outputs": [
    {
     "data": {
      "text/html": [
       "<div>\n",
       "<style scoped>\n",
       "    .dataframe tbody tr th:only-of-type {\n",
       "        vertical-align: middle;\n",
       "    }\n",
       "\n",
       "    .dataframe tbody tr th {\n",
       "        vertical-align: top;\n",
       "    }\n",
       "\n",
       "    .dataframe thead th {\n",
       "        text-align: right;\n",
       "    }\n",
       "</style>\n",
       "<table border=\"1\" class=\"dataframe\">\n",
       "  <thead>\n",
       "    <tr style=\"text-align: right;\">\n",
       "      <th></th>\n",
       "      <th>SolN</th>\n",
       "      <th>Fragments</th>\n",
       "      <th>Excess</th>\n",
       "      <th>ObjValNoPen</th>\n",
       "      <th>ObjValWithPen</th>\n",
       "      <th>Assignments</th>\n",
       "    </tr>\n",
       "  </thead>\n",
       "  <tbody>\n",
       "    <tr>\n",
       "      <th>0</th>\n",
       "      <td>1</td>\n",
       "      <td>['qm7_1107', 'qm7_5455']</td>\n",
       "      <td>[[6, 6], [6, 6]]</td>\n",
       "      <td>114778.0</td>\n",
       "      <td>154778.0</td>\n",
       "      <td>[[(6, 4), (2, 5), (1, 6), (5, 9)], [(7, 1), (6...</td>\n",
       "    </tr>\n",
       "    <tr>\n",
       "      <th>1</th>\n",
       "      <td>2</td>\n",
       "      <td>['qm7_5455', 'qm7_1107']</td>\n",
       "      <td>[[6, 6], [6, 6]]</td>\n",
       "      <td>114778.0</td>\n",
       "      <td>154778.0</td>\n",
       "      <td>[[(7, 1), (6, 2), (4, 3), (2, 7), (3, 8)], [(6...</td>\n",
       "    </tr>\n",
       "    <tr>\n",
       "      <th>2</th>\n",
       "      <td>3</td>\n",
       "      <td>['qm7_5455', 'qm7_1107']</td>\n",
       "      <td>[[6, 6], [6, 6]]</td>\n",
       "      <td>114778.0</td>\n",
       "      <td>154778.0</td>\n",
       "      <td>[[(7, 1), (6, 2), (4, 3), (2, 7), (3, 8)], [(6...</td>\n",
       "    </tr>\n",
       "    <tr>\n",
       "      <th>3</th>\n",
       "      <td>4</td>\n",
       "      <td>['qm7_51', 'qm7_1112', 'qm7_111']</td>\n",
       "      <td>[[6], [6, 6], [6, 6, 7]]</td>\n",
       "      <td>94791.0</td>\n",
       "      <td>154791.0</td>\n",
       "      <td>[[(2, 7), (3, 8), (4, 9)], [(1, 1), (2, 2), (6...</td>\n",
       "    </tr>\n",
       "    <tr>\n",
       "      <th>4</th>\n",
       "      <td>5</td>\n",
       "      <td>['qm7_51', 'qm7_1112', 'qm7_111']</td>\n",
       "      <td>[[6], [6, 6], [6, 6, 7]]</td>\n",
       "      <td>94791.0</td>\n",
       "      <td>154791.0</td>\n",
       "      <td>[[(2, 7), (3, 8), (4, 9)], [(1, 1), (2, 2), (6...</td>\n",
       "    </tr>\n",
       "    <tr>\n",
       "      <th>...</th>\n",
       "      <td>...</td>\n",
       "      <td>...</td>\n",
       "      <td>...</td>\n",
       "      <td>...</td>\n",
       "      <td>...</td>\n",
       "      <td>...</td>\n",
       "    </tr>\n",
       "    <tr>\n",
       "      <th>995</th>\n",
       "      <td>996</td>\n",
       "      <td>['qm7_5544', 'qm7_47', 'qm7_111']</td>\n",
       "      <td>[[7, 6, 6], [6], [6, 6, 7]]</td>\n",
       "      <td>106335.0</td>\n",
       "      <td>176335.0</td>\n",
       "      <td>[[(4, 2), (6, 3), (7, 4), (5, 6)], [(4, 7), (3...</td>\n",
       "    </tr>\n",
       "    <tr>\n",
       "      <th>996</th>\n",
       "      <td>997</td>\n",
       "      <td>['qm7_6084', 'qm7_6388']</td>\n",
       "      <td>[[8, 6, 6], [6, 6]]</td>\n",
       "      <td>126336.0</td>\n",
       "      <td>176336.0</td>\n",
       "      <td>[[(6, 3), (7, 4), (2, 5), (1, 6)], [(5, 1), (4...</td>\n",
       "    </tr>\n",
       "    <tr>\n",
       "      <th>997</th>\n",
       "      <td>998</td>\n",
       "      <td>['qm7_6084', 'qm7_6388']</td>\n",
       "      <td>[[8, 6, 6], [6, 6]]</td>\n",
       "      <td>126336.0</td>\n",
       "      <td>176336.0</td>\n",
       "      <td>[[(6, 3), (7, 4), (2, 5), (1, 6)], [(5, 1), (4...</td>\n",
       "    </tr>\n",
       "    <tr>\n",
       "      <th>998</th>\n",
       "      <td>999</td>\n",
       "      <td>['qm7_1112', 'qm7_5455']</td>\n",
       "      <td>[[6, 6], [6, 6]]</td>\n",
       "      <td>136353.0</td>\n",
       "      <td>176353.0</td>\n",
       "      <td>[[(1, 1), (2, 2), (6, 3), (5, 4)], [(6, 5), (7...</td>\n",
       "    </tr>\n",
       "    <tr>\n",
       "      <th>999</th>\n",
       "      <td>1000</td>\n",
       "      <td>['qm7_5455', 'qm7_1112']</td>\n",
       "      <td>[[6, 6], [6, 6]]</td>\n",
       "      <td>136353.0</td>\n",
       "      <td>176353.0</td>\n",
       "      <td>[[(6, 5), (7, 6), (2, 7), (3, 8), (4, 9)], [(1...</td>\n",
       "    </tr>\n",
       "  </tbody>\n",
       "</table>\n",
       "<p>1000 rows × 6 columns</p>\n",
       "</div>"
      ],
      "text/plain": [
       "     SolN                          Fragments                       Excess  \\\n",
       "0       1           ['qm7_1107', 'qm7_5455']             [[6, 6], [6, 6]]   \n",
       "1       2           ['qm7_5455', 'qm7_1107']             [[6, 6], [6, 6]]   \n",
       "2       3           ['qm7_5455', 'qm7_1107']             [[6, 6], [6, 6]]   \n",
       "3       4  ['qm7_51', 'qm7_1112', 'qm7_111']     [[6], [6, 6], [6, 6, 7]]   \n",
       "4       5  ['qm7_51', 'qm7_1112', 'qm7_111']     [[6], [6, 6], [6, 6, 7]]   \n",
       "..    ...                                ...                          ...   \n",
       "995   996  ['qm7_5544', 'qm7_47', 'qm7_111']  [[7, 6, 6], [6], [6, 6, 7]]   \n",
       "996   997           ['qm7_6084', 'qm7_6388']          [[8, 6, 6], [6, 6]]   \n",
       "997   998           ['qm7_6084', 'qm7_6388']          [[8, 6, 6], [6, 6]]   \n",
       "998   999           ['qm7_1112', 'qm7_5455']             [[6, 6], [6, 6]]   \n",
       "999  1000           ['qm7_5455', 'qm7_1112']             [[6, 6], [6, 6]]   \n",
       "\n",
       "     ObjValNoPen  ObjValWithPen  \\\n",
       "0       114778.0       154778.0   \n",
       "1       114778.0       154778.0   \n",
       "2       114778.0       154778.0   \n",
       "3        94791.0       154791.0   \n",
       "4        94791.0       154791.0   \n",
       "..           ...            ...   \n",
       "995     106335.0       176335.0   \n",
       "996     126336.0       176336.0   \n",
       "997     126336.0       176336.0   \n",
       "998     136353.0       176353.0   \n",
       "999     136353.0       176353.0   \n",
       "\n",
       "                                           Assignments  \n",
       "0    [[(6, 4), (2, 5), (1, 6), (5, 9)], [(7, 1), (6...  \n",
       "1    [[(7, 1), (6, 2), (4, 3), (2, 7), (3, 8)], [(6...  \n",
       "2    [[(7, 1), (6, 2), (4, 3), (2, 7), (3, 8)], [(6...  \n",
       "3    [[(2, 7), (3, 8), (4, 9)], [(1, 1), (2, 2), (6...  \n",
       "4    [[(2, 7), (3, 8), (4, 9)], [(1, 1), (2, 2), (6...  \n",
       "..                                                 ...  \n",
       "995  [[(4, 2), (6, 3), (7, 4), (5, 6)], [(4, 7), (3...  \n",
       "996  [[(6, 3), (7, 4), (2, 5), (1, 6)], [(5, 1), (4...  \n",
       "997  [[(6, 3), (7, 4), (2, 5), (1, 6)], [(5, 1), (4...  \n",
       "998  [[(1, 1), (2, 2), (6, 3), (5, 4)], [(6, 5), (7...  \n",
       "999  [[(6, 5), (7, 6), (2, 7), (3, 8), (4, 9)], [(1...  \n",
       "\n",
       "[1000 rows x 6 columns]"
      ]
     },
     "execution_count": 126,
     "metadata": {},
     "output_type": "execute_result"
    }
   ],
   "source": [
    "slatm_out"
   ]
  },
  {
   "cell_type": "code",
   "execution_count": 127,
   "metadata": {},
   "outputs": [],
   "source": [
    "from ast import literal_eval "
   ]
  },
  {
   "cell_type": "code",
   "execution_count": 128,
   "metadata": {},
   "outputs": [],
   "source": [
    "slatm_out[\"Fragments\"] = slatm_out[\"Fragments\"].apply(literal_eval)"
   ]
  },
  {
   "cell_type": "code",
   "execution_count": 129,
   "metadata": {},
   "outputs": [],
   "source": [
    "slatm_out[\"Sorted Fragments\"] = slatm_out[\"Fragments\"].apply(lambda x:sorted(x))"
   ]
  },
  {
   "cell_type": "code",
   "execution_count": 130,
   "metadata": {},
   "outputs": [
    {
     "data": {
      "text/plain": [
       "223"
      ]
     },
     "execution_count": 130,
     "metadata": {},
     "output_type": "execute_result"
    }
   ],
   "source": [
    "len(np.unique(slatm_out[\"Sorted Fragments\"]))"
   ]
  },
  {
   "cell_type": "code",
   "execution_count": 184,
   "metadata": {},
   "outputs": [],
   "source": [
    "# excess is missing Hs - to fix "
   ]
  },
  {
   "cell_type": "code",
   "execution_count": 185,
   "metadata": {},
   "outputs": [],
   "source": [
    "qm9_mol = qml.Compound(\"../targets/qm9_0.xyz\")\n",
    "qm9_ncharges = qm9_mol.nuclear_charges"
   ]
  },
  {
   "cell_type": "code",
   "execution_count": 186,
   "metadata": {},
   "outputs": [
    {
     "data": {
      "text/plain": [
       "array([8, 6, 6, 7, 6, 8, 8, 7, 6, 1, 1])"
      ]
     },
     "execution_count": 186,
     "metadata": {},
     "output_type": "execute_result"
    }
   ],
   "source": [
    "qm9_ncharges"
   ]
  },
  {
   "cell_type": "code",
   "execution_count": 189,
   "metadata": {},
   "outputs": [],
   "source": [
    "def count_ncharges(list_ncharges, elements=[1,6,7,8,16]):\n",
    "    ncharge_count = np.zeros(len(elements))\n",
    "    for ncharge in list_ncharges:\n",
    "        for i, elem in enumerate(elements):\n",
    "            if ncharge == elem:\n",
    "                ncharge_count[i] += 1\n",
    "    return ncharge_count"
   ]
  },
  {
   "cell_type": "code",
   "execution_count": 190,
   "metadata": {},
   "outputs": [],
   "source": [
    "qm9_counts = count_ncharges(qm9_ncharges)"
   ]
  },
  {
   "cell_type": "code",
   "execution_count": 191,
   "metadata": {},
   "outputs": [
    {
     "data": {
      "text/plain": [
       "array([2., 4., 2., 3., 0.])"
      ]
     },
     "execution_count": 191,
     "metadata": {},
     "output_type": "execute_result"
    }
   ],
   "source": [
    "qm9_counts"
   ]
  },
  {
   "cell_type": "code",
   "execution_count": 107,
   "metadata": {},
   "outputs": [],
   "source": [
    "# get energies\n",
    "# qm7 energies are in qm7 dir \n",
    "# need qm9 energies and excess contribution"
   ]
  },
  {
   "cell_type": "code",
   "execution_count": 145,
   "metadata": {},
   "outputs": [],
   "source": [
    "from sklearn.linear_model import LinearRegression"
   ]
  },
  {
   "cell_type": "code",
   "execution_count": 146,
   "metadata": {},
   "outputs": [],
   "source": [
    "# need ncharges list and list of energies"
   ]
  },
  {
   "cell_type": "code",
   "execution_count": 147,
   "metadata": {},
   "outputs": [],
   "source": [
    "import qml"
   ]
  },
  {
   "cell_type": "code",
   "execution_count": 149,
   "metadata": {},
   "outputs": [],
   "source": [
    "qm7 = pd.read_csv(\"../qm7/energies.csv\", index_col=0)\n",
    "files = qm7[\"file\"].to_list()"
   ]
  },
  {
   "cell_type": "code",
   "execution_count": 150,
   "metadata": {},
   "outputs": [],
   "source": [
    "mols = [qml.Compound(\"../qm7/xyz/\"+x+\".xyz\") for x in files]"
   ]
  },
  {
   "cell_type": "code",
   "execution_count": 151,
   "metadata": {},
   "outputs": [],
   "source": [
    "ncharges = [mol.nuclear_charges for mol in mols]"
   ]
  },
  {
   "cell_type": "code",
   "execution_count": 192,
   "metadata": {},
   "outputs": [],
   "source": [
    "# ncharges convert to count\n",
    "elements = [1, 6, 7, 8, 16]\n",
    "ncharge_counts = []\n",
    "for ncharge_list in ncharges: \n",
    "    ncharge_count = count_ncharges(ncharge_list)\n",
    "    ncharge_counts.append(ncharge_count)"
   ]
  },
  {
   "cell_type": "code",
   "execution_count": 153,
   "metadata": {},
   "outputs": [],
   "source": [
    "energies = qm7[\"energy / Ha\"].to_list()"
   ]
  },
  {
   "cell_type": "code",
   "execution_count": 160,
   "metadata": {},
   "outputs": [],
   "source": [
    "reg = LinearRegression().fit(ncharge_counts, energies)"
   ]
  },
  {
   "cell_type": "code",
   "execution_count": 161,
   "metadata": {},
   "outputs": [
    {
     "data": {
      "text/plain": [
       "0.9999998316921461"
      ]
     },
     "execution_count": 161,
     "metadata": {},
     "output_type": "execute_result"
    }
   ],
   "source": [
    "reg.score(ncharge_counts, energies)"
   ]
  },
  {
   "cell_type": "code",
   "execution_count": 163,
   "metadata": {},
   "outputs": [],
   "source": [
    "coeff_energies = reg.coef_"
   ]
  },
  {
   "cell_type": "code",
   "execution_count": 164,
   "metadata": {},
   "outputs": [
    {
     "data": {
      "text/plain": [
       "array([  -0.61002842,  -38.01906467,  -54.64773278,  -75.09076869,\n",
       "       -397.94238855])"
      ]
     },
     "execution_count": 164,
     "metadata": {},
     "output_type": "execute_result"
    }
   ],
   "source": [
    "coeff_energies"
   ]
  },
  {
   "cell_type": "code",
   "execution_count": 172,
   "metadata": {},
   "outputs": [],
   "source": [
    "coeff_energies = dict(zip(elements, coeff_energies))"
   ]
  },
  {
   "cell_type": "code",
   "execution_count": 173,
   "metadata": {},
   "outputs": [],
   "source": [
    "def match_file_to_energy(filename):\n",
    "    energies = pd.read_csv(\"../qm7/energies.csv\")\n",
    "    energy = energies.loc[energies[\"file\"] == filename][\"energy / Ha\"]\n",
    "    return energy"
   ]
  },
  {
   "cell_type": "code",
   "execution_count": 174,
   "metadata": {},
   "outputs": [],
   "source": [
    "def get_excess_energy(excess_ncharges):\n",
    "    energy = np.sum([coeff_energies[x] for x in excess_ncharges])\n",
    "    return energy"
   ]
  },
  {
   "cell_type": "code",
   "execution_count": 175,
   "metadata": {},
   "outputs": [],
   "source": [
    "def get_reaction_energy(fragment_list, excess_ncharges):\n",
    "    qm9_energy = -487.817450280942 # Ha\n",
    "    \n",
    "    all_excess_ncharges = np.concatenate(excess_ncharges)\n",
    "    excess_energy = get_excess_energy(all_excess_ncharges)\n",
    "    \n",
    "    frag_energies = np.sum([match_file_to_energy(x) for x in fragment_list])\n",
    "    \n",
    "    rxn_energy = frag_energies - qm9_energy - excess_energy\n",
    "    return rxn_energy"
   ]
  },
  {
   "cell_type": "code",
   "execution_count": 180,
   "metadata": {},
   "outputs": [],
   "source": [
    "slatm_out[\"energies / Ha\"] = slatm_out.apply(lambda x: get_reaction_energy(x[\"Fragments\"], x[\"Excess\"]), axis=1)"
   ]
  },
  {
   "cell_type": "code",
   "execution_count": 181,
   "metadata": {},
   "outputs": [],
   "source": [
    "slatm_out[\"energies / kcal/mol\"] = slatm_out[\"energies / Ha\"] * 627.5"
   ]
  },
  {
   "cell_type": "code",
   "execution_count": 182,
   "metadata": {},
   "outputs": [
    {
     "data": {
      "text/html": [
       "<div>\n",
       "<style scoped>\n",
       "    .dataframe tbody tr th:only-of-type {\n",
       "        vertical-align: middle;\n",
       "    }\n",
       "\n",
       "    .dataframe tbody tr th {\n",
       "        vertical-align: top;\n",
       "    }\n",
       "\n",
       "    .dataframe thead th {\n",
       "        text-align: right;\n",
       "    }\n",
       "</style>\n",
       "<table border=\"1\" class=\"dataframe\">\n",
       "  <thead>\n",
       "    <tr style=\"text-align: right;\">\n",
       "      <th></th>\n",
       "      <th>SolN</th>\n",
       "      <th>Fragments</th>\n",
       "      <th>Excess</th>\n",
       "      <th>ObjValNoPen</th>\n",
       "      <th>ObjValWithPen</th>\n",
       "      <th>Assignments</th>\n",
       "      <th>Sorted Fragments</th>\n",
       "      <th>energies</th>\n",
       "      <th>energies / Ha</th>\n",
       "      <th>energies / kcal/mol</th>\n",
       "    </tr>\n",
       "  </thead>\n",
       "  <tbody>\n",
       "    <tr>\n",
       "      <th>0</th>\n",
       "      <td>1</td>\n",
       "      <td>[qm7_1107, qm7_5455]</td>\n",
       "      <td>[[6, 6], [6, 6]]</td>\n",
       "      <td>114778.0</td>\n",
       "      <td>154778.0</td>\n",
       "      <td>[[(6, 4), (2, 5), (1, 6), (5, 9)], [(7, 1), (6...</td>\n",
       "      <td>[qm7_1107, qm7_5455]</td>\n",
       "      <td>-4.821831</td>\n",
       "      <td>-4.821831</td>\n",
       "      <td>-3025.698812</td>\n",
       "    </tr>\n",
       "    <tr>\n",
       "      <th>1</th>\n",
       "      <td>2</td>\n",
       "      <td>[qm7_5455, qm7_1107]</td>\n",
       "      <td>[[6, 6], [6, 6]]</td>\n",
       "      <td>114778.0</td>\n",
       "      <td>154778.0</td>\n",
       "      <td>[[(7, 1), (6, 2), (4, 3), (2, 7), (3, 8)], [(6...</td>\n",
       "      <td>[qm7_1107, qm7_5455]</td>\n",
       "      <td>-4.821831</td>\n",
       "      <td>-4.821831</td>\n",
       "      <td>-3025.698812</td>\n",
       "    </tr>\n",
       "    <tr>\n",
       "      <th>2</th>\n",
       "      <td>3</td>\n",
       "      <td>[qm7_5455, qm7_1107]</td>\n",
       "      <td>[[6, 6], [6, 6]]</td>\n",
       "      <td>114778.0</td>\n",
       "      <td>154778.0</td>\n",
       "      <td>[[(7, 1), (6, 2), (4, 3), (2, 7), (3, 8)], [(6...</td>\n",
       "      <td>[qm7_1107, qm7_5455]</td>\n",
       "      <td>-4.821831</td>\n",
       "      <td>-4.821831</td>\n",
       "      <td>-3025.698812</td>\n",
       "    </tr>\n",
       "    <tr>\n",
       "      <th>3</th>\n",
       "      <td>4</td>\n",
       "      <td>[qm7_51, qm7_1112, qm7_111]</td>\n",
       "      <td>[[6], [6, 6], [6, 6, 7]]</td>\n",
       "      <td>94791.0</td>\n",
       "      <td>154791.0</td>\n",
       "      <td>[[(2, 7), (3, 8), (4, 9)], [(1, 1), (2, 2), (6...</td>\n",
       "      <td>[qm7_111, qm7_1112, qm7_51]</td>\n",
       "      <td>-6.603790</td>\n",
       "      <td>-6.603790</td>\n",
       "      <td>-4143.878466</td>\n",
       "    </tr>\n",
       "    <tr>\n",
       "      <th>4</th>\n",
       "      <td>5</td>\n",
       "      <td>[qm7_51, qm7_1112, qm7_111]</td>\n",
       "      <td>[[6], [6, 6], [6, 6, 7]]</td>\n",
       "      <td>94791.0</td>\n",
       "      <td>154791.0</td>\n",
       "      <td>[[(2, 7), (3, 8), (4, 9)], [(1, 1), (2, 2), (6...</td>\n",
       "      <td>[qm7_111, qm7_1112, qm7_51]</td>\n",
       "      <td>-6.603790</td>\n",
       "      <td>-6.603790</td>\n",
       "      <td>-4143.878466</td>\n",
       "    </tr>\n",
       "    <tr>\n",
       "      <th>...</th>\n",
       "      <td>...</td>\n",
       "      <td>...</td>\n",
       "      <td>...</td>\n",
       "      <td>...</td>\n",
       "      <td>...</td>\n",
       "      <td>...</td>\n",
       "      <td>...</td>\n",
       "      <td>...</td>\n",
       "      <td>...</td>\n",
       "      <td>...</td>\n",
       "    </tr>\n",
       "    <tr>\n",
       "      <th>995</th>\n",
       "      <td>996</td>\n",
       "      <td>[qm7_5544, qm7_47, qm7_111]</td>\n",
       "      <td>[[7, 6, 6], [6], [6, 6, 7]]</td>\n",
       "      <td>106335.0</td>\n",
       "      <td>176335.0</td>\n",
       "      <td>[[(4, 2), (6, 3), (7, 4), (5, 6)], [(4, 7), (3...</td>\n",
       "      <td>[qm7_111, qm7_47, qm7_5544]</td>\n",
       "      <td>-7.263507</td>\n",
       "      <td>-7.263507</td>\n",
       "      <td>-4557.850406</td>\n",
       "    </tr>\n",
       "    <tr>\n",
       "      <th>996</th>\n",
       "      <td>997</td>\n",
       "      <td>[qm7_6084, qm7_6388]</td>\n",
       "      <td>[[8, 6, 6], [6, 6]]</td>\n",
       "      <td>126336.0</td>\n",
       "      <td>176336.0</td>\n",
       "      <td>[[(6, 3), (7, 4), (2, 5), (1, 6)], [(5, 1), (4...</td>\n",
       "      <td>[qm7_6084, qm7_6388]</td>\n",
       "      <td>-2.365496</td>\n",
       "      <td>-2.365496</td>\n",
       "      <td>-1484.348663</td>\n",
       "    </tr>\n",
       "    <tr>\n",
       "      <th>997</th>\n",
       "      <td>998</td>\n",
       "      <td>[qm7_6084, qm7_6388]</td>\n",
       "      <td>[[8, 6, 6], [6, 6]]</td>\n",
       "      <td>126336.0</td>\n",
       "      <td>176336.0</td>\n",
       "      <td>[[(6, 3), (7, 4), (2, 5), (1, 6)], [(5, 1), (4...</td>\n",
       "      <td>[qm7_6084, qm7_6388]</td>\n",
       "      <td>-2.365496</td>\n",
       "      <td>-2.365496</td>\n",
       "      <td>-1484.348663</td>\n",
       "    </tr>\n",
       "    <tr>\n",
       "      <th>998</th>\n",
       "      <td>999</td>\n",
       "      <td>[qm7_1112, qm7_5455]</td>\n",
       "      <td>[[6, 6], [6, 6]]</td>\n",
       "      <td>136353.0</td>\n",
       "      <td>176353.0</td>\n",
       "      <td>[[(1, 1), (2, 2), (6, 3), (5, 4)], [(6, 5), (7...</td>\n",
       "      <td>[qm7_1112, qm7_5455]</td>\n",
       "      <td>-4.808127</td>\n",
       "      <td>-4.808127</td>\n",
       "      <td>-3017.099479</td>\n",
       "    </tr>\n",
       "    <tr>\n",
       "      <th>999</th>\n",
       "      <td>1000</td>\n",
       "      <td>[qm7_5455, qm7_1112]</td>\n",
       "      <td>[[6, 6], [6, 6]]</td>\n",
       "      <td>136353.0</td>\n",
       "      <td>176353.0</td>\n",
       "      <td>[[(6, 5), (7, 6), (2, 7), (3, 8), (4, 9)], [(1...</td>\n",
       "      <td>[qm7_1112, qm7_5455]</td>\n",
       "      <td>-4.808127</td>\n",
       "      <td>-4.808127</td>\n",
       "      <td>-3017.099479</td>\n",
       "    </tr>\n",
       "  </tbody>\n",
       "</table>\n",
       "<p>1000 rows × 10 columns</p>\n",
       "</div>"
      ],
      "text/plain": [
       "     SolN                    Fragments                       Excess  \\\n",
       "0       1         [qm7_1107, qm7_5455]             [[6, 6], [6, 6]]   \n",
       "1       2         [qm7_5455, qm7_1107]             [[6, 6], [6, 6]]   \n",
       "2       3         [qm7_5455, qm7_1107]             [[6, 6], [6, 6]]   \n",
       "3       4  [qm7_51, qm7_1112, qm7_111]     [[6], [6, 6], [6, 6, 7]]   \n",
       "4       5  [qm7_51, qm7_1112, qm7_111]     [[6], [6, 6], [6, 6, 7]]   \n",
       "..    ...                          ...                          ...   \n",
       "995   996  [qm7_5544, qm7_47, qm7_111]  [[7, 6, 6], [6], [6, 6, 7]]   \n",
       "996   997         [qm7_6084, qm7_6388]          [[8, 6, 6], [6, 6]]   \n",
       "997   998         [qm7_6084, qm7_6388]          [[8, 6, 6], [6, 6]]   \n",
       "998   999         [qm7_1112, qm7_5455]             [[6, 6], [6, 6]]   \n",
       "999  1000         [qm7_5455, qm7_1112]             [[6, 6], [6, 6]]   \n",
       "\n",
       "     ObjValNoPen  ObjValWithPen  \\\n",
       "0       114778.0       154778.0   \n",
       "1       114778.0       154778.0   \n",
       "2       114778.0       154778.0   \n",
       "3        94791.0       154791.0   \n",
       "4        94791.0       154791.0   \n",
       "..           ...            ...   \n",
       "995     106335.0       176335.0   \n",
       "996     126336.0       176336.0   \n",
       "997     126336.0       176336.0   \n",
       "998     136353.0       176353.0   \n",
       "999     136353.0       176353.0   \n",
       "\n",
       "                                           Assignments  \\\n",
       "0    [[(6, 4), (2, 5), (1, 6), (5, 9)], [(7, 1), (6...   \n",
       "1    [[(7, 1), (6, 2), (4, 3), (2, 7), (3, 8)], [(6...   \n",
       "2    [[(7, 1), (6, 2), (4, 3), (2, 7), (3, 8)], [(6...   \n",
       "3    [[(2, 7), (3, 8), (4, 9)], [(1, 1), (2, 2), (6...   \n",
       "4    [[(2, 7), (3, 8), (4, 9)], [(1, 1), (2, 2), (6...   \n",
       "..                                                 ...   \n",
       "995  [[(4, 2), (6, 3), (7, 4), (5, 6)], [(4, 7), (3...   \n",
       "996  [[(6, 3), (7, 4), (2, 5), (1, 6)], [(5, 1), (4...   \n",
       "997  [[(6, 3), (7, 4), (2, 5), (1, 6)], [(5, 1), (4...   \n",
       "998  [[(1, 1), (2, 2), (6, 3), (5, 4)], [(6, 5), (7...   \n",
       "999  [[(6, 5), (7, 6), (2, 7), (3, 8), (4, 9)], [(1...   \n",
       "\n",
       "                Sorted Fragments  energies  energies / Ha  energies / kcal/mol  \n",
       "0           [qm7_1107, qm7_5455] -4.821831      -4.821831         -3025.698812  \n",
       "1           [qm7_1107, qm7_5455] -4.821831      -4.821831         -3025.698812  \n",
       "2           [qm7_1107, qm7_5455] -4.821831      -4.821831         -3025.698812  \n",
       "3    [qm7_111, qm7_1112, qm7_51] -6.603790      -6.603790         -4143.878466  \n",
       "4    [qm7_111, qm7_1112, qm7_51] -6.603790      -6.603790         -4143.878466  \n",
       "..                           ...       ...            ...                  ...  \n",
       "995  [qm7_111, qm7_47, qm7_5544] -7.263507      -7.263507         -4557.850406  \n",
       "996         [qm7_6084, qm7_6388] -2.365496      -2.365496         -1484.348663  \n",
       "997         [qm7_6084, qm7_6388] -2.365496      -2.365496         -1484.348663  \n",
       "998         [qm7_1112, qm7_5455] -4.808127      -4.808127         -3017.099479  \n",
       "999         [qm7_1112, qm7_5455] -4.808127      -4.808127         -3017.099479  \n",
       "\n",
       "[1000 rows x 10 columns]"
      ]
     },
     "execution_count": 182,
     "metadata": {},
     "output_type": "execute_result"
    }
   ],
   "source": [
    "slatm_out"
   ]
  },
  {
   "cell_type": "code",
   "execution_count": 178,
   "metadata": {},
   "outputs": [],
   "source": [
    "import matplotlib.pyplot as plt"
   ]
  },
  {
   "cell_type": "code",
   "execution_count": 183,
   "metadata": {},
   "outputs": [
    {
     "data": {
      "text/plain": [
       "Text(0, 0.5, 'Reaction energy / kcal/mol')"
      ]
     },
     "execution_count": 183,
     "metadata": {},
     "output_type": "execute_result"
    },
    {
     "data": {
      "image/png": "[encoded data removed]",
      "text/plain": [
       "<Figure size 432x288 with 1 Axes>"
      ]
     },
     "metadata": {
      "needs_background": "light"
     },
     "output_type": "display_data"
    }
   ],
   "source": [
    "fig, ax = plt.subplots(nrows=1, ncols=1)\n",
    "ax.scatter(slatm_out[\"ObjValNoPen\"], slatm_out[\"energies / kcal/mol\"])\n",
    "ax.set_xlabel(\"Objective value\")\n",
    "ax.set_ylabel(\"Reaction energy / kcal/mol\")"
   ]
  },
  {
   "cell_type": "code",
   "execution_count": null,
   "metadata": {},
   "outputs": [],
   "source": []
  }
 ],
 "metadata": {
  "kernelspec": {
   "display_name": "Python 3",
   "language": "python",
   "name": "python3"
  },
  "language_info": {
   "codemirror_mode": {
    "name": "ipython",
    "version": 3
   },
   "file_extension": ".py",
   "mimetype": "text/x-python",
   "name": "python",
   "nbconvert_exporter": "python",
   "pygments_lexer": "ipython3",
   "version": "3.7.9"
  }
 },
 "nbformat": 4,
 "nbformat_minor": 4
}
