{
 "cells": [
  {
   "cell_type": "code",
   "execution_count": 5,
   "metadata": {},
   "outputs": [],
   "source": [
    "from dscribe.descriptors import SOAP\n",
    "import qml"
   ]
  },
  {
   "cell_type": "code",
   "execution_count": 6,
   "metadata": {},
   "outputs": [],
   "source": [
    "from glob import glob\n",
    "import numpy as np"
   ]
  },
  {
   "cell_type": "code",
   "execution_count": 7,
   "metadata": {},
   "outputs": [],
   "source": [
    "database_xyzs = sorted(glob(\"qm7/*.xyz\"))"
   ]
  },
  {
   "cell_type": "code",
   "execution_count": 8,
   "metadata": {},
   "outputs": [],
   "source": [
    "database_mols = [qml.Compound(x) for x in database_xyzs]"
   ]
  },
  {
   "cell_type": "code",
   "execution_count": 14,
   "metadata": {},
   "outputs": [],
   "source": [
    "pt = {1:\"H\", 6:\"C\", 7:\"N\", 8:\"O\", 9:\"F\", 16:\"S\"}"
   ]
  },
  {
   "cell_type": "code",
   "execution_count": 15,
   "metadata": {},
   "outputs": [],
   "source": [
    "def get_ncharges_coords(mol):\n",
    "    ncharges = mol.nuclear_charges\n",
    "    heavy_ints = [i for i,x in enumerate(ncharges) if x!=1]\n",
    "    symbols = [pt[x] for x in ncharges]\n",
    "    heavy_ncharges = [ncharges[i] for i in heavy_ints]\n",
    "    heavy_symbols = [symbols[i] for i in heavy_ints]\n",
    "    coords = mol.coordinates\n",
    "    heavy_coords = [coords[i] for i in heavy_ints]\n",
    "    return heavy_ncharges, heavy_symbols, heavy_coords"
   ]
  },
  {
   "cell_type": "code",
   "execution_count": 16,
   "metadata": {},
   "outputs": [],
   "source": [
    "import ase"
   ]
  },
  {
   "cell_type": "code",
   "execution_count": 17,
   "metadata": {},
   "outputs": [],
   "source": [
    "def get_rep(mol, elements=[6,7,8,16]):\n",
    "    ncharges, atomtypes, coords = get_ncharges_coords(mol)\n",
    "    atomsobj = ase.Atoms(symbols=atomtypes, positions=coords)\n",
    "    soap = SOAP(\n",
    "             species=elements,\n",
    "             rcut=5.0,\n",
    "             nmax=8,\n",
    "             lmax=8,\n",
    "             sigma=0.2,\n",
    "             periodic=False,\n",
    "             crossover=True,\n",
    "             sparse=False,\n",
    "         )\n",
    "    return ncharges, soap.create(atomsobj)"
   ]
  },
  {
   "cell_type": "code",
   "execution_count": 42,
   "metadata": {},
   "outputs": [],
   "source": [
    "# pad size is based on largest target "
   ]
  },
  {
   "cell_type": "code",
   "execution_count": 19,
   "metadata": {},
   "outputs": [],
   "source": [
    "database_ncharges = []\n",
    "database_reps = []\n",
    "for mol in database_mols:\n",
    "    ncharge, rep = get_rep(mol)\n",
    "    database_ncharges.append(ncharge)\n",
    "    database_reps.append(rep)"
   ]
  },
  {
   "cell_type": "code",
   "execution_count": 20,
   "metadata": {},
   "outputs": [
    {
     "name": "stderr",
     "output_type": "stream",
     "text": [
      "/home/puck/anaconda3/envs/rdkit/lib/python3.7/site-packages/ipykernel_launcher.py:1: VisibleDeprecationWarning: Creating an ndarray from ragged nested sequences (which is a list-or-tuple of lists-or-tuples-or ndarrays with different lengths or shapes) is deprecated. If you meant to do this, you must specify 'dtype=object' when creating the ndarray\n",
      "  \"\"\"Entry point for launching an IPython kernel.\n"
     ]
    }
   ],
   "source": [
    "database_reps = np.array(database_reps)"
   ]
  },
  {
   "cell_type": "code",
   "execution_count": 21,
   "metadata": {},
   "outputs": [],
   "source": [
    "database_labels = [t.split(\"/\")[-1].split(\".xyz\")[0] for t in database_xyzs]"
   ]
  },
  {
   "cell_type": "code",
   "execution_count": 22,
   "metadata": {},
   "outputs": [],
   "source": [
    "database_labels = np.array(database_labels)"
   ]
  },
  {
   "cell_type": "code",
   "execution_count": 23,
   "metadata": {},
   "outputs": [
    {
     "name": "stderr",
     "output_type": "stream",
     "text": [
      "/home/puck/anaconda3/envs/rdkit/lib/python3.7/site-packages/ipykernel_launcher.py:1: VisibleDeprecationWarning: Creating an ndarray from ragged nested sequences (which is a list-or-tuple of lists-or-tuples-or ndarrays with different lengths or shapes) is deprecated. If you meant to do this, you must specify 'dtype=object' when creating the ndarray\n",
      "  \"\"\"Entry point for launching an IPython kernel.\n"
     ]
    }
   ],
   "source": [
    "database_ncharges = np.array(database_ncharges)"
   ]
  },
  {
   "cell_type": "code",
   "execution_count": 24,
   "metadata": {},
   "outputs": [
    {
     "data": {
      "text/plain": [
       "(1, 4752)"
      ]
     },
     "execution_count": 24,
     "metadata": {},
     "output_type": "execute_result"
    }
   ],
   "source": [
    "database_reps[0].shape"
   ]
  },
  {
   "cell_type": "code",
   "execution_count": 25,
   "metadata": {},
   "outputs": [],
   "source": [
    "np.savez(\"database_SOAP.npz\", \n",
    "         database_labels=database_labels, \n",
    "         database_reps=database_reps,\n",
    "        database_ncharges=database_ncharges)"
   ]
  },
  {
   "cell_type": "code",
   "execution_count": 26,
   "metadata": {},
   "outputs": [
    {
     "data": {
      "text/plain": [
       "array(['qm7_0', 'qm7_1', 'qm7_10', ..., 'qm7_997', 'qm7_998', 'qm7_999'],\n",
       "      dtype='<U8')"
      ]
     },
     "execution_count": 26,
     "metadata": {},
     "output_type": "execute_result"
    }
   ],
   "source": [
    "database_labels"
   ]
  },
  {
   "cell_type": "code",
   "execution_count": null,
   "metadata": {},
   "outputs": [],
   "source": []
  }
 ],
 "metadata": {
  "kernelspec": {
   "display_name": "Python 3",
   "language": "python",
   "name": "python3"
  },
  "language_info": {
   "codemirror_mode": {
    "name": "ipython",
    "version": 3
   },
   "file_extension": ".py",
   "mimetype": "text/x-python",
   "name": "python",
   "nbconvert_exporter": "python",
   "pygments_lexer": "ipython3",
   "version": "3.8.3"
  }
 },
 "nbformat": 4,
 "nbformat_minor": 4
}
